{
 "cells": [
  {
   "cell_type": "code",
   "execution_count": null,
   "metadata": {},
   "outputs": [],
   "source": [
    "import numpy as np\n",
    "import matplotlib.pyplot as plt \n",
    "from mpl_toolkits.mplot3d import Axes3D\n",
    "from uszipcode import ZipcodeSearchEngine\n",
    "from geopy.geocoders import Nominatim\n",
    "\n",
    "import pandas as pd\n",
    "import seaborn.apionly as sns\n",
    "from datetime import date, datetime\n",
    "from haversine import haversine\n",
    "\n",
    "# statistics package\n",
    "import statsmodels.api as sm\n",
    "from statsmodels.formula.api import ols\n",
    "from scipy import stats\n",
    "\n",
    "# packages for mapping\n",
    "from mpl_toolkits.basemap import Basemap\n",
    "\n",
    "# packages for interactive graphs\n",
    "from ipywidgets import widgets, interact\n",
    "from IPython.display import display\n",
    "from copy import deepcopy as copy\n",
    "import time\n",
    "from geopy.geocoders import Nominatim\n",
    "from time import sleep\n",
    "import requests\n",
    "import json\n",
    "%matplotlib inline"
   ]
  },
  {
   "cell_type": "code",
   "execution_count": null,
   "metadata": {
    "collapsed": true
   },
   "outputs": [],
   "source": [
    "findzip = ZipcodeSearchEngine()"
   ]
  },
  {
   "cell_type": "code",
   "execution_count": null,
   "metadata": {
    "collapsed": true
   },
   "outputs": [],
   "source": [
    "historical_data = pd.read_csv('train.csv')"
   ]
  },
  {
   "cell_type": "code",
   "execution_count": null,
   "metadata": {
    "collapsed": true
   },
   "outputs": [],
   "source": [
    "weather_dictionary = dict()\n",
    "interval_to_hour = {0:6, 1:12, 2:18, 3:1}"
   ]
  },
  {
   "cell_type": "code",
   "execution_count": null,
   "metadata": {},
   "outputs": [],
   "source": [
    "historical_data.shape"
   ]
  },
  {
   "cell_type": "code",
   "execution_count": null,
   "metadata": {},
   "outputs": [],
   "source": [
    "historical_data.head()"
   ]
  },
  {
   "cell_type": "markdown",
   "metadata": {},
   "source": [
    "## Data Preprocessing"
   ]
  },
  {
   "cell_type": "code",
   "execution_count": null,
   "metadata": {
    "collapsed": true
   },
   "outputs": [],
   "source": [
    "process_train_data = copy(historical_data)"
   ]
  },
  {
   "cell_type": "markdown",
   "metadata": {},
   "source": [
    "## Train Data"
   ]
  },
  {
   "cell_type": "code",
   "execution_count": null,
   "metadata": {},
   "outputs": [],
   "source": [
    "train_data = copy(process_train_data.loc[:100000,])\n",
    "del train_data['Unnamed: 0']\n",
    "train_data.head()"
   ]
  },
  {
   "cell_type": "code",
   "execution_count": null,
   "metadata": {
    "collapsed": true
   },
   "outputs": [],
   "source": [
    "train_data[\"pickup_datetime\"] = pd.to_datetime(train_data[\"pickup_datetime\"])\n",
    "train_data[\"dropoff_datetime\"] = pd.to_datetime(train_data[\"dropoff_datetime\"])"
   ]
  },
  {
   "cell_type": "code",
   "execution_count": null,
   "metadata": {},
   "outputs": [],
   "source": [
    "train_data[\"pickup_day\"] = train_data[\"pickup_datetime\"].apply(lambda x: x.day)\n",
    "train_data[\"pickup_weekday\"] = train_data[\"pickup_datetime\"].apply(lambda x: x.weekday())\n",
    "train_data[\"pickup_hour\"] = train_data[\"pickup_datetime\"].apply(lambda x: x.hour)\n",
    "train_data[\"pickup_minute\"] = train_data[\"pickup_datetime\"].apply(lambda x: x.minute)\n",
    "train_data[\"pickup_time\"] = train_data[\"pickup_hour\"] + (train_data[\"pickup_minute\"] / 60)\n",
    "train_data[\"dropoff_hour\"] = train_data[\"dropoff_datetime\"].apply(lambda x: x.hour)"
   ]
  },
  {
   "cell_type": "code",
   "execution_count": null,
   "metadata": {
    "collapsed": true
   },
   "outputs": [],
   "source": [
    "train_data['pickup_date'] = [date.date() for date in train_data['pickup_datetime']]\n",
    "train_data['dropoff_date'] = [date.date() for date in train_data['dropoff_datetime']]"
   ]
  },
  {
   "cell_type": "markdown",
   "metadata": {},
   "source": [
    "### The distance is calculated in kilometers"
   ]
  },
  {
   "cell_type": "code",
   "execution_count": null,
   "metadata": {
    "collapsed": true
   },
   "outputs": [],
   "source": [
    "def distance(lat1, lon1, lat2, lon2):\n",
    "    \"\"\"calculates the Manhattan distance between 2 points\n",
    "        using their coordinates\n",
    "    \n",
    "    Parameters\n",
    "    ----------\n",
    "    lat1: float\n",
    "        latitude of first point\n",
    "        \n",
    "    lon1: float\n",
    "        longitude of first point\n",
    "        \n",
    "    lat2: float\n",
    "        latitude of second point\n",
    "    \n",
    "    lon2: float\n",
    "        longitude of second point\n",
    "        \n",
    "    Returns\n",
    "    -------\n",
    "    d: float\n",
    "        The Manhattan distance between the two points in kilometers\n",
    "        \n",
    "    \"\"\"\n",
    "    \n",
    "    d = haversine((lat1, lon1), (lat2, lon1)) + haversine((lat2, lon1), (lat2, lon2))\n",
    "    return d"
   ]
  },
  {
   "cell_type": "code",
   "execution_count": null,
   "metadata": {
    "collapsed": true
   },
   "outputs": [],
   "source": [
    "train_data[\"distance\"] = train_data.apply(lambda row: distance(row[\"pickup_latitude\"], \n",
    "                                               row[\"pickup_longitude\"], \n",
    "                                               row[\"dropoff_latitude\"], \n",
    "                                               row[\"dropoff_longitude\"]), axis=1)"
   ]
  },
  {
   "cell_type": "markdown",
   "metadata": {},
   "source": [
    "### The speed is calculated in km/h"
   ]
  },
  {
   "cell_type": "code",
   "execution_count": null,
   "metadata": {
    "collapsed": true
   },
   "outputs": [],
   "source": [
    "train_data[\"speed\"] = train_data[\"distance\"] / (train_data[\"trip_time_in_secs\"] / 3600)"
   ]
  },
  {
   "cell_type": "code",
   "execution_count": null,
   "metadata": {},
   "outputs": [],
   "source": [
    "pickup_datetime = train_data['pickup_datetime']\n",
    "day_interval = []\n",
    "for pickup_date in pickup_datetime:\n",
    "    hour = pickup_date.hour\n",
    "    if hour>=6 and hour<12:\n",
    "        day_interval.append(0)\n",
    "    elif hour>=12 and hour<18:\n",
    "        day_interval.append(1)\n",
    "    elif hour>=18 and hour<24:\n",
    "        day_interval.append(2)\n",
    "    else:\n",
    "        day_interval.append(3)\n",
    "train_data['day_interval'] = day_interval"
   ]
  },
  {
   "cell_type": "code",
   "execution_count": null,
   "metadata": {
    "collapsed": true
   },
   "outputs": [],
   "source": [
    "def add_waiting_time_and_penalty(train_data):\n",
    "    sorted_train_data = copy(train_data.sort_values(by=['hack_license', 'pickup_datetime'], ascending=True))\n",
    "    sorted_train_data['waiting_time'] = 0.0\n",
    "    sorted_train_data['waiting_penalty'] = 0.0\n",
    "    previous_license = None\n",
    "    previous_drpoff_datatime = 0\n",
    "    previous_date = None\n",
    "    previous_row = None\n",
    "    wait_time_list = []\n",
    "    wait_penalty_list = []\n",
    "    average_speed = sorted_train_data['speed'].mean()\n",
    "    for index,row in sorted_train_data.T.iteritems():\n",
    "        if row['hack_license'] == previous_license and row['pickup_date'] == previous_date:\n",
    "            diff =  row['pickup_datetime'] - previous_row['dropoff_datetime']\n",
    "            _distance = distance(row[\"pickup_latitude\"], row[\"pickup_longitude\"], previous_row[\"dropoff_latitude\"], previous_row[\"dropoff_longitude\"])\n",
    "            speed = row['speed']\n",
    "            if(speed <= 0):\n",
    "                speed = average_speed\n",
    "            time_take_to_reach = (_distance/speed)*3600\n",
    "            if (time_take_to_reach>diff.total_seconds()):\n",
    "                wait_time_list.append(0.0)\n",
    "                wait_penalty_list.append(0.0)\n",
    "            else:\n",
    "                wait_time_list.append(diff.total_seconds()-time_take_to_reach)\n",
    "                wait_penalty_list.append((diff.total_seconds()-time_take_to_reach)/3600*5)\n",
    "        else:\n",
    "            wait_time_list.append(0.0)\n",
    "            previous_license = row['hack_license'] \n",
    "            previous_date = row['pickup_date']\n",
    "            previous_row = row\n",
    "            wait_penalty_list.append(0.0)\n",
    "    sorted_train_data['waiting_time'] = wait_time_list\n",
    "    sorted_train_data['waiting_penalty'] = wait_penalty_list\n",
    "    return sorted_train_data"
   ]
  },
  {
   "cell_type": "code",
   "execution_count": null,
   "metadata": {},
   "outputs": [],
   "source": [
    "sorted_train_data = add_waiting_time_and_penalty(train_data)\n",
    "sorted_train_data.head()"
   ]
  },
  {
   "cell_type": "markdown",
   "metadata": {},
   "source": [
    "## Introduce Zip Code in the Historical Data"
   ]
  },
  {
   "cell_type": "code",
   "execution_count": null,
   "metadata": {
    "collapsed": true
   },
   "outputs": [],
   "source": [
    "trip_data_with_zip_code = copy(sorted_train_data)"
   ]
  },
  {
   "cell_type": "code",
   "execution_count": 241,
   "metadata": {
    "collapsed": true
   },
   "outputs": [],
   "source": [
    "def get_weather(lat, lon, pickup_datetime):\n",
    "    base_url = 'http://api.openweathermap.org/data/2.5/forecast?'\n",
    "    payload = {\n",
    "                    'lat': lat,\n",
    "                    'lon': lon,\n",
    "                    'start': pickup_datetime,\n",
    "                    'cnt': 1,\n",
    "                    'APPID': 'e42277154fa7b3c31cb3b98fae71c220'\n",
    "                    }\n",
    "    r = requests.get(base_url, params=payload)\n",
    "    if 'list' in r.json() and 'weather' in r.json()['list'][0] and 'main' in r.json()['list'][0]['weather'][0]:\n",
    "        return r.json()['list'][0]['weather'][0]['main']\n",
    "    else:\n",
    "        return 'Clear'"
   ]
  },
  {
   "cell_type": "code",
   "execution_count": 341,
   "metadata": {
    "collapsed": true
   },
   "outputs": [],
   "source": [
    "# documentation: https://pythonhosted.org/uszipcode/#by-coordinate\n",
    "def add_zip_code_and_weather(trip_data):\n",
    "    pickup_zipcode_list = []\n",
    "    dropoff_zipcode_list = []\n",
    "    trip_data['pickup_zipcode'] = None\n",
    "    trip_data['dropoff_zipcode']  = None\n",
    "    ## load previous weathers\n",
    "    with open('weather_data.json', 'r') as fp:\n",
    "        weather_dictionary = json.load(fp)\n",
    "    weather_list = []\n",
    "    count = 0\n",
    "    for index,row in trip_data.T.iteritems():\n",
    "        pickup_res = findzip.by_coordinate(row['pickup_latitude'], row['pickup_longitude'], radius=10, returns=1)\n",
    "        if(len(pickup_res) > 0):\n",
    "            zipcode = pickup_res[0][\"Zipcode\"]\n",
    "        else:\n",
    "            zipcode = 'NaN'\n",
    "        pickup_zipcode_list.append(zipcode)\n",
    "\n",
    "        dropoff_res = findzip.by_coordinate(row['dropoff_latitude'], row['dropoff_longitude'], radius=10, returns=1)\n",
    "        if(len(dropoff_res) > 0):\n",
    "            zipcode = dropoff_res[0][\"Zipcode\"]\n",
    "        else:\n",
    "            zipcode = 'NaN'\n",
    "        dropoff_zipcode_list.append(zipcode)\n",
    "        \n",
    "        ## Add historical weather\n",
    "        key = str(row['pickup_zipcode']) + '_' + str(row['pickup_date']) + '_' + str(row['day_interval'])\n",
    "        if key not in weather_dictionary:\n",
    "            _date = datetime.strptime(str(row['pickup_date']), '%Y-%m-%d')\n",
    "            _date = _date.replace(hour=interval_to_hour[row['day_interval']])\n",
    "            weather_dictionary[key] = get_weather(row['pickup_latitude'], row['pickup_longitude'], time.mktime(_date.timetuple()))\n",
    "            count += 1\n",
    "            if count >= 60:\n",
    "                count = 0\n",
    "                sleep(60)\n",
    "        weather_list.append(weather_dictionary[key])\n",
    "    trip_data['pickup_zipcode'] = pickup_zipcode_list\n",
    "    trip_data['dropoff_zipcode'] = dropoff_zipcode_list\n",
    "    trip_data['weather'] = weather_list\n",
    "    ## store weathers \n",
    "    with open('weather_data.json', 'w') as fp:\n",
    "        json.dump(weather_dictionary, fp)\n"
   ]
  },
  {
   "cell_type": "code",
   "execution_count": null,
   "metadata": {
    "collapsed": true
   },
   "outputs": [],
   "source": [
    "add_zip_code_and_weather(trip_data_with_zip_code)"
   ]
  },
  {
   "cell_type": "code",
   "execution_count": null,
   "metadata": {},
   "outputs": [],
   "source": [
    "trip_data_with_zip_code = copy(trip_data_with_zip_code[(str(trip_data_with_zip_code['pickup_zipcode']) != 'NaN') & (str(trip_data_with_zip_code['dropoff_zipcode']) != 'NaN')])"
   ]
  },
  {
   "cell_type": "code",
   "execution_count": null,
   "metadata": {
    "collapsed": true
   },
   "outputs": [],
   "source": [
    "trip_data_with_zip_code.head()"
   ]
  },
  {
   "cell_type": "markdown",
   "metadata": {},
   "source": [
    "## Store Data"
   ]
  },
  {
   "cell_type": "code",
   "execution_count": 192,
   "metadata": {
    "collapsed": true
   },
   "outputs": [],
   "source": [
    "trip_data_with_zip_code.to_csv('clean_data6.csv', index=False )"
   ]
  },
  {
   "cell_type": "markdown",
   "metadata": {},
   "source": [
    "## Check Data"
   ]
  },
  {
   "cell_type": "code",
   "execution_count": 239,
   "metadata": {},
   "outputs": [],
   "source": [
    "check_data = pd.read_csv('clean_data_6.csv')"
   ]
  },
  {
   "cell_type": "code",
   "execution_count": 240,
   "metadata": {},
   "outputs": [
    {
     "data": {
      "text/html": [
       "<div>\n",
       "<style>\n",
       "    .dataframe thead tr:only-child th {\n",
       "        text-align: right;\n",
       "    }\n",
       "\n",
       "    .dataframe thead th {\n",
       "        text-align: left;\n",
       "    }\n",
       "\n",
       "    .dataframe tbody tr th {\n",
       "        vertical-align: top;\n",
       "    }\n",
       "</style>\n",
       "<table border=\"1\" class=\"dataframe\">\n",
       "  <thead>\n",
       "    <tr style=\"text-align: right;\">\n",
       "      <th></th>\n",
       "      <th>medallion</th>\n",
       "      <th>hack_license</th>\n",
       "      <th>vendor_id</th>\n",
       "      <th>rate_code</th>\n",
       "      <th>store_and_fwd_flag</th>\n",
       "      <th>pickup_datetime</th>\n",
       "      <th>dropoff_datetime</th>\n",
       "      <th>passenger_count</th>\n",
       "      <th>trip_time_in_secs</th>\n",
       "      <th>trip_distance</th>\n",
       "      <th>...</th>\n",
       "      <th>pickup_date</th>\n",
       "      <th>dropoff_date</th>\n",
       "      <th>distance</th>\n",
       "      <th>speed</th>\n",
       "      <th>day_interval</th>\n",
       "      <th>waiting_time</th>\n",
       "      <th>waiting_penalty</th>\n",
       "      <th>pickup_zipcode</th>\n",
       "      <th>dropoff_zipcode</th>\n",
       "      <th>weather</th>\n",
       "    </tr>\n",
       "  </thead>\n",
       "  <tbody>\n",
       "    <tr>\n",
       "      <th>0</th>\n",
       "      <td>BE530E79CB7E459DEF5BBDF2F319EDC1</td>\n",
       "      <td>0002555BBE359440D6CEB34B699D3932</td>\n",
       "      <td>CMT</td>\n",
       "      <td>1</td>\n",
       "      <td>N</td>\n",
       "      <td>2013-01-01 19:00:00</td>\n",
       "      <td>2013-01-01 19:16:33</td>\n",
       "      <td>1</td>\n",
       "      <td>992</td>\n",
       "      <td>7.9</td>\n",
       "      <td>...</td>\n",
       "      <td>2013-01-01</td>\n",
       "      <td>2013-01-01</td>\n",
       "      <td>11.499047</td>\n",
       "      <td>41.730414</td>\n",
       "      <td>2</td>\n",
       "      <td>0.000000</td>\n",
       "      <td>0.000000</td>\n",
       "      <td>11371</td>\n",
       "      <td>10016</td>\n",
       "      <td>Rain</td>\n",
       "    </tr>\n",
       "    <tr>\n",
       "      <th>1</th>\n",
       "      <td>BE530E79CB7E459DEF5BBDF2F319EDC1</td>\n",
       "      <td>0002555BBE359440D6CEB34B699D3932</td>\n",
       "      <td>CMT</td>\n",
       "      <td>1</td>\n",
       "      <td>N</td>\n",
       "      <td>2013-01-01 19:52:35</td>\n",
       "      <td>2013-01-01 19:58:07</td>\n",
       "      <td>2</td>\n",
       "      <td>331</td>\n",
       "      <td>1.5</td>\n",
       "      <td>...</td>\n",
       "      <td>2013-01-01</td>\n",
       "      <td>2013-01-01</td>\n",
       "      <td>3.178577</td>\n",
       "      <td>34.570622</td>\n",
       "      <td>2</td>\n",
       "      <td>2016.523623</td>\n",
       "      <td>2.800727</td>\n",
       "      <td>10174</td>\n",
       "      <td>10009</td>\n",
       "      <td>Rain</td>\n",
       "    </tr>\n",
       "    <tr>\n",
       "      <th>2</th>\n",
       "      <td>BE530E79CB7E459DEF5BBDF2F319EDC1</td>\n",
       "      <td>0002555BBE359440D6CEB34B699D3932</td>\n",
       "      <td>CMT</td>\n",
       "      <td>1</td>\n",
       "      <td>N</td>\n",
       "      <td>2013-01-01 21:23:24</td>\n",
       "      <td>2013-01-01 21:40:06</td>\n",
       "      <td>1</td>\n",
       "      <td>1001</td>\n",
       "      <td>9.2</td>\n",
       "      <td>...</td>\n",
       "      <td>2013-01-01</td>\n",
       "      <td>2013-01-01</td>\n",
       "      <td>13.149924</td>\n",
       "      <td>47.292434</td>\n",
       "      <td>2</td>\n",
       "      <td>6736.024510</td>\n",
       "      <td>9.355590</td>\n",
       "      <td>11371</td>\n",
       "      <td>10009</td>\n",
       "      <td>Rain</td>\n",
       "    </tr>\n",
       "    <tr>\n",
       "      <th>3</th>\n",
       "      <td>BE530E79CB7E459DEF5BBDF2F319EDC1</td>\n",
       "      <td>0002555BBE359440D6CEB34B699D3932</td>\n",
       "      <td>CMT</td>\n",
       "      <td>1</td>\n",
       "      <td>N</td>\n",
       "      <td>2013-01-01 23:01:07</td>\n",
       "      <td>2013-01-01 23:05:41</td>\n",
       "      <td>2</td>\n",
       "      <td>273</td>\n",
       "      <td>1.7</td>\n",
       "      <td>...</td>\n",
       "      <td>2013-01-01</td>\n",
       "      <td>2013-01-01</td>\n",
       "      <td>0.475662</td>\n",
       "      <td>6.272460</td>\n",
       "      <td>2</td>\n",
       "      <td>6067.954056</td>\n",
       "      <td>8.427714</td>\n",
       "      <td>11369</td>\n",
       "      <td>11369</td>\n",
       "      <td>Rain</td>\n",
       "    </tr>\n",
       "    <tr>\n",
       "      <th>4</th>\n",
       "      <td>BE530E79CB7E459DEF5BBDF2F319EDC1</td>\n",
       "      <td>0002555BBE359440D6CEB34B699D3932</td>\n",
       "      <td>CMT</td>\n",
       "      <td>1</td>\n",
       "      <td>N</td>\n",
       "      <td>2013-01-01 23:40:33</td>\n",
       "      <td>2013-01-01 23:53:54</td>\n",
       "      <td>1</td>\n",
       "      <td>801</td>\n",
       "      <td>7.5</td>\n",
       "      <td>...</td>\n",
       "      <td>2013-01-01</td>\n",
       "      <td>2013-01-01</td>\n",
       "      <td>6.674613</td>\n",
       "      <td>29.998262</td>\n",
       "      <td>2</td>\n",
       "      <td>14321.085900</td>\n",
       "      <td>19.890397</td>\n",
       "      <td>11371</td>\n",
       "      <td>10128</td>\n",
       "      <td>Rain</td>\n",
       "    </tr>\n",
       "  </tbody>\n",
       "</table>\n",
       "<p>5 rows × 37 columns</p>\n",
       "</div>"
      ],
      "text/plain": [
       "                          medallion                      hack_license  \\\n",
       "0  BE530E79CB7E459DEF5BBDF2F319EDC1  0002555BBE359440D6CEB34B699D3932   \n",
       "1  BE530E79CB7E459DEF5BBDF2F319EDC1  0002555BBE359440D6CEB34B699D3932   \n",
       "2  BE530E79CB7E459DEF5BBDF2F319EDC1  0002555BBE359440D6CEB34B699D3932   \n",
       "3  BE530E79CB7E459DEF5BBDF2F319EDC1  0002555BBE359440D6CEB34B699D3932   \n",
       "4  BE530E79CB7E459DEF5BBDF2F319EDC1  0002555BBE359440D6CEB34B699D3932   \n",
       "\n",
       "  vendor_id  rate_code store_and_fwd_flag      pickup_datetime  \\\n",
       "0       CMT          1                  N  2013-01-01 19:00:00   \n",
       "1       CMT          1                  N  2013-01-01 19:52:35   \n",
       "2       CMT          1                  N  2013-01-01 21:23:24   \n",
       "3       CMT          1                  N  2013-01-01 23:01:07   \n",
       "4       CMT          1                  N  2013-01-01 23:40:33   \n",
       "\n",
       "      dropoff_datetime  passenger_count  trip_time_in_secs  trip_distance  \\\n",
       "0  2013-01-01 19:16:33                1                992            7.9   \n",
       "1  2013-01-01 19:58:07                2                331            1.5   \n",
       "2  2013-01-01 21:40:06                1               1001            9.2   \n",
       "3  2013-01-01 23:05:41                2                273            1.7   \n",
       "4  2013-01-01 23:53:54                1                801            7.5   \n",
       "\n",
       "    ...     pickup_date  dropoff_date   distance      speed  day_interval  \\\n",
       "0   ...      2013-01-01    2013-01-01  11.499047  41.730414             2   \n",
       "1   ...      2013-01-01    2013-01-01   3.178577  34.570622             2   \n",
       "2   ...      2013-01-01    2013-01-01  13.149924  47.292434             2   \n",
       "3   ...      2013-01-01    2013-01-01   0.475662   6.272460             2   \n",
       "4   ...      2013-01-01    2013-01-01   6.674613  29.998262             2   \n",
       "\n",
       "   waiting_time  waiting_penalty  pickup_zipcode  dropoff_zipcode  weather  \n",
       "0      0.000000         0.000000           11371            10016     Rain  \n",
       "1   2016.523623         2.800727           10174            10009     Rain  \n",
       "2   6736.024510         9.355590           11371            10009     Rain  \n",
       "3   6067.954056         8.427714           11369            11369     Rain  \n",
       "4  14321.085900        19.890397           11371            10128     Rain  \n",
       "\n",
       "[5 rows x 37 columns]"
      ]
     },
     "execution_count": 240,
     "metadata": {},
     "output_type": "execute_result"
    }
   ],
   "source": [
    "check_data.head()"
   ]
  },
  {
   "cell_type": "markdown",
   "metadata": {},
   "source": [
    "## Build Weather Dictionary"
   ]
  },
  {
   "cell_type": "markdown",
   "metadata": {},
   "source": [
    "### Read Weather Data from File"
   ]
  },
  {
   "cell_type": "code",
   "execution_count": 262,
   "metadata": {},
   "outputs": [],
   "source": [
    "with open('weather_data.json', 'r') as fp:\n",
    "    weather_dictionary = json.load(fp)"
   ]
  },
  {
   "cell_type": "code",
   "execution_count": null,
   "metadata": {
    "collapsed": true
   },
   "outputs": [],
   "source": [
    "trip_data_with_weather = copy(trip_data_with_zip_code)"
   ]
  },
  {
   "cell_type": "code",
   "execution_count": 205,
   "metadata": {},
   "outputs": [],
   "source": [
    "def build_weather_dictionary(trip_data):\n",
    "    count = 0\n",
    "    weather_list = []\n",
    "    for index,row in trip_data.T.iteritems():\n",
    "        key = str(row['pickup_zipcode']) + '_' + str(row['pickup_date']) + '_' + str(row['day_interval'])\n",
    "        if key not in weather_dictionary:\n",
    "            _date = datetime.strptime(row['pickup_date'], '%Y-%m-%d')\n",
    "            _date = _date.replace(hour=interval_to_hour[row['day_interval']])\n",
    "            weather_dictionary[key] = get_weather(row['pickup_latitude'], row['pickup_longitude'], time.mktime(_date.timetuple()))\n",
    "            count += 1\n",
    "            if count >= 60:\n",
    "                count = 0\n",
    "                sleep(60)\n",
    "        else:\n",
    "            pass\n",
    "        weather_list.append(weather_dictionary[key])\n",
    "    trip_data['weather'] = weather_list\n"
   ]
  },
  {
   "cell_type": "code",
   "execution_count": null,
   "metadata": {
    "collapsed": true
   },
   "outputs": [],
   "source": [
    "build_weather_dictionary(trip_data_with_weather)"
   ]
  },
  {
   "cell_type": "markdown",
   "metadata": {},
   "source": [
    "## Store Weather Dictionary"
   ]
  },
  {
   "cell_type": "code",
   "execution_count": 261,
   "metadata": {
    "collapsed": true
   },
   "outputs": [],
   "source": [
    "with open('weather_data.json', 'w') as fp:\n",
    "    json.dump(weather_dictionary, fp)"
   ]
  }
 ],
 "metadata": {
  "kernelspec": {
   "display_name": "Python 3",
   "language": "python",
   "name": "python3"
  },
  "language_info": {
   "codemirror_mode": {
    "name": "ipython",
    "version": 3
   },
   "file_extension": ".py",
   "mimetype": "text/x-python",
   "name": "python",
   "nbconvert_exporter": "python",
   "pygments_lexer": "ipython3",
   "version": "3.6.3"
  }
 },
 "nbformat": 4,
 "nbformat_minor": 2
}
