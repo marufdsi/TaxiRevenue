{
 "cells": [
  {
   "cell_type": "code",
   "execution_count": 13,
   "metadata": {},
   "outputs": [],
   "source": [
    "import numpy as np\n",
    "import matplotlib.pyplot as plt \n",
    "from mpl_toolkits.mplot3d import Axes3D\n",
    "from uszipcode import ZipcodeSearchEngine\n",
    "from geopy.geocoders import Nominatim\n",
    "\n",
    "import pandas as pd\n",
    "import seaborn.apionly as sns\n",
    "from datetime import date, datetime\n",
    "from haversine import haversine\n",
    "\n",
    "# statistics package\n",
    "import statsmodels.api as sm\n",
    "from statsmodels.formula.api import ols\n",
    "from scipy import stats\n",
    "from random import randint\n",
    "# packages for mapping\n",
    "from mpl_toolkits.basemap import Basemap\n",
    "\n",
    "# packages for interactive graphs\n",
    "from ipywidgets import widgets, interact\n",
    "from IPython.display import display\n",
    "from copy import deepcopy as copy\n",
    "import time\n",
    "from geopy.geocoders import Nominatim\n",
    "\n",
    "from time import sleep\n",
    "import requests\n",
    "import time,datetime\n",
    "import os\n",
    "import json\n",
    "%matplotlib inline"
   ]
  },
  {
   "cell_type": "code",
   "execution_count": 14,
   "metadata": {
    "collapsed": true
   },
   "outputs": [],
   "source": [
    "findzip = ZipcodeSearchEngine()"
   ]
  },
  {
   "cell_type": "code",
   "execution_count": 3,
   "metadata": {
    "collapsed": true
   },
   "outputs": [],
   "source": [
    "historical_data = pd.read_csv('clean_data_2.csv')"
   ]
  },
  {
   "cell_type": "code",
   "execution_count": 4,
   "metadata": {},
   "outputs": [
    {
     "data": {
      "text/html": [
       "<div>\n",
       "<style>\n",
       "    .dataframe thead tr:only-child th {\n",
       "        text-align: right;\n",
       "    }\n",
       "\n",
       "    .dataframe thead th {\n",
       "        text-align: left;\n",
       "    }\n",
       "\n",
       "    .dataframe tbody tr th {\n",
       "        vertical-align: top;\n",
       "    }\n",
       "</style>\n",
       "<table border=\"1\" class=\"dataframe\">\n",
       "  <thead>\n",
       "    <tr style=\"text-align: right;\">\n",
       "      <th></th>\n",
       "      <th>medallion</th>\n",
       "      <th>hack_license</th>\n",
       "      <th>vendor_id</th>\n",
       "      <th>rate_code</th>\n",
       "      <th>store_and_fwd_flag</th>\n",
       "      <th>pickup_datetime</th>\n",
       "      <th>dropoff_datetime</th>\n",
       "      <th>passenger_count</th>\n",
       "      <th>trip_time_in_secs</th>\n",
       "      <th>trip_distance</th>\n",
       "      <th>...</th>\n",
       "      <th>pickup_date</th>\n",
       "      <th>dropoff_date</th>\n",
       "      <th>distance</th>\n",
       "      <th>speed</th>\n",
       "      <th>day_interval</th>\n",
       "      <th>waiting_time</th>\n",
       "      <th>waiting_penalty</th>\n",
       "      <th>pickup_zipcode</th>\n",
       "      <th>dropoff_zipcode</th>\n",
       "      <th>weather</th>\n",
       "    </tr>\n",
       "  </thead>\n",
       "  <tbody>\n",
       "    <tr>\n",
       "      <th>0</th>\n",
       "      <td>8FA6FBF2D595A1080BCCE03FC2C213F7</td>\n",
       "      <td>0008B3E338CE8C3377E071A4D80D3694</td>\n",
       "      <td>VTS</td>\n",
       "      <td>1</td>\n",
       "      <td>NaN</td>\n",
       "      <td>2013-01-14 19:53:00</td>\n",
       "      <td>2013-01-14 20:12:00</td>\n",
       "      <td>1</td>\n",
       "      <td>1140</td>\n",
       "      <td>10.65</td>\n",
       "      <td>...</td>\n",
       "      <td>2013-01-14</td>\n",
       "      <td>2013-01-14</td>\n",
       "      <td>17.309398</td>\n",
       "      <td>54.661255</td>\n",
       "      <td>2</td>\n",
       "      <td>0.000000</td>\n",
       "      <td>0.000000</td>\n",
       "      <td>11371</td>\n",
       "      <td>11205</td>\n",
       "      <td>Rain</td>\n",
       "    </tr>\n",
       "    <tr>\n",
       "      <th>1</th>\n",
       "      <td>8FA6FBF2D595A1080BCCE03FC2C213F7</td>\n",
       "      <td>0008B3E338CE8C3377E071A4D80D3694</td>\n",
       "      <td>VTS</td>\n",
       "      <td>1</td>\n",
       "      <td>NaN</td>\n",
       "      <td>2013-01-14 20:28:00</td>\n",
       "      <td>2013-01-14 20:35:00</td>\n",
       "      <td>1</td>\n",
       "      <td>420</td>\n",
       "      <td>1.78</td>\n",
       "      <td>...</td>\n",
       "      <td>2013-01-14</td>\n",
       "      <td>2013-01-14</td>\n",
       "      <td>3.397114</td>\n",
       "      <td>29.118117</td>\n",
       "      <td>2</td>\n",
       "      <td>349.630322</td>\n",
       "      <td>0.485598</td>\n",
       "      <td>10278</td>\n",
       "      <td>10010</td>\n",
       "      <td>Rain</td>\n",
       "    </tr>\n",
       "    <tr>\n",
       "      <th>2</th>\n",
       "      <td>8FA6FBF2D595A1080BCCE03FC2C213F7</td>\n",
       "      <td>0008B3E338CE8C3377E071A4D80D3694</td>\n",
       "      <td>VTS</td>\n",
       "      <td>1</td>\n",
       "      <td>NaN</td>\n",
       "      <td>2013-01-14 20:40:00</td>\n",
       "      <td>2013-01-14 20:45:00</td>\n",
       "      <td>1</td>\n",
       "      <td>300</td>\n",
       "      <td>1.35</td>\n",
       "      <td>...</td>\n",
       "      <td>2013-01-14</td>\n",
       "      <td>2013-01-14</td>\n",
       "      <td>1.215656</td>\n",
       "      <td>14.587874</td>\n",
       "      <td>2</td>\n",
       "      <td>63.033845</td>\n",
       "      <td>0.087547</td>\n",
       "      <td>10003</td>\n",
       "      <td>10014</td>\n",
       "      <td>Rain</td>\n",
       "    </tr>\n",
       "    <tr>\n",
       "      <th>3</th>\n",
       "      <td>8FA6FBF2D595A1080BCCE03FC2C213F7</td>\n",
       "      <td>0008B3E338CE8C3377E071A4D80D3694</td>\n",
       "      <td>VTS</td>\n",
       "      <td>1</td>\n",
       "      <td>NaN</td>\n",
       "      <td>2013-01-14 20:50:00</td>\n",
       "      <td>2013-01-14 20:58:00</td>\n",
       "      <td>1</td>\n",
       "      <td>480</td>\n",
       "      <td>1.99</td>\n",
       "      <td>...</td>\n",
       "      <td>2013-01-14</td>\n",
       "      <td>2013-01-14</td>\n",
       "      <td>2.784876</td>\n",
       "      <td>20.886573</td>\n",
       "      <td>2</td>\n",
       "      <td>1261.056819</td>\n",
       "      <td>1.751468</td>\n",
       "      <td>10012</td>\n",
       "      <td>10009</td>\n",
       "      <td>Rain</td>\n",
       "    </tr>\n",
       "    <tr>\n",
       "      <th>4</th>\n",
       "      <td>8FA6FBF2D595A1080BCCE03FC2C213F7</td>\n",
       "      <td>0008B3E338CE8C3377E071A4D80D3694</td>\n",
       "      <td>VTS</td>\n",
       "      <td>1</td>\n",
       "      <td>NaN</td>\n",
       "      <td>2013-01-14 21:04:00</td>\n",
       "      <td>2013-01-14 21:11:00</td>\n",
       "      <td>1</td>\n",
       "      <td>420</td>\n",
       "      <td>1.33</td>\n",
       "      <td>...</td>\n",
       "      <td>2013-01-14</td>\n",
       "      <td>2013-01-14</td>\n",
       "      <td>1.680562</td>\n",
       "      <td>14.404815</td>\n",
       "      <td>2</td>\n",
       "      <td>1878.058306</td>\n",
       "      <td>2.608414</td>\n",
       "      <td>10009</td>\n",
       "      <td>10012</td>\n",
       "      <td>Rain</td>\n",
       "    </tr>\n",
       "  </tbody>\n",
       "</table>\n",
       "<p>5 rows × 37 columns</p>\n",
       "</div>"
      ],
      "text/plain": [
       "                          medallion                      hack_license  \\\n",
       "0  8FA6FBF2D595A1080BCCE03FC2C213F7  0008B3E338CE8C3377E071A4D80D3694   \n",
       "1  8FA6FBF2D595A1080BCCE03FC2C213F7  0008B3E338CE8C3377E071A4D80D3694   \n",
       "2  8FA6FBF2D595A1080BCCE03FC2C213F7  0008B3E338CE8C3377E071A4D80D3694   \n",
       "3  8FA6FBF2D595A1080BCCE03FC2C213F7  0008B3E338CE8C3377E071A4D80D3694   \n",
       "4  8FA6FBF2D595A1080BCCE03FC2C213F7  0008B3E338CE8C3377E071A4D80D3694   \n",
       "\n",
       "  vendor_id  rate_code store_and_fwd_flag      pickup_datetime  \\\n",
       "0       VTS          1                NaN  2013-01-14 19:53:00   \n",
       "1       VTS          1                NaN  2013-01-14 20:28:00   \n",
       "2       VTS          1                NaN  2013-01-14 20:40:00   \n",
       "3       VTS          1                NaN  2013-01-14 20:50:00   \n",
       "4       VTS          1                NaN  2013-01-14 21:04:00   \n",
       "\n",
       "      dropoff_datetime  passenger_count  trip_time_in_secs  trip_distance  \\\n",
       "0  2013-01-14 20:12:00                1               1140          10.65   \n",
       "1  2013-01-14 20:35:00                1                420           1.78   \n",
       "2  2013-01-14 20:45:00                1                300           1.35   \n",
       "3  2013-01-14 20:58:00                1                480           1.99   \n",
       "4  2013-01-14 21:11:00                1                420           1.33   \n",
       "\n",
       "    ...     pickup_date  dropoff_date   distance      speed  day_interval  \\\n",
       "0   ...      2013-01-14    2013-01-14  17.309398  54.661255             2   \n",
       "1   ...      2013-01-14    2013-01-14   3.397114  29.118117             2   \n",
       "2   ...      2013-01-14    2013-01-14   1.215656  14.587874             2   \n",
       "3   ...      2013-01-14    2013-01-14   2.784876  20.886573             2   \n",
       "4   ...      2013-01-14    2013-01-14   1.680562  14.404815             2   \n",
       "\n",
       "  waiting_time  waiting_penalty  pickup_zipcode  dropoff_zipcode  weather  \n",
       "0     0.000000         0.000000           11371            11205     Rain  \n",
       "1   349.630322         0.485598           10278            10010     Rain  \n",
       "2    63.033845         0.087547           10003            10014     Rain  \n",
       "3  1261.056819         1.751468           10012            10009     Rain  \n",
       "4  1878.058306         2.608414           10009            10012     Rain  \n",
       "\n",
       "[5 rows x 37 columns]"
      ]
     },
     "execution_count": 4,
     "metadata": {},
     "output_type": "execute_result"
    }
   ],
   "source": [
    "historical_data.head()"
   ]
  },
  {
   "cell_type": "code",
   "execution_count": 5,
   "metadata": {},
   "outputs": [
    {
     "data": {
      "text/plain": [
       "Index(['medallion', 'hack_license', 'vendor_id', 'rate_code',\n",
       "       'store_and_fwd_flag', 'pickup_datetime', 'dropoff_datetime',\n",
       "       'passenger_count', 'trip_time_in_secs', 'trip_distance',\n",
       "       'pickup_longitude', 'pickup_latitude', 'dropoff_longitude',\n",
       "       'dropoff_latitude', 'fare_amount', 'payment_type', 'surcharge',\n",
       "       'mta_tax', 'tip_amount', 'tolls_amount', 'total_amount', 'pickup_day',\n",
       "       'pickup_weekday', 'pickup_hour', 'pickup_minute', 'pickup_time',\n",
       "       'dropoff_hour', 'pickup_date', 'dropoff_date', 'distance', 'speed',\n",
       "       'day_interval', 'waiting_time', 'waiting_penalty', 'pickup_zipcode',\n",
       "       'dropoff_zipcode', 'weather'],\n",
       "      dtype='object')"
      ]
     },
     "execution_count": 5,
     "metadata": {},
     "output_type": "execute_result"
    }
   ],
   "source": [
    "historical_data.keys()"
   ]
  },
  {
   "cell_type": "markdown",
   "metadata": {},
   "source": [
    "## Best Revenue from Historical Data"
   ]
  },
  {
   "cell_type": "code",
   "execution_count": 6,
   "metadata": {
    "collapsed": true
   },
   "outputs": [],
   "source": [
    "best_revenue = historical_data.groupby(['hack_license','pickup_date'])['total_amount'].sum()"
   ]
  },
  {
   "cell_type": "code",
   "execution_count": 7,
   "metadata": {},
   "outputs": [
    {
     "data": {
      "text/plain": [
       "650.1"
      ]
     },
     "execution_count": 7,
     "metadata": {},
     "output_type": "execute_result"
    }
   ],
   "source": [
    "np.max(best_revenue.reset_index()['total_amount'])"
   ]
  },
  {
   "cell_type": "markdown",
   "metadata": {},
   "source": [
    "## Preprocess"
   ]
  },
  {
   "cell_type": "code",
   "execution_count": 8,
   "metadata": {
    "collapsed": true
   },
   "outputs": [],
   "source": [
    "historical_data[\"dropoff_minute\"] = pd.to_datetime(historical_data[\"dropoff_datetime\"]).apply(lambda x: x.minute)\n",
    "historical_data[\"dropoff_time\"] =historical_data[\"dropoff_hour\"] + (historical_data[\"dropoff_minute\"] / 60)"
   ]
  },
  {
   "cell_type": "markdown",
   "metadata": {},
   "source": [
    "## Reinforcement Model"
   ]
  },
  {
   "cell_type": "code",
   "execution_count": 9,
   "metadata": {
    "collapsed": true
   },
   "outputs": [],
   "source": [
    "class TaxiWorld():\n",
    "    def __init__(self):\n",
    "        self.waiting_penalty = 5.00\n",
    "        pass\n",
    "                \n",
    "    def getReward(self, row):\n",
    "        if row['waiting_time']/3600<=2:\n",
    "            return row['total_amount'] - row['waiting_time']/3600*self.waiting_penalty\n",
    "        else:\n",
    "            return row['total_amount']\n",
    "        \n",
    "    \n",
    "    def set_waiting_penalty(self, penalty):\n",
    "        self.waiting_penalty = penalty\n",
    "        \n",
    "    def getState(self):\n",
    "        print('Current State')\n",
    "        return self.s\n",
    "    \n",
    "    def setState(self, s):\n",
    "        self.s = s\n",
    "        \n",
    "    def getStateSize(self, trip_and_fare):\n",
    "        return len(trip_and_fare['zip_code'].unique())\n",
    "    \n",
    "    def getZipCodes(self, trip_and_fare):\n",
    "        return self.zip_codes\n",
    "    \n",
    "    def getActionSize(self):\n",
    "        return len(self.actions)\n",
    "\n",
    "    def nextAction(self, s):\n",
    "        print('Calculate Next Action based on state')\n",
    "        \n",
    "    def check_Q_table(self, s):\n",
    "        if s not in self.Q:\n",
    "            self.Q[s] = dict((action, 0.0) for action in self.actions)\n",
    "            "
   ]
  },
  {
   "cell_type": "code",
   "execution_count": 10,
   "metadata": {
    "collapsed": true
   },
   "outputs": [],
   "source": [
    "env = TaxiWorld()"
   ]
  },
  {
   "cell_type": "code",
   "execution_count": 20,
   "metadata": {
    "collapsed": true
   },
   "outputs": [],
   "source": [
    "class TaxiRevenue:\n",
    "    def __init__(self, env, penalty=5.0, Q_table_file_name='saved_Q.json'):\n",
    "        self.env = env\n",
    "        self.env.set_waiting_penalty(penalty)\n",
    "        self.Q = dict()\n",
    "        self.dropPickMap= dict()\n",
    "        self.Q_table_file_name = Q_table_file_name\n",
    "        self.load_Q()\n",
    "        \n",
    "    def load_Q(self):\n",
    "        if os.path.isfile(self.Q_table_file_name):\n",
    "            with open(self.Q_table_file_name, 'r') as fp:\n",
    "                self.Q = json.load(fp)\n",
    "    \n",
    "    def store_Q(self):\n",
    "        with open(self.Q_table_file_name, 'w') as fp:\n",
    "            json.dump(self.Q, fp)\n",
    "        \n",
    "    def generate_key(self, row):\n",
    "        return str(row['pickup_zipcode']) + '_'  + str(row['pickup_weekday']) + '_' + str(row['day_interval']) + '_' + str(row['weather'])\n",
    "    \n",
    "    def get_tuples(self, key):\n",
    "        tuples = key.split('_')\n",
    "        return {'pickup_zipcode': tuples[0],\n",
    "                   'pickup_weekday': tuples[1],\n",
    "                   'day_interval': tuples[2],\n",
    "                   'weather': tuples[3]}\n",
    "    \n",
    "    def get_meantriptime(self, data):\n",
    "        map=historical_data.groupby(['pickup_zipcode', 'dropoff_zipcode'])['trip_time_in_secs'].mean()\n",
    "        return map.reset_index()\n",
    "    \n",
    "    def isValidPickup(self, taxidata, dropPickMap):\n",
    "        key=self.generate_key(taxidata)\n",
    "        if key in dropPickMap:\n",
    "            return True\n",
    "        else:\n",
    "            return False\n",
    "        \n",
    "    def generate_dropPickMap(self, data):\n",
    "        for index,row in data.T.iteritems():\n",
    "            key = self.generate_key(row)\n",
    "            if key not in self.dropPickMap:\n",
    "                self.dropPickMap[key] = []\n",
    "            if str([str(row['dropoff_zipcode']), row['total_amount']]) not in self.dropPickMap[key]:\n",
    "                self.dropPickMap[key].append([str(row['dropoff_zipcode']), row['total_amount']])\n",
    "        return self.dropPickMap\n",
    "    \n",
    "    def getDropoff(self, key, dropPickMap):\n",
    "        posDropoff= dropPickMap[key]\n",
    "#         print(\"dropoffs\",posDropoff )\n",
    "        rand=randint(0, len(posDropoff)-1)\n",
    "        return posDropoff[rand][0], posDropoff[rand][1]\n",
    "         \n",
    "    def getDayInterval(self,hour):\n",
    "        if hour>=6 and hour<12:\n",
    "            return 0\n",
    "        elif hour>=12 and hour<18:\n",
    "            return 1\n",
    "        elif hour>=18 and hour<24:\n",
    "            return 2\n",
    "        else:\n",
    "            return 3\n",
    "        \n",
    "    def getAction(self, taxidata, _Q,dropPickMap, const):\n",
    "        best_reward=0\n",
    "        #best_key = 0\n",
    "        s = self.generate_key(taxidata)\n",
    "        best_key=s\n",
    "        #print(taxidata)\n",
    "        if s in _Q:\n",
    "            best_reward=_Q[s][0]*_Q[s][1]/const\n",
    "        \n",
    "        zipcode=findzip.by_zipcode(taxidata['dropoff_zipcode'])\n",
    "        temp=taxidata\n",
    "        possible_pickup=[]\n",
    "        returns=100\n",
    "        while not possible_pickup:\n",
    "            pickup_res = findzip.by_coordinate(zipcode['Latitude'], zipcode['Longitude'], radius=10, returns=returns)\n",
    "            for i in range(len(pickup_res)):\n",
    "                temp['pickup_zipcode']=pickup_res[i]['Zipcode']\n",
    "                #print(temp['pickup_zipcode'])\n",
    "                if self.isValidPickup(temp, dropPickMap):\n",
    "                    possible_pickup.append(pickup_res[i]['Zipcode'])\n",
    "\n",
    "#             print(\"valid pickup\", possible_pickup)\n",
    "            returns+=10\n",
    "        \n",
    "        for key in _Q:\n",
    "            tuples=self.get_tuples(key)\n",
    "               \n",
    "            \n",
    "            if tuples['pickup_zipcode'] in possible_pickup and tuples['weather']==str(taxidata['weather']) and tuples['pickup_weekday']==str(taxidata['pickup_weekday']) and tuples['day_interval']==str(taxidata['day_interval']):\n",
    "            \n",
    "                tempReward=_Q[key][0]*_Q[key][1]/const\n",
    "                \n",
    "                if tempReward>best_reward:\n",
    "                    #print(\"in temp reward: \",tempReward)\n",
    "                    #print(\"in best reward: \",best_reward)\n",
    "                    best_key=key\n",
    "                    best_reward= tempReward\n",
    "                    #print(self.get_tuples(best_key))\n",
    "                    \n",
    "        return best_key\n",
    "    \n",
    "    def build_Q_table(self, data):\n",
    "        for index,row in data.T.iteritems():\n",
    "            key = self.generate_key(row)\n",
    "            reward = self.env.getReward(row)\n",
    "            if key not in self.Q:\n",
    "                self.Q[key] = [reward,1]\n",
    "            else:\n",
    "                self.Q[key] = [self.Q[key][0] +reward, self.Q[key][1] + 1]\n",
    "    \n",
    "    def get_Q_table(self):\n",
    "        return self.Q\n",
    "                \n",
    "    def greedy(self, s):\n",
    "        return np.argmax(self.Q[s[0]]) \n",
    "\n",
    "    def epsilon_greed(self, epsilon, s):\n",
    "        if np.random.rand() < epsilon:\n",
    "            return np.random.randint(self.n_a)\n",
    "        else:\n",
    "            return self.greedy(s)\n",
    "        \n",
    "    def train(self, trip_and_fare, Q_table_file_name =  'saved_Q.json'):\n",
    "        self.Q_table_file_name = Q_table_file_name\n",
    "        self.build_Q_table(trip_and_fare)\n",
    "        self.store_Q()\n",
    "        return self.Q\n",
    "        \n",
    "    def distance(self, lat1, lon1, lat2, lon2):\n",
    "        \"\"\"calculates the Manhattan distance between 2 points\n",
    "            using their coordinates\n",
    "\n",
    "        Parameters\n",
    "        ----------\n",
    "        lat1: float\n",
    "            latitude of first point\n",
    "\n",
    "        lon1: float\n",
    "            longitude of first point\n",
    "\n",
    "        lat2: float\n",
    "            latitude of second point\n",
    "\n",
    "        lon2: float\n",
    "            longitude of second point\n",
    "\n",
    "        Returns\n",
    "        -------\n",
    "        d: float\n",
    "            The Manhattan distance between the two points in kilometers\n",
    "\n",
    "        \"\"\"\n",
    "\n",
    "        d = haversine((lat1, lon1), (lat2, lon1)) + haversine((lat2, lon1), (lat2, lon2))\n",
    "        return d\n",
    "    \n",
    "    def find_distance(self, zip1, zip2):\n",
    "        zipcode1=findzip.by_zipcode(zip1)\n",
    "        zipcode2=findzip.by_zipcode(zip2)\n",
    "        dis=self.distance(zipcode1['Latitude'], zipcode1['Longitude'],zipcode2['Latitude'], zipcode2['Longitude'])\n",
    "        return dis\n",
    "    \n",
    "    \n",
    "    def test(self, taxidata, _Q, dropPickMap,meanTrip, maxstep=1000):\n",
    "        # TODO: Add your test routine that exmines learned policy\n",
    "        #      Using the learned policy, generate the trajectory of \n",
    "        curr_dropoff_hour=taxidata['dropoff_time']\n",
    "        #curr_pickup=taxidata['dropoff_time']\n",
    "        end_time=curr_dropoff_hour+ 12\n",
    "        \n",
    "        itinerary = []\n",
    "        rewards = []\n",
    "        \n",
    "        while curr_dropoff_hour <= end_time:\n",
    "            \n",
    "            best_key=self.getAction( taxidata, _Q,dropPickMap, 1000)\n",
    "            pickup_tuple= self.get_tuples(best_key)\n",
    "            \n",
    "            if int(pickup_tuple['pickup_zipcode'])!=taxidata['dropoff_zipcode']:\n",
    "                dis=self.find_distance(taxidata['dropoff_zipcode'], int(pickup_tuple['pickup_zipcode']))\n",
    "                curr_dropoff_hour+= dis/taxidata['speed']\n",
    "                print(\"roaming time\", str(datetime.timedelta(seconds = dis/taxidata['speed']*3600)) )\n",
    "                \n",
    "            dropoff, reward=self.getDropoff(best_key, dropPickMap)\n",
    "                \n",
    "            print(\"going from \",pickup_tuple['pickup_zipcode'], \" to \",  dropoff, \" at \", time.strftime('%H:%M:%S', time.localtime(curr_dropoff_hour*3600)), ' fare cost: ', reward)\n",
    "            trace = {\n",
    "                'roaming_time': str(datetime.timedelta(seconds = dis/taxidata['speed']*3600)),\n",
    "                'start_position': pickup_tuple['pickup_zipcode'],\n",
    "                'destination': dropoff,\n",
    "                'current_time': time.strftime('%H:%M:%S', time.localtime(curr_dropoff_hour*3600))\n",
    "            }\n",
    "            itinerary.append(trace)\n",
    "            rewards.append(reward)\n",
    "            #curr_dropoff=curr_dropoff+meanTrip[meanTrip['pickup_zipcode']]\n",
    "            #print(pickup_tuple['pickup_zipcode'])\n",
    "            temptrip = meanTrip[(meanTrip['pickup_zipcode']==int(pickup_tuple['pickup_zipcode'])) & (meanTrip['dropoff_zipcode']==int(dropoff))]\n",
    "            meanTripTime= temptrip.iloc[0]['trip_time_in_secs']\n",
    "            #print(meanTripTime)\n",
    "            \n",
    "            curr_dropoff_hour=curr_dropoff_hour+meanTripTime/3600\n",
    "            taxidata['dropoff_zipcode']=int(dropoff)\n",
    "            taxidata['day_interval']=self.getDayInterval(curr_dropoff_hour)\n",
    "        print('Done')\n",
    "        return itinerary, rewards"
   ]
  },
  {
   "cell_type": "markdown",
   "metadata": {},
   "source": [
    "## Train the Model"
   ]
  },
  {
   "cell_type": "code",
   "execution_count": 21,
   "metadata": {},
   "outputs": [],
   "source": [
    "taxiRevenue = TaxiRevenue(env, 5.0, 'saved_Q.json')"
   ]
  },
  {
   "cell_type": "code",
   "execution_count": 273,
   "metadata": {
    "collapsed": true
   },
   "outputs": [],
   "source": [
    "_Q = taxiRevenue.train(historical_data)"
   ]
  },
  {
   "cell_type": "code",
   "execution_count": 22,
   "metadata": {},
   "outputs": [
    {
     "data": {
      "text/plain": [
       "5496"
      ]
     },
     "execution_count": 22,
     "metadata": {},
     "output_type": "execute_result"
    }
   ],
   "source": [
    "_Q = taxiRevenue.get_Q_table()\n",
    "len(_Q)"
   ]
  },
  {
   "cell_type": "markdown",
   "metadata": {},
   "source": [
    "## Generate Test Data"
   ]
  },
  {
   "cell_type": "code",
   "execution_count": null,
   "metadata": {
    "collapsed": true
   },
   "outputs": [],
   "source": [
    "dropPickMap=taxiRevenue.generate_dropPickMap(historical_data)\n",
    "meanTrip= taxiRevenue.get_meantriptime(historical_data)"
   ]
  },
  {
   "cell_type": "markdown",
   "metadata": {},
   "source": [
    "## Test the Model"
   ]
  },
  {
   "cell_type": "code",
   "execution_count": null,
   "metadata": {},
   "outputs": [],
   "source": [
    "itinerary, rewards = taxiRevenue.test(historical_data.iloc[400], _Q, dropPickMap, meanTrip)"
   ]
  },
  {
   "cell_type": "code",
   "execution_count": null,
   "metadata": {
    "collapsed": true
   },
   "outputs": [],
   "source": [
    "from plotly.offline import init_notebook_mode, iplot\n",
    "from IPython.display import display, HTML\n",
    "plt.figure(figsize=(20,20))\n",
    "\n",
    "# Set the limits of the map to the minimum and maximum coordinates\n",
    "lat_min = 40.6\n",
    "lat_max = 40.9\n",
    "lon_min = -74.2\n",
    "lon_max = -73.7\n",
    "\n",
    "# Set the center of the map\n",
    "cent_lat = (lat_min + lat_max) / 2\n",
    "cent_lon = (lon_min + lon_max) / 2\n",
    "\n",
    "map = Basemap(llcrnrlon=lon_min, llcrnrlat=lat_min, urcrnrlon=lon_max, urcrnrlat=lat_max, resolution='h', projection='tmerc', lat_0 = cent_lat, lon_0 = cent_lon, area_thresh = 0.1)\n",
    "\n",
    "map.drawmapboundary(fill_color='aqua')\n",
    "map.fillcontinents(color='lightgray', lake_color='aqua')\n",
    "map.drawcountries(linewidth=2)\n",
    "map.drawstates(color='b')\n",
    "\n",
    "for trace in itinerary:\n",
    "    long = []\n",
    "    lat = []\n",
    "    start_position = trace['start_position']\n",
    "    res = findzip.by_zipcode(start_position)\n",
    "    long.append(res['Longitude'])\n",
    "    lat.append(res['Latitude'])\n",
    "    \n",
    "    destination = trace['destination']\n",
    "    res = findzip.by_zipcode(destination)\n",
    "    long.append(res['Longitude'])\n",
    "    lat.append(res['Latitude'])\n",
    "    x, y = map(long, lat)\n",
    "    plt.plot(x, y, '-', label=str(start_position)+'->'+str(destination), markersize=10, alpha=0.9)\n",
    "\n",
    "# plt.show()\n",
    "plt.legend()"
   ]
  },
  {
   "cell_type": "code",
   "execution_count": null,
   "metadata": {
    "collapsed": true
   },
   "outputs": [],
   "source": []
  },
  {
   "cell_type": "markdown",
   "metadata": {},
   "source": [
    "## Merge Train Data"
   ]
  },
  {
   "cell_type": "code",
   "execution_count": 277,
   "metadata": {},
   "outputs": [
    {
     "name": "stderr",
     "output_type": "stream",
     "text": [
      "C:\\ProgramData\\Anaconda3\\lib\\site-packages\\IPython\\core\\interactiveshell.py:2698: DtypeWarning: Columns (4) have mixed types. Specify dtype option on import or set low_memory=False.\n",
      "  interactivity=interactivity, compiler=compiler, result=result)\n"
     ]
    }
   ],
   "source": [
    "train_data1 = pd.read_csv('clean_data.csv')\n",
    "train_data2 = pd.read_csv('clean_data_2.csv')\n",
    "train_data3 = pd.read_csv('clean_data_3.csv')\n",
    "train_data4 = pd.read_csv('clean_data_4.csv')\n",
    "train_data5 = pd.read_csv('clean_data_5.csv')\n",
    "frames = [train_data1, train_data2, train_data3, train_data4, train_data5]\n",
    "result = pd.concat(frames)\n",
    "result.to_csv('clean_train_data.csv', index=False)"
   ]
  },
  {
   "cell_type": "code",
   "execution_count": 278,
   "metadata": {},
   "outputs": [
    {
     "data": {
      "text/plain": [
       "(2905906, 38)"
      ]
     },
     "execution_count": 278,
     "metadata": {},
     "output_type": "execute_result"
    }
   ],
   "source": [
    "result.shape"
   ]
  },
  {
   "cell_type": "code",
   "execution_count": null,
   "metadata": {
    "collapsed": true
   },
   "outputs": [],
   "source": []
  }
 ],
 "metadata": {
  "kernelspec": {
   "display_name": "Python 3",
   "language": "python",
   "name": "python3"
  },
  "language_info": {
   "codemirror_mode": {
    "name": "ipython",
    "version": 3
   },
   "file_extension": ".py",
   "mimetype": "text/x-python",
   "name": "python",
   "nbconvert_exporter": "python",
   "pygments_lexer": "ipython3",
   "version": "3.6.3"
  }
 },
 "nbformat": 4,
 "nbformat_minor": 2
}
