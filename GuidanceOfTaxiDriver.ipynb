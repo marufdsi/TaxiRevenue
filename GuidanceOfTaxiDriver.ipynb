{
 "cells": [
  {
   "cell_type": "code",
   "execution_count": 145,
   "metadata": {},
   "outputs": [],
   "source": [
    "import numpy as np\n",
    "import matplotlib.pyplot as plt \n",
    "from mpl_toolkits.mplot3d import Axes3D\n",
    "from uszipcode import ZipcodeSearchEngine\n",
    "from geopy.geocoders import Nominatim\n",
    "\n",
    "import pandas as pd\n",
    "import seaborn.apionly as sns\n",
    "from datetime import date, datetime\n",
    "from haversine import haversine\n",
    "\n",
    "# statistics package\n",
    "import statsmodels.api as sm\n",
    "from statsmodels.formula.api import ols\n",
    "from scipy import stats\n",
    "from random import randint\n",
    "# packages for mapping\n",
    "from mpl_toolkits.basemap import Basemap\n",
    "\n",
    "# packages for interactive graphs\n",
    "from ipywidgets import widgets, interact\n",
    "from IPython.display import display\n",
    "from copy import deepcopy as copy\n",
    "import time\n",
    "from geopy.geocoders import Nominatim\n",
    "\n",
    "from time import sleep\n",
    "import requests\n",
    "import time,datetime\n",
    "import os\n",
    "%matplotlib inline"
   ]
  },
  {
   "cell_type": "code",
   "execution_count": 101,
   "metadata": {
    "collapsed": true
   },
   "outputs": [],
   "source": [
    "findzip = ZipcodeSearchEngine()"
   ]
  },
  {
   "cell_type": "code",
   "execution_count": 249,
   "metadata": {},
   "outputs": [
    {
     "name": "stderr",
     "output_type": "stream",
     "text": [
      "C:\\ProgramData\\Anaconda3\\lib\\site-packages\\IPython\\core\\interactiveshell.py:2698: DtypeWarning: Columns (27) have mixed types. Specify dtype option on import or set low_memory=False.\n",
      "  interactivity=interactivity, compiler=compiler, result=result)\n"
     ]
    }
   ],
   "source": [
    "historical_data = pd.read_csv('clean_train_data.csv')"
   ]
  },
  {
   "cell_type": "code",
   "execution_count": 250,
   "metadata": {},
   "outputs": [
    {
     "data": {
      "text/html": [
       "<div>\n",
       "<style>\n",
       "    .dataframe thead tr:only-child th {\n",
       "        text-align: right;\n",
       "    }\n",
       "\n",
       "    .dataframe thead th {\n",
       "        text-align: left;\n",
       "    }\n",
       "\n",
       "    .dataframe tbody tr th {\n",
       "        vertical-align: top;\n",
       "    }\n",
       "</style>\n",
       "<table border=\"1\" class=\"dataframe\">\n",
       "  <thead>\n",
       "    <tr style=\"text-align: right;\">\n",
       "      <th></th>\n",
       "      <th>Unnamed: 0</th>\n",
       "      <th>day_interval</th>\n",
       "      <th>distance</th>\n",
       "      <th>dropoff_date</th>\n",
       "      <th>dropoff_datetime</th>\n",
       "      <th>dropoff_hour</th>\n",
       "      <th>dropoff_latitude</th>\n",
       "      <th>dropoff_longitude</th>\n",
       "      <th>dropoff_zipcode</th>\n",
       "      <th>fare_amount</th>\n",
       "      <th>...</th>\n",
       "      <th>surcharge</th>\n",
       "      <th>tip_amount</th>\n",
       "      <th>tolls_amount</th>\n",
       "      <th>total_amount</th>\n",
       "      <th>trip_distance</th>\n",
       "      <th>trip_time_in_secs</th>\n",
       "      <th>vendor_id</th>\n",
       "      <th>waiting_penalty</th>\n",
       "      <th>waiting_time</th>\n",
       "      <th>weather</th>\n",
       "    </tr>\n",
       "  </thead>\n",
       "  <tbody>\n",
       "    <tr>\n",
       "      <th>0</th>\n",
       "      <td>186987.0</td>\n",
       "      <td>2</td>\n",
       "      <td>10.418191</td>\n",
       "      <td>2013-01-13</td>\n",
       "      <td>2013-01-13 20:58:00</td>\n",
       "      <td>20</td>\n",
       "      <td>40.793388</td>\n",
       "      <td>-73.972809</td>\n",
       "      <td>10025</td>\n",
       "      <td>27.0</td>\n",
       "      <td>...</td>\n",
       "      <td>0.5</td>\n",
       "      <td>5.5</td>\n",
       "      <td>4.8</td>\n",
       "      <td>38.3</td>\n",
       "      <td>9.06</td>\n",
       "      <td>1200</td>\n",
       "      <td>VTS</td>\n",
       "      <td>0.000000</td>\n",
       "      <td>0.000000</td>\n",
       "      <td>Rain</td>\n",
       "    </tr>\n",
       "    <tr>\n",
       "      <th>1</th>\n",
       "      <td>136205.0</td>\n",
       "      <td>2</td>\n",
       "      <td>0.376856</td>\n",
       "      <td>2013-01-13</td>\n",
       "      <td>2013-01-13 21:10:00</td>\n",
       "      <td>21</td>\n",
       "      <td>40.782097</td>\n",
       "      <td>-73.978867</td>\n",
       "      <td>10024</td>\n",
       "      <td>3.5</td>\n",
       "      <td>...</td>\n",
       "      <td>0.5</td>\n",
       "      <td>0.0</td>\n",
       "      <td>0.0</td>\n",
       "      <td>4.5</td>\n",
       "      <td>0.44</td>\n",
       "      <td>120</td>\n",
       "      <td>VTS</td>\n",
       "      <td>0.029670</td>\n",
       "      <td>21.362104</td>\n",
       "      <td>Rain</td>\n",
       "    </tr>\n",
       "    <tr>\n",
       "      <th>2</th>\n",
       "      <td>114412.0</td>\n",
       "      <td>2</td>\n",
       "      <td>0.996570</td>\n",
       "      <td>2013-01-13</td>\n",
       "      <td>2013-01-13 21:35:00</td>\n",
       "      <td>21</td>\n",
       "      <td>40.751007</td>\n",
       "      <td>-73.978104</td>\n",
       "      <td>10168</td>\n",
       "      <td>4.5</td>\n",
       "      <td>...</td>\n",
       "      <td>0.5</td>\n",
       "      <td>0.0</td>\n",
       "      <td>0.0</td>\n",
       "      <td>5.5</td>\n",
       "      <td>0.65</td>\n",
       "      <td>240</td>\n",
       "      <td>VTS</td>\n",
       "      <td>0.691434</td>\n",
       "      <td>497.832494</td>\n",
       "      <td>Rain</td>\n",
       "    </tr>\n",
       "    <tr>\n",
       "      <th>3</th>\n",
       "      <td>148407.0</td>\n",
       "      <td>2</td>\n",
       "      <td>4.608048</td>\n",
       "      <td>2013-01-13</td>\n",
       "      <td>2013-01-13 21:46:00</td>\n",
       "      <td>21</td>\n",
       "      <td>40.717236</td>\n",
       "      <td>-74.003563</td>\n",
       "      <td>10278</td>\n",
       "      <td>8.5</td>\n",
       "      <td>...</td>\n",
       "      <td>0.5</td>\n",
       "      <td>1.0</td>\n",
       "      <td>0.0</td>\n",
       "      <td>10.5</td>\n",
       "      <td>2.28</td>\n",
       "      <td>420</td>\n",
       "      <td>VTS</td>\n",
       "      <td>2.600077</td>\n",
       "      <td>1872.055354</td>\n",
       "      <td>Rain</td>\n",
       "    </tr>\n",
       "    <tr>\n",
       "      <th>4</th>\n",
       "      <td>114616.0</td>\n",
       "      <td>2</td>\n",
       "      <td>1.231572</td>\n",
       "      <td>2013-01-13</td>\n",
       "      <td>2013-01-13 22:15:00</td>\n",
       "      <td>22</td>\n",
       "      <td>40.739117</td>\n",
       "      <td>-73.987694</td>\n",
       "      <td>10010</td>\n",
       "      <td>4.5</td>\n",
       "      <td>...</td>\n",
       "      <td>0.5</td>\n",
       "      <td>1.0</td>\n",
       "      <td>0.0</td>\n",
       "      <td>6.5</td>\n",
       "      <td>0.91</td>\n",
       "      <td>180</td>\n",
       "      <td>VTS</td>\n",
       "      <td>4.437344</td>\n",
       "      <td>3194.887668</td>\n",
       "      <td>Rain</td>\n",
       "    </tr>\n",
       "  </tbody>\n",
       "</table>\n",
       "<p>5 rows × 38 columns</p>\n",
       "</div>"
      ],
      "text/plain": [
       "   Unnamed: 0  day_interval   distance dropoff_date     dropoff_datetime  \\\n",
       "0    186987.0             2  10.418191   2013-01-13  2013-01-13 20:58:00   \n",
       "1    136205.0             2   0.376856   2013-01-13  2013-01-13 21:10:00   \n",
       "2    114412.0             2   0.996570   2013-01-13  2013-01-13 21:35:00   \n",
       "3    148407.0             2   4.608048   2013-01-13  2013-01-13 21:46:00   \n",
       "4    114616.0             2   1.231572   2013-01-13  2013-01-13 22:15:00   \n",
       "\n",
       "   dropoff_hour  dropoff_latitude  dropoff_longitude  dropoff_zipcode  \\\n",
       "0            20         40.793388         -73.972809            10025   \n",
       "1            21         40.782097         -73.978867            10024   \n",
       "2            21         40.751007         -73.978104            10168   \n",
       "3            21         40.717236         -74.003563            10278   \n",
       "4            22         40.739117         -73.987694            10010   \n",
       "\n",
       "   fare_amount   ...    surcharge tip_amount  tolls_amount  total_amount  \\\n",
       "0         27.0   ...          0.5        5.5           4.8          38.3   \n",
       "1          3.5   ...          0.5        0.0           0.0           4.5   \n",
       "2          4.5   ...          0.5        0.0           0.0           5.5   \n",
       "3          8.5   ...          0.5        1.0           0.0          10.5   \n",
       "4          4.5   ...          0.5        1.0           0.0           6.5   \n",
       "\n",
       "  trip_distance trip_time_in_secs vendor_id  waiting_penalty  waiting_time  \\\n",
       "0          9.06              1200       VTS         0.000000      0.000000   \n",
       "1          0.44               120       VTS         0.029670     21.362104   \n",
       "2          0.65               240       VTS         0.691434    497.832494   \n",
       "3          2.28               420       VTS         2.600077   1872.055354   \n",
       "4          0.91               180       VTS         4.437344   3194.887668   \n",
       "\n",
       "   weather  \n",
       "0     Rain  \n",
       "1     Rain  \n",
       "2     Rain  \n",
       "3     Rain  \n",
       "4     Rain  \n",
       "\n",
       "[5 rows x 38 columns]"
      ]
     },
     "execution_count": 250,
     "metadata": {},
     "output_type": "execute_result"
    }
   ],
   "source": [
    "historical_data.head()"
   ]
  },
  {
   "cell_type": "code",
   "execution_count": 251,
   "metadata": {},
   "outputs": [
    {
     "data": {
      "text/plain": [
       "Index(['Unnamed: 0', 'day_interval', 'distance', 'dropoff_date',\n",
       "       'dropoff_datetime', 'dropoff_hour', 'dropoff_latitude',\n",
       "       'dropoff_longitude', 'dropoff_zipcode', 'fare_amount', 'hack_license',\n",
       "       'medallion', 'mta_tax', 'passenger_count', 'payment_type',\n",
       "       'pickup_date', 'pickup_datetime', 'pickup_day', 'pickup_hour',\n",
       "       'pickup_latitude', 'pickup_longitude', 'pickup_minute', 'pickup_time',\n",
       "       'pickup_weekday', 'pickup_zipcode', 'rate_code', 'speed',\n",
       "       'store_and_fwd_flag', 'surcharge', 'tip_amount', 'tolls_amount',\n",
       "       'total_amount', 'trip_distance', 'trip_time_in_secs', 'vendor_id',\n",
       "       'waiting_penalty', 'waiting_time', 'weather'],\n",
       "      dtype='object')"
      ]
     },
     "execution_count": 251,
     "metadata": {},
     "output_type": "execute_result"
    }
   ],
   "source": [
    "historical_data.keys()"
   ]
  },
  {
   "cell_type": "markdown",
   "metadata": {},
   "source": [
    "## Best Revenue from Historical Data"
   ]
  },
  {
   "cell_type": "code",
   "execution_count": 252,
   "metadata": {},
   "outputs": [],
   "source": [
    "best_revenue = historical_data.groupby(['hack_license','pickup_date'])['total_amount'].sum()"
   ]
  },
  {
   "cell_type": "code",
   "execution_count": 253,
   "metadata": {},
   "outputs": [
    {
     "data": {
      "text/plain": [
       "1959.2000000000003"
      ]
     },
     "execution_count": 253,
     "metadata": {},
     "output_type": "execute_result"
    }
   ],
   "source": [
    "np.max(best_revenue.reset_index()['total_amount'])"
   ]
  },
  {
   "cell_type": "markdown",
   "metadata": {},
   "source": [
    "## Preprocess"
   ]
  },
  {
   "cell_type": "code",
   "execution_count": 254,
   "metadata": {
    "collapsed": true
   },
   "outputs": [],
   "source": [
    "historical_data[\"dropoff_minute\"] = pd.to_datetime(historical_data[\"dropoff_datetime\"]).apply(lambda x: x.minute)\n",
    "historical_data[\"dropoff_time\"] =historical_data[\"dropoff_hour\"] + (historical_data[\"dropoff_minute\"] / 60)"
   ]
  },
  {
   "cell_type": "markdown",
   "metadata": {},
   "source": [
    "## Reinforcement Model"
   ]
  },
  {
   "cell_type": "code",
   "execution_count": 255,
   "metadata": {
    "collapsed": true
   },
   "outputs": [],
   "source": [
    "class TaxiWorld():\n",
    "    def __init__(self):\n",
    "        self.waiting_penalty = 5.00\n",
    "        pass\n",
    "                \n",
    "    def getReward(self, row):\n",
    "        if row['waiting_time']/3600<=2:\n",
    "            return row['total_amount'] - row['waiting_time']/3600*self.waiting_penalty\n",
    "        else:\n",
    "            return row['total_amount']\n",
    "        \n",
    "    \n",
    "    def set_waiting_penalty(self, penalty):\n",
    "        self.waiting_penalty = penalty\n",
    "        \n",
    "    def getState(self):\n",
    "        print('Current State')\n",
    "        return self.s\n",
    "    \n",
    "    def setState(self, s):\n",
    "        self.s = s\n",
    "        \n",
    "    def getStateSize(self, trip_and_fare):\n",
    "        return len(trip_and_fare['zip_code'].unique())\n",
    "    \n",
    "    def getZipCodes(self, trip_and_fare):\n",
    "        return self.zip_codes\n",
    "    \n",
    "    def getActionSize(self):\n",
    "        return len(self.actions)\n",
    "\n",
    "    def nextAction(self, s):\n",
    "        print('Calculate Next Action based on state')\n",
    "        \n",
    "    def check_Q_table(self, s):\n",
    "        if s not in self.Q:\n",
    "            self.Q[s] = dict((action, 0.0) for action in self.actions)\n",
    "            "
   ]
  },
  {
   "cell_type": "code",
   "execution_count": 256,
   "metadata": {
    "collapsed": true
   },
   "outputs": [],
   "source": [
    "env = TaxiWorld()"
   ]
  },
  {
   "cell_type": "code",
   "execution_count": 257,
   "metadata": {
    "collapsed": true
   },
   "outputs": [],
   "source": [
    "class TaxiRevenue:\n",
    "    def __init__(self, env, penalty=5.0, Q_table_file_name='saved_Q.json'):\n",
    "        self.env = env\n",
    "        self.env.set_waiting_penalty(penalty)\n",
    "        self.Q = dict()\n",
    "        self.dropPickMap= dict()\n",
    "        self.Q_table_file_name = Q_table_file_name\n",
    "        self.load_Q()\n",
    "        \n",
    "    def load_Q(self):\n",
    "        if os.path.isfile(self.Q_table_file_name):\n",
    "            with open(self.Q_table_file_name, 'r') as fp:\n",
    "                self.Q = json.load(fp)\n",
    "    \n",
    "    def store_Q(self):\n",
    "        with open(self.Q_table_file_name, 'w') as fp:\n",
    "            json.dump(self.Q, fp)\n",
    "        \n",
    "    def generate_key(self, row):\n",
    "        return str(row['pickup_zipcode']) + '_'  + str(row['pickup_weekday']) + '_' + str(row['day_interval']) + '_' + str(row['weather'])\n",
    "    \n",
    "    def get_tuples(self, key):\n",
    "        tuples = key.split('_')\n",
    "        return {'pickup_zipcode': tuples[0],\n",
    "                   'pickup_weekday': tuples[1],\n",
    "                   'day_interval': tuples[2],\n",
    "                   'weather': tuples[3]}\n",
    "    \n",
    "    def get_meantriptime(self, data):\n",
    "        map=historical_data.groupby(['pickup_zipcode', 'dropoff_zipcode'])['trip_time_in_secs'].mean()\n",
    "        return map.reset_index()\n",
    "    \n",
    "    def isValidPickup(self, taxidata, dropPickMap):\n",
    "        key=self.generate_key(taxidata)\n",
    "        if key in dropPickMap:\n",
    "            return True\n",
    "        else:\n",
    "            return False\n",
    "        \n",
    "    def generate_dropPickMap(self, data):\n",
    "        for index,row in data.T.iteritems():\n",
    "            key = self.generate_key(row)\n",
    "            if key not in self.dropPickMap:\n",
    "                self.dropPickMap[key] = []\n",
    "            if str(row['dropoff_zipcode']) not in self.dropPickMap[key]:\n",
    "                self.dropPickMap[key].append(str(row['dropoff_zipcode']))\n",
    "        return self.dropPickMap\n",
    "    \n",
    "    def getDropoff(self, key, dropPickMap):\n",
    "        posDropoff= dropPickMap[key]\n",
    "        print(\"dropoffs\",posDropoff )\n",
    "        rand=randint(0, len(posDropoff)-1)\n",
    "        return posDropoff[rand]\n",
    "         \n",
    "    def getDayInterval(self,hour):\n",
    "        if hour>=6 and hour<12:\n",
    "            return 0\n",
    "        elif hour>=12 and hour<18:\n",
    "            return 1\n",
    "        elif hour>=18 and hour<24:\n",
    "            return 2\n",
    "        else:\n",
    "            return 3\n",
    "        \n",
    "    def getAction(self, taxidata, _Q,dropPickMap, const):\n",
    "        best_reward=0\n",
    "        #best_key = 0\n",
    "        s = self.generate_key(taxidata)\n",
    "        best_key=s\n",
    "        #print(taxidata)\n",
    "        if s in _Q:\n",
    "            best_reward=_Q[s][0]*_Q[s][1]/const\n",
    "        \n",
    "        zipcode=findzip.by_zipcode(taxidata['dropoff_zipcode'])\n",
    "        temp=taxidata\n",
    "        possible_pickup=[]\n",
    "        returns=100\n",
    "        while not possible_pickup:\n",
    "            pickup_res = findzip.by_coordinate(zipcode['Latitude'], zipcode['Longitude'], radius=10, returns=returns)\n",
    "            for i in range(len(pickup_res)):\n",
    "                temp['pickup_zipcode']=pickup_res[i]['Zipcode']\n",
    "                #print(temp['pickup_zipcode'])\n",
    "                if self.isValidPickup(temp, dropPickMap):\n",
    "                    possible_pickup.append(pickup_res[i]['Zipcode'])\n",
    "\n",
    "            print(\"valid pickup\", possible_pickup)\n",
    "            returns+=10\n",
    "        \n",
    "        for key in _Q:\n",
    "            tuples=self.get_tuples(key)\n",
    "               \n",
    "            \n",
    "            if tuples['pickup_zipcode'] in possible_pickup and tuples['weather']==str(taxidata['weather']) and tuples['pickup_weekday']==str(taxidata['pickup_weekday']) and tuples['day_interval']==str(taxidata['day_interval']):\n",
    "            \n",
    "                tempReward=_Q[key][0]*_Q[key][1]/const\n",
    "                \n",
    "                if tempReward>best_reward:\n",
    "                    #print(\"in temp reward: \",tempReward)\n",
    "                    #print(\"in best reward: \",best_reward)\n",
    "                    best_key=key\n",
    "                    best_reward= tempReward\n",
    "                    #print(self.get_tuples(best_key))\n",
    "                    \n",
    "        return best_key\n",
    "    \n",
    "    def build_Q_table(self, data):\n",
    "        for index,row in data.T.iteritems():\n",
    "            key = self.generate_key(row)\n",
    "            reward = self.env.getReward(row)\n",
    "            if key not in self.Q:\n",
    "                self.Q[key] = [reward,1]\n",
    "            else:\n",
    "                self.Q[key] = [self.Q[key][0] +reward, self.Q[key][1] + 1]\n",
    "                \n",
    "    def greedy(self, s):\n",
    "        return np.argmax(self.Q[s[0]]) \n",
    "\n",
    "    def epsilon_greed(self, epsilon, s):\n",
    "        if np.random.rand() < epsilon:\n",
    "            return np.random.randint(self.n_a)\n",
    "        else:\n",
    "            return self.greedy(s)\n",
    "        \n",
    "    def train(self, trip_and_fare, Q_table_file_name =  'saved_Q.json'):\n",
    "        self.Q_table_file_name = Q_table_file_name\n",
    "        self.build_Q_table(trip_and_fare)\n",
    "        self.store_Q()\n",
    "        return self.Q\n",
    "        \n",
    "    def distance(self, lat1, lon1, lat2, lon2):\n",
    "        \"\"\"calculates the Manhattan distance between 2 points\n",
    "            using their coordinates\n",
    "\n",
    "        Parameters\n",
    "        ----------\n",
    "        lat1: float\n",
    "            latitude of first point\n",
    "\n",
    "        lon1: float\n",
    "            longitude of first point\n",
    "\n",
    "        lat2: float\n",
    "            latitude of second point\n",
    "\n",
    "        lon2: float\n",
    "            longitude of second point\n",
    "\n",
    "        Returns\n",
    "        -------\n",
    "        d: float\n",
    "            The Manhattan distance between the two points in kilometers\n",
    "\n",
    "        \"\"\"\n",
    "\n",
    "        d = haversine((lat1, lon1), (lat2, lon1)) + haversine((lat2, lon1), (lat2, lon2))\n",
    "        return d\n",
    "    \n",
    "    def find_distance(self, zip1, zip2):\n",
    "        zipcode1=findzip.by_zipcode(zip1)\n",
    "        zipcode2=findzip.by_zipcode(zip2)\n",
    "        dis=self.distance(zipcode1['Latitude'], zipcode1['Longitude'],zipcode2['Latitude'], zipcode2['Longitude'])\n",
    "        return dis\n",
    "    \n",
    "    \n",
    "    def test(self, taxidata, _Q, dropPickMap,meanTrip, maxstep=1000):\n",
    "        # TODO: Add your test routine that exmines learned policy\n",
    "        #      Using the learned policy, generate the trajectory of \n",
    "        curr_dropoff_hour=taxidata['dropoff_time']\n",
    "        #curr_pickup=taxidata['dropoff_time']\n",
    "        end_time=curr_dropoff_hour+ 12\n",
    "        \n",
    "        trace = []\n",
    "        rewards = []\n",
    "        \n",
    "        while curr_dropoff_hour <= end_time:\n",
    "            \n",
    "            best_key=self.getAction( taxidata, _Q,dropPickMap, 1000)\n",
    "            pickup_tuple= self.get_tuples(best_key)\n",
    "            \n",
    "            if int(pickup_tuple['pickup_zipcode'])!=taxidata['dropoff_zipcode']:\n",
    "                dis=self.find_distance(taxidata['dropoff_zipcode'], int(pickup_tuple['pickup_zipcode']))\n",
    "                curr_dropoff_hour+= dis/taxidata['speed']\n",
    "                print(\"roaming time\", dis/taxidata['speed'] )\n",
    "                \n",
    "            dropoff=self.getDropoff(best_key, dropPickMap)\n",
    "                \n",
    "            print(\"going from \",pickup_tuple['pickup_zipcode'], \" to \",  dropoff, \" at \", curr_dropoff_hour)\n",
    "            #curr_dropoff=curr_dropoff+meanTrip[meanTrip['pickup_zipcode']]\n",
    "            #print(pickup_tuple['pickup_zipcode'])\n",
    "            temptrip = meanTrip[(meanTrip['pickup_zipcode']==int(pickup_tuple['pickup_zipcode'])) & (meanTrip['dropoff_zipcode']==int(dropoff))]\n",
    "            meanTripTime= temptrip.iloc[0]['trip_time_in_secs']\n",
    "            #print(meanTripTime)\n",
    "            \n",
    "            curr_dropoff_hour=curr_dropoff_hour+meanTripTime/3600\n",
    "            taxidata['dropoff_zipcode']=int(dropoff)\n",
    "            taxidata['day_interval']=self.getDayInterval(curr_dropoff_hour)"
   ]
  },
  {
   "cell_type": "markdown",
   "metadata": {},
   "source": [
    "## Train the Model"
   ]
  },
  {
   "cell_type": "code",
   "execution_count": 258,
   "metadata": {},
   "outputs": [],
   "source": [
    "taxiRevenue = TaxiRevenue(env, 5.0, 'saved_Q.json')"
   ]
  },
  {
   "cell_type": "code",
   "execution_count": 259,
   "metadata": {
    "collapsed": true
   },
   "outputs": [],
   "source": [
    "_Q = taxiRevenue.train(historical_data)"
   ]
  },
  {
   "cell_type": "code",
   "execution_count": 260,
   "metadata": {},
   "outputs": [
    {
     "data": {
      "text/plain": [
       "4715"
      ]
     },
     "execution_count": 260,
     "metadata": {},
     "output_type": "execute_result"
    }
   ],
   "source": [
    "len(_Q)"
   ]
  },
  {
   "cell_type": "markdown",
   "metadata": {},
   "source": [
    "## Generate Test Data"
   ]
  },
  {
   "cell_type": "code",
   "execution_count": 261,
   "metadata": {
    "collapsed": true
   },
   "outputs": [],
   "source": [
    "dropPickMap=taxiRevenue.generate_dropPickMap(historical_data)\n",
    "meanTrip= taxiRevenue.get_meantriptime(historical_data)"
   ]
  },
  {
   "cell_type": "markdown",
   "metadata": {},
   "source": [
    "## Test the Model"
   ]
  },
  {
   "cell_type": "code",
   "execution_count": 262,
   "metadata": {},
   "outputs": [
    {
     "name": "stderr",
     "output_type": "stream",
     "text": [
      "C:\\ProgramData\\Anaconda3\\lib\\site-packages\\ipykernel_launcher.py:81: SettingWithCopyWarning: \n",
      "A value is trying to be set on a copy of a slice from a DataFrame\n",
      "\n",
      "See the caveats in the documentation: http://pandas.pydata.org/pandas-docs/stable/indexing.html#indexing-view-versus-copy\n"
     ]
    },
    {
     "name": "stdout",
     "output_type": "stream",
     "text": [
      "valid pickup ['10036', '10018', '10001', '10020', '10019', '10199', '10119', '10112', '10111', '10173', '10165', '10069', '10168', '10167', '10170', '10154', '10016', '10174', '10022', '10011', '10023', '10017', '10010', '10065', '10014', '10003', '10021', '10044', '10024', '10075', '11109', '10009', '10028', '10012', '10128', '10013', '11101', '10025', '11222', '10278', '10282', '10002', '10007', '10029', '11106', '10103', '11102', '10026', '10006', '10038', '10280', '10115', '11104', '11211', '10027', '10004', '10035', '10005', '11201', '11103', '11206', '11105', '10037', '10030', '11377', '11205', '11378', '10031', '11370', '10451', '11237', '11217']\n",
      "roaming time 0.09111998980611906\n",
      "dropoffs "
     ]
    },
    {
     "name": "stderr",
     "output_type": "stream",
     "text": [
      "C:\\ProgramData\\Anaconda3\\lib\\site-packages\\ipykernel_launcher.py:195: SettingWithCopyWarning: \n",
      "A value is trying to be set on a copy of a slice from a DataFrame\n",
      "\n",
      "See the caveats in the documentation: http://pandas.pydata.org/pandas-docs/stable/indexing.html#indexing-view-versus-copy\n",
      "C:\\ProgramData\\Anaconda3\\lib\\site-packages\\ipykernel_launcher.py:196: SettingWithCopyWarning: \n",
      "A value is trying to be set on a copy of a slice from a DataFrame\n",
      "\n",
      "See the caveats in the documentation: http://pandas.pydata.org/pandas-docs/stable/indexing.html#indexing-view-versus-copy\n"
     ]
    },
    {
     "name": "stdout",
     "output_type": "stream",
     "text": [
      "['10167', '10022', '10173', '10010', '10023', '10112', '10028', '10020', '10016', '10001', '10111', '10165', '10119', '10021', '10018', '10065', '10154', '10012', '10019', '10282', '10004', '10014', '10003', '10009', '10036', '10011', '10006', '10278', '10168', '10013', '11364', '11371', '10174', '10115', '10025', '10170', '10075', '10017', '10007', '10128', '10199', '10029', '11369', '10024', '11222', '10032', '10039', '11430', '10280', '10002', '11215', '11201', '11368', '10035', '10463', '10038', '10069', '10030', '11225', '11378', '11377', '11366', '7114', '10453', '10031', '11101', '10005', '10027', '11104', '11239', '11234', '11209', '11373', '11102', '11375', '11233', '10452', '10044', '11237', '11221', '10026', '10033', '10040', '11211', '11224', '11217', '11213', '11219', '10457', '11216', '10037', '11206', '11231', '10461', '11205', '11106', '10462', '10454']\n",
      "going from  10119  to  11217  at  7.391119989806119\n",
      "valid pickup ['11217', '11238', '11215', '11201', '11205', '11216', '11225', '11231', '10005', '10103', '10038', '11213', '11211', '10002', '11218', '11232', '10004', '11206', '10006', '10278', '11226', '10007', '10280', '10282', '10012', '10009', '10013', '11237', '11212', '10003', '11220', '11222', '10010', '10014', '11204', '11230', '11109', '10016', '11378', '11101', '10011', '10119', '10168', '10174', '10165', '10017', '10170', '10199', '10173', '10167', '10001', '10018', '10154', '11236', '11104', '10112', '10111', '10044', '10022', '10020', '10036', '11377', '10065', '11106', '10019', '10021']\n",
      "roaming time 0.7113867528763113\n",
      "dropoffs ['10167', '10022', '10173', '10010', '10023', '10112', '10028', '10020', '10016', '10001', '10111', '10165', '10119', '10021', '10018', '10065', '10154', '10012', '10019', '10282', '10004', '10014', '10003', '10009', '10036', '10011', '10006', '10278', '10168', '10013', '11364', '11371', '10174', '10115', '10025', '10170', '10075', '10017', '10007', '10128', '10199', '10029', '11369', '10024', '11222', '10032', '10039', '11430', '10280', '10002', '11215', '11201', '11368', '10035', '10463', '10038', '10069', '10030', '11225', '11378', '11377', '11366', '7114', '10453', '10031', '11101', '10005', '10027', '11104', '11239', '11234', '11209', '11373', '11102', '11375', '11233', '10452', '10044', '11237', '11221', '10026', '10033', '10040', '11211', '11224', '11217', '11213', '11219', '10457', '11216', '10037', '11206', '11231', '10461', '11205', '11106', '10462', '10454']\n",
      "going from  10119  to  10004  at  8.48958928236497\n",
      "valid pickup ['10004', '10280', '10006', '10005', '10038', '10007', '10282', '10278', '10013', '10103', '11201', '10002', '10012', '11231', '10014', '10003', '11217', '10009', '10010', '10011', '11211', '11215', '11205', '11238', '11232', '10119', '10199', '10016', '10001', '11222', '10018', '11216', '11206', '10168', '10165', '10174', '10170', '10173', '11225', '10036', '10017', '10167', '11109', '10112', '11218', '10020', '10111', '10154', '10022', '11213', '11220', '10019', '11101', '10044', '11237', '10065', '11226', '10069', '10023', '10021', '11378', '10075', '11104', '11212', '11106', '10028', '11204', '10024', '11377']\n",
      "roaming time 0.5543364940505842\n",
      "dropoffs ['10167', '10022', '10173', '10010', '10023', '10112', '10028', '10020', '10016', '10001', '10111', '10165', '10119', '10021', '10018', '10065', '10154', '10012', '10019', '10282', '10004', '10014', '10003', '10009', '10036', '10011', '10006', '10278', '10168', '10013', '11364', '11371', '10174', '10115', '10025', '10170', '10075', '10017', '10007', '10128', '10199', '10029', '11369', '10024', '11222', '10032', '10039', '11430', '10280', '10002', '11215', '11201', '11368', '10035', '10463', '10038', '10069', '10030', '11225', '11378', '11377', '11366', '7114', '10453', '10031', '11101', '10005', '10027', '11104', '11239', '11234', '11209', '11373', '11102', '11375', '11233', '10452', '10044', '11237', '11221', '10026', '10033', '10040', '11211', '11224', '11217', '11213', '11219', '10457', '11216', '10037', '11206', '11231', '10461', '11205', '11106', '10462', '10454']\n",
      "going from  10119  to  10115  at  9.339983887337379\n",
      "valid pickup ['10115', '10027', '10026', '10025', '10030', '10031', '10037', '10029', '10024', '10039', '10451', '10128', '10035', '10032', '10028', '10023', '10075', '10021', '10452', '10069', '10455', '11102', '10065', '10033', '10019', '10022', '10020', '10111', '10112', '10154', '11105', '10044', '10453', '10036', '10167', '10173', '10040', '11106', '10170', '10017', '10174', '10165', '10018', '10168', '11103', '10001', '10199', '10119', '10016', '11109', '11101', '10034', '10011', '10010', '11104', '11370', '11371', '10468', '10458', '10003', '10463', '10014', '11377', '11222', '10009', '11369', '10462', '11372', '10012']\n",
      "roaming time 0.7405550500760486\n",
      "dropoffs ['10167', '10022', '10173', '10010', '10023', '10112', '10028', '10020', '10016', '10001', '10111', '10165', '10119', '10021', '10018', '10065', '10154', '10012', '10019', '10282', '10004', '10014', '10003', '10009', '10036', '10011', '10006', '10278', '10168', '10013', '11364', '11371', '10174', '10115', '10025', '10170', '10075', '10017', '10007', '10128', '10199', '10029', '11369', '10024', '11222', '10032', '10039', '11430', '10280', '10002', '11215', '11201', '11368', '10035', '10463', '10038', '10069', '10030', '11225', '11378', '11377', '11366', '7114', '10453', '10031', '11101', '10005', '10027', '11104', '11239', '11234', '11209', '11373', '11102', '11375', '11233', '10452', '10044', '11237', '11221', '10026', '10033', '10040', '11211', '11224', '11217', '11213', '11219', '10457', '11216', '10037', '11206', '11231', '10461', '11205', '11106', '10462', '10454']\n",
      "going from  10119  to  10023  at  10.387279133491859\n",
      "valid pickup ['10023', '10024', '10069', '10019', '10020', '10112', '10111', '10021', '10065', '10075', '10022', '10036', '10154', '10028', '10167', '10173', '10128', '10018', '10170', '10025', '10165', '10174', '10168', '10017', '10044', '10001', '10199', '10119', '10016', '10029', '10026', '10115', '11109', '10011', '10010', '11102', '10027', '10035', '11101', '11106', '10003', '10014', '10030', '10037', '10009', '11222', '10012', '11103', '10031', '11105', '11104', '10451', '10013', '10039', '10002', '10278', '10282', '10455', '10007', '10103', '11377', '11370', '10032', '11211', '10038', '10006', '10280', '10452', '11378', '10004', '11206', '11201']\n",
      "roaming time 0.3268139291232073\n",
      "dropoffs ['10167', '10022', '10173', '10010', '10023', '10112', '10028', '10020', '10016', '10001', '10111', '10165', '10119', '10021', '10018', '10065', '10154', '10012', '10019', '10282', '10004', '10014', '10003', '10009', '10036', '10011', '10006', '10278', '10168', '10013', '11364', '11371', '10174', '10115', '10025', '10170', '10075', '10017', '10007', '10128', '10199', '10029', '11369', '10024', '11222', '10032', '10039', '11430', '10280', '10002', '11215', '11201', '11368', '10035', '10463', '10038', '10069', '10030', '11225', '11378', '11377', '11366', '7114', '10453', '10031', '11101', '10005', '10027', '11104', '11239', '11234', '11209', '11373', '11102', '11375', '11233', '10452', '10044', '11237', '11221', '10026', '10033', '10040', '11211', '11224', '11217', '11213', '11219', '10457', '11216', '10037', '11206', '11231', '10461', '11205', '11106', '10462', '10454']\n",
      "going from  10119  to  11231  at  10.913894517531201\n",
      "valid pickup ['11231', '11232', '10005', '11217', '11215', '10004', '11201', '10038', '10280', '10006', '11238', '10103', '10007', '11218', '10278', '11220', '10282', '10002', '11225', '11205', '10013', '11216', '10012', '11211', '11226', '11213', '10009', '10003', '11206', '10014', '11204', '10010', '11230', '11222', '10011', '11237', '11212', '10016', '10119', '10199', '10001', '10168', '10165', '11109', '10018', '10174', '10170', '10173', '10017', '10167', '10036', '11101', '10112', '10154', '10111', '10020', '10022', '11378', '10044', '10019', '10065', '11236', '11104']\n",
      "roaming time 0.762057297310533\n",
      "dropoffs ['10167', '10022', '10173', '10010', '10023', '10112', '10028', '10020', '10016', '10001', '10111', '10165', '10119', '10021', '10018', '10065', '10154', '10012', '10019', '10282', '10004', '10014', '10003', '10009', '10036', '10011', '10006', '10278', '10168', '10013', '11364', '11371', '10174', '10115', '10025', '10170', '10075', '10017', '10007', '10128', '10199', '10029', '11369', '10024', '11222', '10032', '10039', '11430', '10280', '10002', '11215', '11201', '11368', '10035', '10463', '10038', '10069', '10030', '11225', '11378', '11377', '11366', '7114', '10453', '10031', '11101', '10005', '10027', '11104', '11239', '11234', '11209', '11373', '11102', '11375', '11233', '10452', '10044', '11237', '11221', '10026', '10033', '10040', '11211', '11224', '11217', '11213', '11219', '10457', '11216', '10037', '11206', '11231', '10461', '11205', '11106', '10462', '10454']\n",
      "going from  10119  to  11216  at  12.073451814841734\n",
      "valid pickup ['11216', '11238', '11213', '11225', '11205', '11221', '11217', '11233', '11215', '11206', '11211', '11226', '11201', '11218', '10103', '10002', '11231', '10005', '10038', '11232', '11222', '11210', '10009', '11378', '10004', '10278', '10007', '10006', '11236', '10012', '10280', '10003', '11208', '11230', '10282', '10013', '11220', '10010', '11204', '11101', '11109', '11379', '11104', '11377', '10016', '10014', '10017', '10174', '10168', '10170', '10165', '10167', '10119', '10173', '10044', '11373', '10154', '10199', '10011', '11228', '11374', '10022', '11106', '10111', '10018', '10112', '10001', '10020', '10065', '10036']\n"
     ]
    },
    {
     "name": "stdout",
     "output_type": "stream",
     "text": [
      "roaming time 0.9247166287197769\n",
      "dropoffs ['10018', '10017', '10036', '10119', '10016', '10001', '10021', '10006', '10022', '10010', '10014', '10020', '10111', '10024', '10012', '10009', '10013', '10019', '10128', '10173', '10003', '10112', '10065', '11369', '10031', '11371', '10038', '10011', '10278', '10168', '11211', '10005', '10007', '10167', '10028', '10023', '10174', '10004', '10282', '10165', '10025', '10069', '10154', '11101', '11218', '10002', '11238', '10199', '7114', '10472', '11430', '10075', '11201', '10029', '10032', '10033', '10115', '11359', '10456', '10044', '11215', '11102', '11231', '11109', '11203', '11220', '10170', '10467', '10026', '11217', '10280', '10030', '11212', '10035', '11235', '11237', '11373', '11222', '11435', '11228', '11372', '11206', '11233', '11210', '11205', '11412', '11106', '10037', '11411', '10103', '11230', '11221', '10453', '11213', '11216', '11436', '7302', '11225', '11375', '11234']\n",
      "going from  10119  to  11375  at  13.462751776894844\n",
      "valid pickup ['11375', '11374', '11367', '11415', '11368', '11379', '11373', '11355', '11435', '11372', '11419', '11369', '11377', '11354', '11378', '11370', '11433', '11208', '11420', '11371', '11104', '11103', '11436', '11357', '11221', '11106', '11105', '11233', '11101', '11206', '11102', '11222', '11429', '11211', '11109', '11213', '10044', '11205', '11413', '11216', '11430', '10035', '11236', '10454', '10028', '10075', '10021', '10065', '10017', '10128', '11238', '10022', '10029', '10174', '10154', '10009', '10167', '10170', '10465', '11225', '10168', '10010', '10016', '10165', '11422']\n",
      "roaming time 1.110566629931661\n",
      "dropoffs ['11229', '10174', '10470', '10154', '10168', '11430', '11206', '10010', '10018', '10112', '10065', '10007', '11419', '11378', '10011', '10282', '10016', '11413', '10119', '11223', '10020', '11373', '10003', '10022', '11415', '11217', '10024', '11212', '10014', '10036', '11222', '11418', '11374', '10128', '11412', '11436', '11369', '10278', '11106', '10111', '10004', '11204', '10173', '11371', '11421', '11423', '10038', '11367', '11375', '11215', '11411', '10019', '11565', '10017', '10021', '10167', '11434', '11208', '11224', '10009', '10456', '10037', '10023', '10301', '10028', '10280', '11368', '11238', '11218', '11414', '10165', '10453', '10458', '10012', '11201', '11372', '6902', '10075', '10452', '10044', '11105', '11237', '11214', '11377', '11432', '11216', '10305', '11211', '10026', '10115', '10025', '11580', '11416', '11226', '10976', '11429', '10199', '10002', '11427', '7024', '7002', '11354', '7030', '11103', '11357', '10462', '11220', '10033', '11231', '10032', '11417', '11225', '10013', '11426', '11233', '11205', '10170', '10001', '10103', '11360', '11590', '11101', '10461', '10040', '11104', '11355', '7310', '7302', '10475', '11010', '10069', '11234', '11366', '10006', '11420', '11230', '11581', '11213', '10027', '10465', '11207', '11232', '11435', '10005', '11433', '11109', '11210', '10468', '10459', '10460', '10034', '11221', '11235', '11203', '11691', '11697', '11102', '10577', '11428', '11209', '11356', '11558', '10455', '11516', '11422', '10031', '10469', '10467', '10454', '10030', '10029', '11572', '11385', '10039', '11530', '6812', '11219', '10463', '7111', '10310', '10473', '11359', '11236']\n",
      "going from  11430  to  11010  at  14.974922715216529\n",
      "valid pickup ['11530', '11565', '11429', '11422', '11413', '11433', '11436', '11435', '11430', '11420', '11357']\n",
      "roaming time 1.3526027501493194\n",
      "dropoffs ['11229', '10174', '10470', '10154', '10168', '11430', '11206', '10010', '10018', '10112', '10065', '10007', '11419', '11378', '10011', '10282', '10016', '11413', '10119', '11223', '10020', '11373', '10003', '10022', '11415', '11217', '10024', '11212', '10014', '10036', '11222', '11418', '11374', '10128', '11412', '11436', '11369', '10278', '11106', '10111', '10004', '11204', '10173', '11371', '11421', '11423', '10038', '11367', '11375', '11215', '11411', '10019', '11565', '10017', '10021', '10167', '11434', '11208', '11224', '10009', '10456', '10037', '10023', '10301', '10028', '10280', '11368', '11238', '11218', '11414', '10165', '10453', '10458', '10012', '11201', '11372', '6902', '10075', '10452', '10044', '11105', '11237', '11214', '11377', '11432', '11216', '10305', '11211', '10026', '10115', '10025', '11580', '11416', '11226', '10976', '11429', '10199', '10002', '11427', '7024', '7002', '11354', '7030', '11103', '11357', '10462', '11220', '10033', '11231', '10032', '11417', '11225', '10013', '11426', '11233', '11205', '10170', '10001', '10103', '11360', '11590', '11101', '10461', '10040', '11104', '11355', '7310', '7302', '10475', '11010', '10069', '11234', '11366', '10006', '11420', '11230', '11581', '11213', '10027', '10465', '11207', '11232', '11435', '10005', '11433', '11109', '11210', '10468', '10459', '10460', '10034', '11221', '11235', '11203', '11691', '11697', '11102', '10577', '11428', '11209', '11356', '11558', '10455', '11516', '11422', '10031', '10469', '10467', '10454', '10030', '10029', '11572', '11385', '10039', '11530', '6812', '11219', '10463', '7111', '10310', '10473', '11359', '11236']\n",
      "going from  11430  to  10032  at  16.694192132032516\n",
      "valid pickup ['10032', '10039', '10031', '10033', '10452', '10030', '10453', '10040', '10451', '10037', '10456', '10027', '10115', '10457', '10034', '10026', '10454', '10025', '10463', '10035', '10460', '10458', '10029', '10128', '10472', '10024', '10471', '10028', '11105', '10075', '11102', '10023', '10021', '10069', '10065', '10019', '11103', '10461', '11106', '11371', '10022', '10044', '10020', '10111', '10154', '10112', '10036', '10167', '10173', '11370', '10017', '10170', '10174', '10465', '10165', '10168', '10018', '11369', '11109', '10001', '11101', '10016', '10199']\n",
      "roaming time 0.9720863219622791\n",
      "dropoffs ['10022', '10019', '10018', '11369', '10036', '10111', '10023', '10024', '10168', '10001', '10021', '11211', '10020', '11222', '10278', '10119', '10017', '10012', '10128', '10004', '10016', '10173', '10280', '10165', '10010', '10065', '10003', '10069', '10199', '11430', '10013', '11371', '10028', '11205', '10025', '7114', '10014', '10011', '10167', '10154', '7030', '10002', '10026', '7607', '10112', '10075', '10029', '10174', '10007', '11418', '10282', '11103', '10038', '7306', '11101', '11201', '10006', '10032', '10009', '10030', '10927', '10040', '10033', '10170', '10044', '11215', '11219', '11237', '11102', '11377', '10115', '11217', '11370', '11106', '7071', '10458', '7093', '10034', '11109', '10005', '11005', '10035', '11355', '11225']\n",
      "going from  10020  to  11217  at  18.29834060088745\n",
      "valid pickup ['11217', '11238', '11215', '11201', '11205', '11216', '11225', '11231', '10005', '10103', '10038', '11213', '11211', '10002', '11218', '11232', '10004', '11206', '10006', '10278', '11226', '10007', '10280', '11221', '11233', '10282', '10012', '10009', '10013', '11237', '10003', '11220', '11222', '10010', '11210', '10014', '11230', '11109', '11385', '10016', '11378', '11207', '11101', '10011', '10119', '10168', '10174', '10165', '10017', '10170', '10199', '10173', '10167', '10001', '10018', '10154', '11104', '10112', '10111', '10044', '10022', '10020', '10036', '11208', '11377', '11379', '10065', '11106', '10019', '10021']\n",
      "roaming time 0.7305077755167632\n",
      "dropoffs ['10023', '10119', '10022', '10010', '10019', '10001', '10020', '10278', '10014', '10036', '11355', '10025', '10009', '10018', '10016', '10003', '10199', '10017', '10024', '11222', '10165', '10075', '10012', '10173', '10065', '10013', '10021', '10028', '11436', '10011', '10111', '10033', '10112', '10174', '10168', '7114', '7310', '10154', '10170', '10167', '10069', '11379', '10029', '10128', '11217', '10004', '10282', '11213', '10452', '11106', '10026', '10032', '7030', '10038', '10031', '11357', '7086', '10034', '11205', '11216', '10006', '11109', '10027', '11201', '11102', '11516', '11369', '10007', '11103', '11104', '7302', '10280', '11215', '11214', '11211', '10453', '10044', '11370', '10002', '10030', '11105', '11238', '11206', '10037', '11430', '11375', '11101', '10471', '10468', '11209', '11371', '10465', '11225', '11415', '11231', '11358', '10115', '7306', '11228', '11373', '11378', '10039', '10040', '10103', '10462', '10451', '11372', '11374', '11232', '11218', '11237', '11204', '10461', '11364', '11219', '11221', '11354', '7423', '10005', '11226', '10475', '11417', '10470']\n",
      "going from  10020  to  10012  at  19.47027137835353\n"
     ]
    }
   ],
   "source": [
    "taxiRevenue.test(historical_data.iloc[14000], _Q, dropPickMap, meanTrip)"
   ]
  },
  {
   "cell_type": "code",
   "execution_count": null,
   "metadata": {
    "collapsed": true
   },
   "outputs": [],
   "source": []
  },
  {
   "cell_type": "markdown",
   "metadata": {},
   "source": [
    "## Merge Train Data"
   ]
  },
  {
   "cell_type": "code",
   "execution_count": 247,
   "metadata": {},
   "outputs": [
    {
     "name": "stderr",
     "output_type": "stream",
     "text": [
      "C:\\ProgramData\\Anaconda3\\lib\\site-packages\\IPython\\core\\interactiveshell.py:2698: DtypeWarning: Columns (4) have mixed types. Specify dtype option on import or set low_memory=False.\n",
      "  interactivity=interactivity, compiler=compiler, result=result)\n"
     ]
    }
   ],
   "source": [
    "train_data1 = pd.read_csv('clean_data.csv')\n",
    "train_data2 = pd.read_csv('clean_data_2.csv')\n",
    "train_data3 = pd.read_csv('clean_data_3.csv')\n",
    "train_data4 = pd.read_csv('clean_data_4.csv')\n",
    "frames = [train_data1, train_data2, train_data3, train_data4]\n",
    "result = pd.concat(frames)\n",
    "result.to_csv('clean_train_data.csv', index=False)"
   ]
  },
  {
   "cell_type": "code",
   "execution_count": 248,
   "metadata": {},
   "outputs": [
    {
     "data": {
      "text/plain": [
       "(1934354, 38)"
      ]
     },
     "execution_count": 248,
     "metadata": {},
     "output_type": "execute_result"
    }
   ],
   "source": [
    "result.shape"
   ]
  },
  {
   "cell_type": "code",
   "execution_count": null,
   "metadata": {
    "collapsed": true
   },
   "outputs": [],
   "source": []
  }
 ],
 "metadata": {
  "kernelspec": {
   "display_name": "Python 3",
   "language": "python",
   "name": "python3"
  },
  "language_info": {
   "codemirror_mode": {
    "name": "ipython",
    "version": 3
   },
   "file_extension": ".py",
   "mimetype": "text/x-python",
   "name": "python",
   "nbconvert_exporter": "python",
   "pygments_lexer": "ipython3",
   "version": "3.6.3"
  }
 },
 "nbformat": 4,
 "nbformat_minor": 2
}
