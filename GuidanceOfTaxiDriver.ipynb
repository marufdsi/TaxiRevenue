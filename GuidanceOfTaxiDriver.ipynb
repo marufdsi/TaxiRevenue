{
 "cells": [
  {
   "cell_type": "code",
   "execution_count": 145,
   "metadata": {},
   "outputs": [],
   "source": [
    "import numpy as np\n",
    "import matplotlib.pyplot as plt \n",
    "from mpl_toolkits.mplot3d import Axes3D\n",
    "from uszipcode import ZipcodeSearchEngine\n",
    "from geopy.geocoders import Nominatim\n",
    "\n",
    "import pandas as pd\n",
    "import seaborn.apionly as sns\n",
    "from datetime import date, datetime\n",
    "from haversine import haversine\n",
    "\n",
    "# statistics package\n",
    "import statsmodels.api as sm\n",
    "from statsmodels.formula.api import ols\n",
    "from scipy import stats\n",
    "from random import randint\n",
    "# packages for mapping\n",
    "from mpl_toolkits.basemap import Basemap\n",
    "\n",
    "# packages for interactive graphs\n",
    "from ipywidgets import widgets, interact\n",
    "from IPython.display import display\n",
    "from copy import deepcopy as copy\n",
    "import time\n",
    "from geopy.geocoders import Nominatim\n",
    "\n",
    "from time import sleep\n",
    "import requests\n",
    "import time,datetime\n",
    "import os\n",
    "%matplotlib inline"
   ]
  },
  {
   "cell_type": "code",
   "execution_count": 101,
   "metadata": {
    "collapsed": true
   },
   "outputs": [],
   "source": [
    "findzip = ZipcodeSearchEngine()"
   ]
  },
  {
   "cell_type": "code",
   "execution_count": 263,
   "metadata": {},
   "outputs": [],
   "source": [
    "historical_data = pd.read_csv('clean_train_data.csv')"
   ]
  },
  {
   "cell_type": "code",
   "execution_count": 264,
   "metadata": {},
   "outputs": [
    {
     "data": {
      "text/html": [
       "<div>\n",
       "<style>\n",
       "    .dataframe thead tr:only-child th {\n",
       "        text-align: right;\n",
       "    }\n",
       "\n",
       "    .dataframe thead th {\n",
       "        text-align: left;\n",
       "    }\n",
       "\n",
       "    .dataframe tbody tr th {\n",
       "        vertical-align: top;\n",
       "    }\n",
       "</style>\n",
       "<table border=\"1\" class=\"dataframe\">\n",
       "  <thead>\n",
       "    <tr style=\"text-align: right;\">\n",
       "      <th></th>\n",
       "      <th>medallion</th>\n",
       "      <th>hack_license</th>\n",
       "      <th>vendor_id</th>\n",
       "      <th>rate_code</th>\n",
       "      <th>store_and_fwd_flag</th>\n",
       "      <th>pickup_datetime</th>\n",
       "      <th>dropoff_datetime</th>\n",
       "      <th>passenger_count</th>\n",
       "      <th>trip_time_in_secs</th>\n",
       "      <th>trip_distance</th>\n",
       "      <th>...</th>\n",
       "      <th>pickup_date</th>\n",
       "      <th>dropoff_date</th>\n",
       "      <th>distance</th>\n",
       "      <th>speed</th>\n",
       "      <th>day_interval</th>\n",
       "      <th>waiting_time</th>\n",
       "      <th>waiting_penalty</th>\n",
       "      <th>pickup_zipcode</th>\n",
       "      <th>dropoff_zipcode</th>\n",
       "      <th>weather</th>\n",
       "    </tr>\n",
       "  </thead>\n",
       "  <tbody>\n",
       "    <tr>\n",
       "      <th>0</th>\n",
       "      <td>BE530E79CB7E459DEF5BBDF2F319EDC1</td>\n",
       "      <td>0002555BBE359440D6CEB34B699D3932</td>\n",
       "      <td>CMT</td>\n",
       "      <td>1</td>\n",
       "      <td>N</td>\n",
       "      <td>2013-01-01 19:00:00</td>\n",
       "      <td>2013-01-01 19:16:33</td>\n",
       "      <td>1</td>\n",
       "      <td>992</td>\n",
       "      <td>7.9</td>\n",
       "      <td>...</td>\n",
       "      <td>2013-01-01</td>\n",
       "      <td>2013-01-01</td>\n",
       "      <td>11.499047</td>\n",
       "      <td>41.730414</td>\n",
       "      <td>2</td>\n",
       "      <td>0.000000</td>\n",
       "      <td>0.000000</td>\n",
       "      <td>11371</td>\n",
       "      <td>10016</td>\n",
       "      <td>Rain</td>\n",
       "    </tr>\n",
       "    <tr>\n",
       "      <th>1</th>\n",
       "      <td>BE530E79CB7E459DEF5BBDF2F319EDC1</td>\n",
       "      <td>0002555BBE359440D6CEB34B699D3932</td>\n",
       "      <td>CMT</td>\n",
       "      <td>1</td>\n",
       "      <td>N</td>\n",
       "      <td>2013-01-01 19:52:35</td>\n",
       "      <td>2013-01-01 19:58:07</td>\n",
       "      <td>2</td>\n",
       "      <td>331</td>\n",
       "      <td>1.5</td>\n",
       "      <td>...</td>\n",
       "      <td>2013-01-01</td>\n",
       "      <td>2013-01-01</td>\n",
       "      <td>3.178577</td>\n",
       "      <td>34.570622</td>\n",
       "      <td>2</td>\n",
       "      <td>2016.523623</td>\n",
       "      <td>2.800727</td>\n",
       "      <td>10174</td>\n",
       "      <td>10009</td>\n",
       "      <td>Rain</td>\n",
       "    </tr>\n",
       "    <tr>\n",
       "      <th>2</th>\n",
       "      <td>BE530E79CB7E459DEF5BBDF2F319EDC1</td>\n",
       "      <td>0002555BBE359440D6CEB34B699D3932</td>\n",
       "      <td>CMT</td>\n",
       "      <td>1</td>\n",
       "      <td>N</td>\n",
       "      <td>2013-01-01 21:23:24</td>\n",
       "      <td>2013-01-01 21:40:06</td>\n",
       "      <td>1</td>\n",
       "      <td>1001</td>\n",
       "      <td>9.2</td>\n",
       "      <td>...</td>\n",
       "      <td>2013-01-01</td>\n",
       "      <td>2013-01-01</td>\n",
       "      <td>13.149924</td>\n",
       "      <td>47.292434</td>\n",
       "      <td>2</td>\n",
       "      <td>6736.024510</td>\n",
       "      <td>9.355590</td>\n",
       "      <td>11371</td>\n",
       "      <td>10009</td>\n",
       "      <td>Rain</td>\n",
       "    </tr>\n",
       "    <tr>\n",
       "      <th>3</th>\n",
       "      <td>BE530E79CB7E459DEF5BBDF2F319EDC1</td>\n",
       "      <td>0002555BBE359440D6CEB34B699D3932</td>\n",
       "      <td>CMT</td>\n",
       "      <td>1</td>\n",
       "      <td>N</td>\n",
       "      <td>2013-01-01 23:01:07</td>\n",
       "      <td>2013-01-01 23:05:41</td>\n",
       "      <td>2</td>\n",
       "      <td>273</td>\n",
       "      <td>1.7</td>\n",
       "      <td>...</td>\n",
       "      <td>2013-01-01</td>\n",
       "      <td>2013-01-01</td>\n",
       "      <td>0.475662</td>\n",
       "      <td>6.272460</td>\n",
       "      <td>2</td>\n",
       "      <td>6067.954056</td>\n",
       "      <td>8.427714</td>\n",
       "      <td>11369</td>\n",
       "      <td>11369</td>\n",
       "      <td>Rain</td>\n",
       "    </tr>\n",
       "    <tr>\n",
       "      <th>4</th>\n",
       "      <td>BE530E79CB7E459DEF5BBDF2F319EDC1</td>\n",
       "      <td>0002555BBE359440D6CEB34B699D3932</td>\n",
       "      <td>CMT</td>\n",
       "      <td>1</td>\n",
       "      <td>N</td>\n",
       "      <td>2013-01-01 23:40:33</td>\n",
       "      <td>2013-01-01 23:53:54</td>\n",
       "      <td>1</td>\n",
       "      <td>801</td>\n",
       "      <td>7.5</td>\n",
       "      <td>...</td>\n",
       "      <td>2013-01-01</td>\n",
       "      <td>2013-01-01</td>\n",
       "      <td>6.674613</td>\n",
       "      <td>29.998262</td>\n",
       "      <td>2</td>\n",
       "      <td>14321.085900</td>\n",
       "      <td>19.890397</td>\n",
       "      <td>11371</td>\n",
       "      <td>10128</td>\n",
       "      <td>Rain</td>\n",
       "    </tr>\n",
       "  </tbody>\n",
       "</table>\n",
       "<p>5 rows × 37 columns</p>\n",
       "</div>"
      ],
      "text/plain": [
       "                          medallion                      hack_license  \\\n",
       "0  BE530E79CB7E459DEF5BBDF2F319EDC1  0002555BBE359440D6CEB34B699D3932   \n",
       "1  BE530E79CB7E459DEF5BBDF2F319EDC1  0002555BBE359440D6CEB34B699D3932   \n",
       "2  BE530E79CB7E459DEF5BBDF2F319EDC1  0002555BBE359440D6CEB34B699D3932   \n",
       "3  BE530E79CB7E459DEF5BBDF2F319EDC1  0002555BBE359440D6CEB34B699D3932   \n",
       "4  BE530E79CB7E459DEF5BBDF2F319EDC1  0002555BBE359440D6CEB34B699D3932   \n",
       "\n",
       "  vendor_id  rate_code store_and_fwd_flag      pickup_datetime  \\\n",
       "0       CMT          1                  N  2013-01-01 19:00:00   \n",
       "1       CMT          1                  N  2013-01-01 19:52:35   \n",
       "2       CMT          1                  N  2013-01-01 21:23:24   \n",
       "3       CMT          1                  N  2013-01-01 23:01:07   \n",
       "4       CMT          1                  N  2013-01-01 23:40:33   \n",
       "\n",
       "      dropoff_datetime  passenger_count  trip_time_in_secs  trip_distance  \\\n",
       "0  2013-01-01 19:16:33                1                992            7.9   \n",
       "1  2013-01-01 19:58:07                2                331            1.5   \n",
       "2  2013-01-01 21:40:06                1               1001            9.2   \n",
       "3  2013-01-01 23:05:41                2                273            1.7   \n",
       "4  2013-01-01 23:53:54                1                801            7.5   \n",
       "\n",
       "    ...     pickup_date  dropoff_date   distance      speed  day_interval  \\\n",
       "0   ...      2013-01-01    2013-01-01  11.499047  41.730414             2   \n",
       "1   ...      2013-01-01    2013-01-01   3.178577  34.570622             2   \n",
       "2   ...      2013-01-01    2013-01-01  13.149924  47.292434             2   \n",
       "3   ...      2013-01-01    2013-01-01   0.475662   6.272460             2   \n",
       "4   ...      2013-01-01    2013-01-01   6.674613  29.998262             2   \n",
       "\n",
       "   waiting_time  waiting_penalty  pickup_zipcode  dropoff_zipcode  weather  \n",
       "0      0.000000         0.000000           11371            10016     Rain  \n",
       "1   2016.523623         2.800727           10174            10009     Rain  \n",
       "2   6736.024510         9.355590           11371            10009     Rain  \n",
       "3   6067.954056         8.427714           11369            11369     Rain  \n",
       "4  14321.085900        19.890397           11371            10128     Rain  \n",
       "\n",
       "[5 rows x 37 columns]"
      ]
     },
     "execution_count": 264,
     "metadata": {},
     "output_type": "execute_result"
    }
   ],
   "source": [
    "historical_data.head()"
   ]
  },
  {
   "cell_type": "code",
   "execution_count": 265,
   "metadata": {},
   "outputs": [
    {
     "data": {
      "text/plain": [
       "Index(['medallion', 'hack_license', 'vendor_id', 'rate_code',\n",
       "       'store_and_fwd_flag', 'pickup_datetime', 'dropoff_datetime',\n",
       "       'passenger_count', 'trip_time_in_secs', 'trip_distance',\n",
       "       'pickup_longitude', 'pickup_latitude', 'dropoff_longitude',\n",
       "       'dropoff_latitude', 'fare_amount', 'payment_type', 'surcharge',\n",
       "       'mta_tax', 'tip_amount', 'tolls_amount', 'total_amount', 'pickup_day',\n",
       "       'pickup_weekday', 'pickup_hour', 'pickup_minute', 'pickup_time',\n",
       "       'dropoff_hour', 'pickup_date', 'dropoff_date', 'distance', 'speed',\n",
       "       'day_interval', 'waiting_time', 'waiting_penalty', 'pickup_zipcode',\n",
       "       'dropoff_zipcode', 'weather'],\n",
       "      dtype='object')"
      ]
     },
     "execution_count": 265,
     "metadata": {},
     "output_type": "execute_result"
    }
   ],
   "source": [
    "historical_data.keys()"
   ]
  },
  {
   "cell_type": "markdown",
   "metadata": {},
   "source": [
    "## Best Revenue from Historical Data"
   ]
  },
  {
   "cell_type": "code",
   "execution_count": 266,
   "metadata": {},
   "outputs": [],
   "source": [
    "best_revenue = historical_data.groupby(['hack_license','pickup_date'])['total_amount'].sum()"
   ]
  },
  {
   "cell_type": "code",
   "execution_count": 267,
   "metadata": {},
   "outputs": [
    {
     "data": {
      "text/plain": [
       "895.7299999999999"
      ]
     },
     "execution_count": 267,
     "metadata": {},
     "output_type": "execute_result"
    }
   ],
   "source": [
    "np.max(best_revenue.reset_index()['total_amount'])"
   ]
  },
  {
   "cell_type": "markdown",
   "metadata": {},
   "source": [
    "## Preprocess"
   ]
  },
  {
   "cell_type": "code",
   "execution_count": 268,
   "metadata": {
    "collapsed": true
   },
   "outputs": [],
   "source": [
    "historical_data[\"dropoff_minute\"] = pd.to_datetime(historical_data[\"dropoff_datetime\"]).apply(lambda x: x.minute)\n",
    "historical_data[\"dropoff_time\"] =historical_data[\"dropoff_hour\"] + (historical_data[\"dropoff_minute\"] / 60)"
   ]
  },
  {
   "cell_type": "markdown",
   "metadata": {},
   "source": [
    "## Reinforcement Model"
   ]
  },
  {
   "cell_type": "code",
   "execution_count": 269,
   "metadata": {
    "collapsed": true
   },
   "outputs": [],
   "source": [
    "class TaxiWorld():\n",
    "    def __init__(self):\n",
    "        self.waiting_penalty = 5.00\n",
    "        pass\n",
    "                \n",
    "    def getReward(self, row):\n",
    "        if row['waiting_time']/3600<=2:\n",
    "            return row['total_amount'] - row['waiting_time']/3600*self.waiting_penalty\n",
    "        else:\n",
    "            return row['total_amount']\n",
    "        \n",
    "    \n",
    "    def set_waiting_penalty(self, penalty):\n",
    "        self.waiting_penalty = penalty\n",
    "        \n",
    "    def getState(self):\n",
    "        print('Current State')\n",
    "        return self.s\n",
    "    \n",
    "    def setState(self, s):\n",
    "        self.s = s\n",
    "        \n",
    "    def getStateSize(self, trip_and_fare):\n",
    "        return len(trip_and_fare['zip_code'].unique())\n",
    "    \n",
    "    def getZipCodes(self, trip_and_fare):\n",
    "        return self.zip_codes\n",
    "    \n",
    "    def getActionSize(self):\n",
    "        return len(self.actions)\n",
    "\n",
    "    def nextAction(self, s):\n",
    "        print('Calculate Next Action based on state')\n",
    "        \n",
    "    def check_Q_table(self, s):\n",
    "        if s not in self.Q:\n",
    "            self.Q[s] = dict((action, 0.0) for action in self.actions)\n",
    "            "
   ]
  },
  {
   "cell_type": "code",
   "execution_count": 270,
   "metadata": {
    "collapsed": true
   },
   "outputs": [],
   "source": [
    "env = TaxiWorld()"
   ]
  },
  {
   "cell_type": "code",
   "execution_count": 271,
   "metadata": {
    "collapsed": true
   },
   "outputs": [],
   "source": [
    "class TaxiRevenue:\n",
    "    def __init__(self, env, penalty=5.0, Q_table_file_name='saved_Q.json'):\n",
    "        self.env = env\n",
    "        self.env.set_waiting_penalty(penalty)\n",
    "        self.Q = dict()\n",
    "        self.dropPickMap= dict()\n",
    "        self.Q_table_file_name = Q_table_file_name\n",
    "        self.load_Q()\n",
    "        \n",
    "    def load_Q(self):\n",
    "        if os.path.isfile(self.Q_table_file_name):\n",
    "            with open(self.Q_table_file_name, 'r') as fp:\n",
    "                self.Q = json.load(fp)\n",
    "    \n",
    "    def store_Q(self):\n",
    "        with open(self.Q_table_file_name, 'w') as fp:\n",
    "            json.dump(self.Q, fp)\n",
    "        \n",
    "    def generate_key(self, row):\n",
    "        return str(row['pickup_zipcode']) + '_'  + str(row['pickup_weekday']) + '_' + str(row['day_interval']) + '_' + str(row['weather'])\n",
    "    \n",
    "    def get_tuples(self, key):\n",
    "        tuples = key.split('_')\n",
    "        return {'pickup_zipcode': tuples[0],\n",
    "                   'pickup_weekday': tuples[1],\n",
    "                   'day_interval': tuples[2],\n",
    "                   'weather': tuples[3]}\n",
    "    \n",
    "    def get_meantriptime(self, data):\n",
    "        map=historical_data.groupby(['pickup_zipcode', 'dropoff_zipcode'])['trip_time_in_secs'].mean()\n",
    "        return map.reset_index()\n",
    "    \n",
    "    def isValidPickup(self, taxidata, dropPickMap):\n",
    "        key=self.generate_key(taxidata)\n",
    "        if key in dropPickMap:\n",
    "            return True\n",
    "        else:\n",
    "            return False\n",
    "        \n",
    "    def generate_dropPickMap(self, data):\n",
    "        for index,row in data.T.iteritems():\n",
    "            key = self.generate_key(row)\n",
    "            if key not in self.dropPickMap:\n",
    "                self.dropPickMap[key] = []\n",
    "            if str(row['dropoff_zipcode']) not in self.dropPickMap[key]:\n",
    "                self.dropPickMap[key].append(str(row['dropoff_zipcode']))\n",
    "        return self.dropPickMap\n",
    "    \n",
    "    def getDropoff(self, key, dropPickMap):\n",
    "        posDropoff= dropPickMap[key]\n",
    "        print(\"dropoffs\",posDropoff )\n",
    "        rand=randint(0, len(posDropoff)-1)\n",
    "        return posDropoff[rand]\n",
    "         \n",
    "    def getDayInterval(self,hour):\n",
    "        if hour>=6 and hour<12:\n",
    "            return 0\n",
    "        elif hour>=12 and hour<18:\n",
    "            return 1\n",
    "        elif hour>=18 and hour<24:\n",
    "            return 2\n",
    "        else:\n",
    "            return 3\n",
    "        \n",
    "    def getAction(self, taxidata, _Q,dropPickMap, const):\n",
    "        best_reward=0\n",
    "        #best_key = 0\n",
    "        s = self.generate_key(taxidata)\n",
    "        best_key=s\n",
    "        #print(taxidata)\n",
    "        if s in _Q:\n",
    "            best_reward=_Q[s][0]*_Q[s][1]/const\n",
    "        \n",
    "        zipcode=findzip.by_zipcode(taxidata['dropoff_zipcode'])\n",
    "        temp=taxidata\n",
    "        possible_pickup=[]\n",
    "        returns=100\n",
    "        while not possible_pickup:\n",
    "            pickup_res = findzip.by_coordinate(zipcode['Latitude'], zipcode['Longitude'], radius=10, returns=returns)\n",
    "            for i in range(len(pickup_res)):\n",
    "                temp['pickup_zipcode']=pickup_res[i]['Zipcode']\n",
    "                #print(temp['pickup_zipcode'])\n",
    "                if self.isValidPickup(temp, dropPickMap):\n",
    "                    possible_pickup.append(pickup_res[i]['Zipcode'])\n",
    "\n",
    "            print(\"valid pickup\", possible_pickup)\n",
    "            returns+=10\n",
    "        \n",
    "        for key in _Q:\n",
    "            tuples=self.get_tuples(key)\n",
    "               \n",
    "            \n",
    "            if tuples['pickup_zipcode'] in possible_pickup and tuples['weather']==str(taxidata['weather']) and tuples['pickup_weekday']==str(taxidata['pickup_weekday']) and tuples['day_interval']==str(taxidata['day_interval']):\n",
    "            \n",
    "                tempReward=_Q[key][0]*_Q[key][1]/const\n",
    "                \n",
    "                if tempReward>best_reward:\n",
    "                    #print(\"in temp reward: \",tempReward)\n",
    "                    #print(\"in best reward: \",best_reward)\n",
    "                    best_key=key\n",
    "                    best_reward= tempReward\n",
    "                    #print(self.get_tuples(best_key))\n",
    "                    \n",
    "        return best_key\n",
    "    \n",
    "    def build_Q_table(self, data):\n",
    "        for index,row in data.T.iteritems():\n",
    "            key = self.generate_key(row)\n",
    "            reward = self.env.getReward(row)\n",
    "            if key not in self.Q:\n",
    "                self.Q[key] = [reward,1]\n",
    "            else:\n",
    "                self.Q[key] = [self.Q[key][0] +reward, self.Q[key][1] + 1]\n",
    "                \n",
    "    def greedy(self, s):\n",
    "        return np.argmax(self.Q[s[0]]) \n",
    "\n",
    "    def epsilon_greed(self, epsilon, s):\n",
    "        if np.random.rand() < epsilon:\n",
    "            return np.random.randint(self.n_a)\n",
    "        else:\n",
    "            return self.greedy(s)\n",
    "        \n",
    "    def train(self, trip_and_fare, Q_table_file_name =  'saved_Q.json'):\n",
    "        self.Q_table_file_name = Q_table_file_name\n",
    "        self.build_Q_table(trip_and_fare)\n",
    "        self.store_Q()\n",
    "        return self.Q\n",
    "        \n",
    "    def distance(self, lat1, lon1, lat2, lon2):\n",
    "        \"\"\"calculates the Manhattan distance between 2 points\n",
    "            using their coordinates\n",
    "\n",
    "        Parameters\n",
    "        ----------\n",
    "        lat1: float\n",
    "            latitude of first point\n",
    "\n",
    "        lon1: float\n",
    "            longitude of first point\n",
    "\n",
    "        lat2: float\n",
    "            latitude of second point\n",
    "\n",
    "        lon2: float\n",
    "            longitude of second point\n",
    "\n",
    "        Returns\n",
    "        -------\n",
    "        d: float\n",
    "            The Manhattan distance between the two points in kilometers\n",
    "\n",
    "        \"\"\"\n",
    "\n",
    "        d = haversine((lat1, lon1), (lat2, lon1)) + haversine((lat2, lon1), (lat2, lon2))\n",
    "        return d\n",
    "    \n",
    "    def find_distance(self, zip1, zip2):\n",
    "        zipcode1=findzip.by_zipcode(zip1)\n",
    "        zipcode2=findzip.by_zipcode(zip2)\n",
    "        dis=self.distance(zipcode1['Latitude'], zipcode1['Longitude'],zipcode2['Latitude'], zipcode2['Longitude'])\n",
    "        return dis\n",
    "    \n",
    "    \n",
    "    def test(self, taxidata, _Q, dropPickMap,meanTrip, maxstep=1000):\n",
    "        # TODO: Add your test routine that exmines learned policy\n",
    "        #      Using the learned policy, generate the trajectory of \n",
    "        curr_dropoff_hour=taxidata['dropoff_time']\n",
    "        #curr_pickup=taxidata['dropoff_time']\n",
    "        end_time=curr_dropoff_hour+ 12\n",
    "        \n",
    "        trace = []\n",
    "        rewards = []\n",
    "        \n",
    "        while curr_dropoff_hour <= end_time:\n",
    "            \n",
    "            best_key=self.getAction( taxidata, _Q,dropPickMap, 1000)\n",
    "            pickup_tuple= self.get_tuples(best_key)\n",
    "            \n",
    "            if int(pickup_tuple['pickup_zipcode'])!=taxidata['dropoff_zipcode']:\n",
    "                dis=self.find_distance(taxidata['dropoff_zipcode'], int(pickup_tuple['pickup_zipcode']))\n",
    "                curr_dropoff_hour+= dis/taxidata['speed']\n",
    "                print(\"roaming time\", dis/taxidata['speed'] )\n",
    "                \n",
    "            dropoff=self.getDropoff(best_key, dropPickMap)\n",
    "                \n",
    "            print(\"going from \",pickup_tuple['pickup_zipcode'], \" to \",  dropoff, \" at \", curr_dropoff_hour)\n",
    "            #curr_dropoff=curr_dropoff+meanTrip[meanTrip['pickup_zipcode']]\n",
    "            #print(pickup_tuple['pickup_zipcode'])\n",
    "            temptrip = meanTrip[(meanTrip['pickup_zipcode']==int(pickup_tuple['pickup_zipcode'])) & (meanTrip['dropoff_zipcode']==int(dropoff))]\n",
    "            meanTripTime= temptrip.iloc[0]['trip_time_in_secs']\n",
    "            #print(meanTripTime)\n",
    "            \n",
    "            curr_dropoff_hour=curr_dropoff_hour+meanTripTime/3600\n",
    "            taxidata['dropoff_zipcode']=int(dropoff)\n",
    "            taxidata['day_interval']=self.getDayInterval(curr_dropoff_hour)"
   ]
  },
  {
   "cell_type": "markdown",
   "metadata": {},
   "source": [
    "## Train the Model"
   ]
  },
  {
   "cell_type": "code",
   "execution_count": 272,
   "metadata": {},
   "outputs": [],
   "source": [
    "taxiRevenue = TaxiRevenue(env, 5.0, 'saved_Q.json')"
   ]
  },
  {
   "cell_type": "code",
   "execution_count": 273,
   "metadata": {
    "collapsed": true
   },
   "outputs": [],
   "source": [
    "_Q = taxiRevenue.train(historical_data)"
   ]
  },
  {
   "cell_type": "code",
   "execution_count": 274,
   "metadata": {},
   "outputs": [
    {
     "data": {
      "text/plain": [
       "5496"
      ]
     },
     "execution_count": 274,
     "metadata": {},
     "output_type": "execute_result"
    }
   ],
   "source": [
    "len(_Q)"
   ]
  },
  {
   "cell_type": "markdown",
   "metadata": {},
   "source": [
    "## Generate Test Data"
   ]
  },
  {
   "cell_type": "code",
   "execution_count": 275,
   "metadata": {
    "collapsed": true
   },
   "outputs": [],
   "source": [
    "dropPickMap=taxiRevenue.generate_dropPickMap(historical_data)\n",
    "meanTrip= taxiRevenue.get_meantriptime(historical_data)"
   ]
  },
  {
   "cell_type": "markdown",
   "metadata": {},
   "source": [
    "## Test the Model"
   ]
  },
  {
   "cell_type": "code",
   "execution_count": 276,
   "metadata": {},
   "outputs": [
    {
     "name": "stderr",
     "output_type": "stream",
     "text": [
      "C:\\ProgramData\\Anaconda3\\lib\\site-packages\\ipykernel_launcher.py:81: SettingWithCopyWarning: \n",
      "A value is trying to be set on a copy of a slice from a DataFrame\n",
      "\n",
      "See the caveats in the documentation: http://pandas.pydata.org/pandas-docs/stable/indexing.html#indexing-view-versus-copy\n"
     ]
    },
    {
     "name": "stdout",
     "output_type": "stream",
     "text": [
      "valid pickup ['10014', '10011', '10012', '10013', '10003', '10199', '10119', '10001', '10282', '10010', '10278', '10018', '10007', '10009', '10016', '10036', '10006', '10165', '10168', '10173', '10280', '10002', '10170', '10038', '10103', '10174', '10020', '10167', '10112', '10004', '10111', '10017', '10019', '10154', '10005', '10022', '10069', '11109', '11201', '10065', '11222', '10023', '10044', '11211', '10021', '11101', '10075', '10024', '11205', '10028', '11231', '11217', '10128', '11106', '11238', '11104', '10025', '11102', '11215', '11216', '10029', '11378', '11103', '10026', '11377', '10115', '10035', '10027']\n",
      "roaming time 0.2404467782275536\n",
      "dropoffs ['10003', '10119', '10016', '10165', '10013', '10018', '10010', '10014', '10111', '11369', '10017', '10011', '10451', '10115', '10012', '10019', '10173', '10022', '10020', '10006', '10036', '7114', '10167', '10004', '11436', '10075', '10023', '10174', '10199', '10065', '10128', '10282', '10001', '11430', '10032', '10028', '11238', '11205', '10112', '10025', '10009', '11371', '10170', '10029', '11217', '10021', '10038', '10007', '10002', '10278', '10154', '11206', '10280', '10168', '10024', '11210', '11209', '10026', '11231', '7307', '11201', '10027', '10005', '11211', '11233', '10044', '11102', '10103', '11215', '10034', '7087', '11421', '10030', '11228', '11104', '11222', '11237', '10463', '11105', '10069', '11106', '10033', '11355', '11103', '11229', '11218', '10040']\n",
      "going from  10119  to  10010  at  17.473780111560888\n"
     ]
    },
    {
     "name": "stderr",
     "output_type": "stream",
     "text": [
      "C:\\ProgramData\\Anaconda3\\lib\\site-packages\\ipykernel_launcher.py:195: SettingWithCopyWarning: \n",
      "A value is trying to be set on a copy of a slice from a DataFrame\n",
      "\n",
      "See the caveats in the documentation: http://pandas.pydata.org/pandas-docs/stable/indexing.html#indexing-view-versus-copy\n",
      "C:\\ProgramData\\Anaconda3\\lib\\site-packages\\ipykernel_launcher.py:196: SettingWithCopyWarning: \n",
      "A value is trying to be set on a copy of a slice from a DataFrame\n",
      "\n",
      "See the caveats in the documentation: http://pandas.pydata.org/pandas-docs/stable/indexing.html#indexing-view-versus-copy\n"
     ]
    },
    {
     "name": "stdout",
     "output_type": "stream",
     "text": [
      "valid pickup ['10010', '10003', '10016', '10009', '10168', '10165', '10174', '10170', '10119', '10173', '10017', '10167', '10199', '10012', '10018', '11109', '10001', '10154', '10112', '10111', '10014', '10020', '10022', '10011', '10036', '10002', '11222', '10013', '10044', '10278', '10065', '10103', '11101', '10019', '10007', '10282', '11211', '10038', '10021', '10069', '10006', '10023', '10075', '11201', '10280', '10004', '10005', '10028', '11106', '11104', '10024', '11205', '10128', '11102', '11378', '11217', '11103', '11377', '10029', '11238', '10025', '11216', '11231', '10026', '10035', '11105', '11215', '11370', '10115', '11233', '10027', '11373', '11372']\n",
      "roaming time 0.18642553001172626\n",
      "dropoffs ['10003', '10119', '10016', '10165', '10013', '10018', '10010', '10014', '10111', '11369', '10017', '10011', '10451', '10115', '10012', '10019', '10173', '10022', '10020', '10006', '10036', '7114', '10167', '10004', '11436', '10075', '10023', '10174', '10199', '10065', '10128', '10282', '10001', '11430', '10032', '10028', '11238', '11205', '10112', '10025', '10009', '11371', '10170', '10029', '11217', '10021', '10038', '10007', '10002', '10278', '10154', '11206', '10280', '10168', '10024', '11210', '11209', '10026', '11231', '7307', '11201', '10027', '10005', '11211', '11233', '10044', '11102', '10103', '11215', '10034', '7087', '11421', '10030', '11228', '11104', '11222', '11237', '10463', '11105', '10069', '11106', '10033', '11355', '11103', '11229', '11218', '10040']\n",
      "going from  10119  to  11436  at  17.77273444868647\n",
      "valid pickup ['11436', '11420', '11419', '11430', '11435', '11415', '11375', '11374', '11385', '11368', '11373', '11233', '11378', '11237', '11372', '11377', '11369', '11370', '11206', '11104', '11371', '11103', '11101', '11106', '11105', '11102']\n",
      "roaming time 0.3255661660206319\n",
      "dropoffs ['10035', '10023', '10019', '10011', '10012', '10014', '10016', '10028', '10128', '10010', '11201', '10003', '11222', '11211', '10038', '10154', '11214', '11205', '10021', '10002', '10115', '10025', '10009', '10013', '10173', '10036', '11238', '10278', '10119', '10029', '11372', '11206', '10282', '11213', '11413', '10280', '10017', '11231', '11217', '11429', '10174', '10580', '11105', '10167', '11226', '10037', '10170', '10111', '10020', '10005', '10001', '10069', '10065', '10024', '10075', '11215', '11207', '11375', '10032', '10018', '10039', '10007', '11224', '11228', '11101', '10165', '10044', '7010', '10022', '11216', '10458', '10199', '11369', '10004', '11106', '11374', '10006', '11239', '7020', '11104', '10112', '11109', '11237', '11103', '10168', '10457', '11220', '10031', '7018', '10026', '7302', '11221', '8542', '11223', '11230', '10030', '10033', '10027', '11432', '11709', '11232', '11354', '11229', '11783', '11236', '11225', '11563', '11371', '10467', '10463', '11102', '11414', '11415', '11419', '10471', '11550', '11430', '11218', '11691', '11436']\n",
      "going from  11430  to  11430  at  18.658066696578448\n",
      "valid pickup ['11430', '11436', '11420', '11419', '11435', '11415', '11375', '11385', '11374', '11233', '11368', '11373', '11237', '11378', '11372', '11377', '11369', '11370', '11104']\n",
      "dropoffs ['10035', '10023', '10019', '10011', '10012', '10014', '10016', '10028', '10128', '10010', '11201', '10003', '11222', '11211', '10038', '10154', '11214', '11205', '10021', '10002', '10115', '10025', '10009', '10013', '10173', '10036', '11238', '10278', '10119', '10029', '11372', '11206', '10282', '11213', '11413', '10280', '10017', '11231', '11217', '11429', '10174', '10580', '11105', '10167', '11226', '10037', '10170', '10111', '10020', '10005', '10001', '10069', '10065', '10024', '10075', '11215', '11207', '11375', '10032', '10018', '10039', '10007', '11224', '11228', '11101', '10165', '10044', '7010', '10022', '11216', '10458', '10199', '11369', '10004', '11106', '11374', '10006', '11239', '7020', '11104', '10112', '11109', '11237', '11103', '10168', '10457', '11220', '10031', '7018', '10026', '7302', '11221', '8542', '11223', '11230', '10030', '10033', '10027', '11432', '11709', '11232', '11354', '11229', '11783', '11236', '11225', '11563', '11371', '10467', '10463', '11102', '11414', '11415', '11419', '10471', '11550', '11430', '11218', '11691', '11436']\n",
      "going from  11430  to  11236  at  18.729426315494884\n",
      "valid pickup ['11226', '11233', '11225', '11216', '11385', '11218', '11238', '11237', '11215', '11204', '11205', '11420', '11223', '11206', '11419', '11217', '11430', '11436', '11378', '11211', '11415', '11232', '11374', '11435', '11201', '11375', '11231', '11222', '11373', '10103', '10002', '11377', '10005', '11209', '10038', '11104', '10009', '10004', '11101', '10278', '10006', '10007', '11372', '11109', '10280', '10012', '10003', '11368', '10010', '10282', '10013', '11370', '11106']\n",
      "roaming time 1.5212667827568873\n",
      "dropoffs ['10021', '10012', '10016', '11206', '10014', '10003', '10020', '10065', '10009', '11201', '10022', '10011', '10128', '10010', '10278', '11232', '11220', '10075', '10007', '10111', '10025', '10119', '11106', '10028', '10168', '10001', '10013', '11217', '10005', '10280', '11211', '10024', '11221', '10282', '10002', '10018', '10031', '11222', '10115', '10006', '10023', '11102', '10154', '10037', '10036', '11216', '10017', '10165', '10026', '10173', '10038', '10019', '11103', '10033', '11219', '10174', '10035', '10032', '11215', '10167', '11416', '11104', '10199', '10463', '11372', '11374', '11421', '10069', '11231', '11238', '10004', '11373', '11218', '10039', '11205', '10029', '11237', '11225', '10044', '11109', '11213', '11101', '10471', '11369', '10103', '10170', '11365', '7302', '11375', '11430', '11105', '11226', '11030']\n",
      "going from  10012  to  11104  at  20.569957804134123\n",
      "valid pickup ['11104', '11377', '11106', '11101', '11103', '11378', '11370', '11109', '11222', '11102', '10044', '11373', '11372', '11105', '10065', '10021', '10017', '10075', '10028', '10022', '11237', '10154', '10174', '10167', '10170', '11206', '10168', '11369', '10128', '11211', '10165', '10016', '10111', '10173', '11371', '10010', '10112', '11374', '10009', '10035', '10020', '10029', '11385', '10003', '11368', '10023', '10119', '10018', '10454', '11205', '10036', '10024', '10199', '10002', '10019', '11375', '10001', '10012', '10069', '10026', '10103', '11233', '10025', '10011', '11201', '10014', '11216', '10278', '10037', '10013', '11238', '10038', '10115', '10451', '10007', '10030', '10027', '11217', '10282']\n",
      "roaming time 0.5831420588654117\n",
      "dropoffs ['10021', '10023', '10024', '10006', '10017', '10014', '7030', '10003', '10016', '10036', '10010', '10020', '10025', '10028', '11377', '10012', '10280', '10075', '10002', '10019', '10065', '10119', '11201', '11217', '11232', '10013', '11430', '10128', '10011', '10111', '10069', '10278', '10004', '10018', '10030', '10033', '10007', '10037', '10009', '10199', '10022', '10035', '10282', '11206', '10170', '10026', '11205', '11379', '10029', '10174', '10038', '11106', '10154', '11215', '11355', '11104', '11364', '10168', '10165', '10167', '10173', '11105', '7010', '10044', '10469', '10040', '11222', '11211', '11216', '10001', '11209', '10039', '7310', '11109', '11103', '10034', '11369', '7114', '11371', '10115', '11219', '10031', '11102', '7302', '11229', '11238', '10463', '11228', '10112', '10027', '11231', '10460', '11214', '11358', '10032', '11374', '11208', '11375', '11221', '10453']\n",
      "going from  10020  to  10128  at  21.480312252380067\n",
      "valid pickup ['10128', '10028', '10029', '10075', '10021', '10024', '11102', '10065', '10026', '10035', '10025', '10023', '10044', '10022', '11106', '10154', '10115', '10111', '10112', '10027', '10020', '10037', '10069', '10454', '10167', '11105', '10017', '10019', '10030', '10170', '11103', '10174', '10173', '10165', '10168', '11109', '11101', '10036', '10451', '10016', '10018', '11104', '10031', '10119', '10199', '10001', '10039', '10010', '11370', '11222', '11377', '10011', '10003', '11371', '10032', '10452', '10009', '11372', '10014', '11369', '10012', '11378', '11373', '10033', '11211', '10453', '10002', '10013', '11206', '10103', '10278']\n",
      "roaming time 0.42574928720206817\n",
      "dropoffs ['10021', '10023', '10024', '10006', '10017', '10014', '7030', '10003', '10016', '10036', '10010', '10020', '10025', '10028', '11377', '10012', '10280', '10075', '10002', '10019', '10065', '10119', '11201', '11217', '11232', '10013', '11430', '10128', '10011', '10111', '10069', '10278', '10004', '10018', '10030', '10033', '10007', '10037', '10009', '10199', '10022', '10035', '10282', '11206', '10170', '10026', '11205', '11379', '10029', '10174', '10038', '11106', '10154', '11215', '11355', '11104', '11364', '10168', '10165', '10167', '10173', '11105', '7010', '10044', '10469', '10040', '11222', '11211', '11216', '10001', '11209', '10039', '7310', '11109', '11103', '10034', '11369', '7114', '11371', '10115', '11219', '10031', '11102', '7302', '11229', '11238', '10463', '11228', '10112', '10027', '11231', '10460', '11214', '11358', '10032', '11374', '11208', '11375', '11221', '10453']\n",
      "going from  10020  to  11379  at  22.09561006188961\n"
     ]
    },
    {
     "name": "stdout",
     "output_type": "stream",
     "text": [
      "valid pickup ['11374', '11373', '11378', '11385', '11375', '11377', '11237', '11372', '11104', '11415', '11368', '11370', '11369', '11206', '11233', '11103', '11419', '11101', '11222', '11106', '11435', '11371', '11211', '11205', '11105', '11109', '11420', '11102', '11216', '10044', '11238', '10017', '10009', '10065', '11436', '10021', '11225', '10174', '10075', '10022', '10010', '10028', '10002', '10170', '10154', '10167', '10168', '10016', '10165', '10003', '11201', '11217', '10173', '10128', '10103', '10035', '10111', '10112', '10454', '10020', '10029', '10012']\n",
      "roaming time 1.1083329386009881\n",
      "dropoffs ['10021', '10023', '10024', '10006', '10017', '10014', '7030', '10003', '10016', '10036', '10010', '10020', '10025', '10028', '11377', '10012', '10280', '10075', '10002', '10019', '10065', '10119', '11201', '11217', '11232', '10013', '11430', '10128', '10011', '10111', '10069', '10278', '10004', '10018', '10030', '10033', '10007', '10037', '10009', '10199', '10022', '10035', '10282', '11206', '10170', '10026', '11205', '11379', '10029', '10174', '10038', '11106', '10154', '11215', '11355', '11104', '11364', '10168', '10165', '10167', '10173', '11105', '7010', '10044', '10469', '10040', '11222', '11211', '11216', '10001', '11209', '10039', '7310', '11109', '11103', '10034', '11369', '7114', '11371', '10115', '11219', '10031', '11102', '7302', '11229', '11238', '10463', '11228', '10112', '10027', '11231', '10460', '11214', '11358', '10032', '11374', '11208', '11375', '11221', '10453']\n",
      "going from  10020  to  10174  at  23.650808079855675\n",
      "valid pickup ['10174', '10170', '10168', '10167', '10165', '10017', '10173', '10016', '10154', '10111', '10112', '10022', '10020', '10010', '10119', '10018', '11109', '10065', '10044', '10036', '10199', '10001', '10019', '10003', '10021', '10009', '10075', '10023', '11101', '10011', '10069', '11222', '10028', '10014', '10012', '10024', '10128', '11106', '10002', '10013', '11102', '11104', '10278', '10103', '11211', '10029', '10007', '10282', '10025', '10038', '11103', '10006', '11206', '11201', '10026', '10280', '11377', '10035', '10004', '11378', '10005', '11105', '11205', '10115', '11237', '10027', '11370', '10454', '10037', '10030', '11217', '11372', '11238', '11373', '11216', '10451']\n",
      "roaming time 0.13570517219639666\n",
      "dropoffs ['10021', '10023', '10024', '10006', '10017', '10014', '7030', '10003', '10016', '10036', '10010', '10020', '10025', '10028', '11377', '10012', '10280', '10075', '10002', '10019', '10065', '10119', '11201', '11217', '11232', '10013', '11430', '10128', '10011', '10111', '10069', '10278', '10004', '10018', '10030', '10033', '10007', '10037', '10009', '10199', '10022', '10035', '10282', '11206', '10170', '10026', '11205', '11379', '10029', '10174', '10038', '11106', '10154', '11215', '11355', '11104', '11364', '10168', '10165', '10167', '10173', '11105', '7010', '10044', '10469', '10040', '11222', '11211', '11216', '10001', '11209', '10039', '7310', '11109', '11103', '10034', '11369', '7114', '11371', '10115', '11219', '10031', '11102', '7302', '11229', '11238', '10463', '11228', '10112', '10027', '11231', '10460', '11214', '11358', '10032', '11374', '11208', '11375', '11221', '10453']\n",
      "going from  10020  to  10469  at  23.949286051733473\n",
      "valid pickup ['10459', '10040', '10032', '10039', '10037', '10031', '10030', '11371', '10035', '11354', '11105', '10027', '10026', '11369', '10115', '10029', '11102', '10025', '11370', '11103', '10128', '11368', '11372', '10028', '11106', '10075', '10024', '10021', '11373', '11377', '11104']\n",
      "roaming time 1.6554172263222466\n",
      "dropoffs ['11430', '10154', '11371', '10037', '10024', '10013', '10016', '10003', '10173', '10128', '10028', '10021', '10007', '10111', '10031', '10069', '10023', '10065', '10165', '10019', '10025', '10036', '11102', '10032', '10026', '10119', '10075', '10020', '10011', '10012', '11369', '10115', '10001', '10174', '11361', '10278', '10030', '11105', '10009', '10033', '10452', '10035', '10170', '10014']\n",
      "going from  10024  to  11102  at  26.027036611389054\n",
      "valid pickup ['11102', '11106', '11103', '11105', '10028', '10128', '10075', '10035', '10029', '10021', '10044', '10065', '11104', '11101', '11370', '10022', '10026', '11109', '10154', '10024', '11377', '10017', '10023', '10167', '10111', '10025', '10174', '10112', '10037', '11371', '10170', '11372', '10020', '10168', '10173', '10165', '10030', '10115', '11369', '10016', '10027', '11222', '10019', '10069', '10036', '11373', '10018', '10010', '11378', '10119', '10199', '10039', '10031', '10001', '10009', '10003', '10459', '11368', '10011', '11211', '10032', '11374', '11206', '10012', '10014', '10002', '11354', '10103']\n",
      "roaming time 0.9311675521700689\n",
      "dropoffs ['10012', '11221', '11201', '10119', '10018', '10028', '10009', '7114', '10023', '10022', '10003', '10010', '11238', '11206', '10017', '10075', '10128', '10020', '10014', '10006', '10280', '10016', '10040', '11430', '10002', '10011', '10199', '10019', '10024', '10065', '11211', '10036', '10004', '11214', '11205', '10278', '11104', '11222', '11369', '11231', '10033', '10025', '11210', '11109', '11102', '11208', '11237', '11216', '10001', '10032', '11371', '10111', '11217', '10007', '11368', '10021', '11101', '10031', '10112', '10038', '11226', '11215', '10154', '10165', '11220', '10044', '11436', '10030', '10013', '10039', '11103', '11213', '10282', '11372', '10168', '10173', '10034', '10167']\n",
      "going from  10012  to  10154  at  27.30969305244801\n",
      "valid pickup ['10154', '10022', '10167', '10111', '10112', '10170', '10017', '10174', '10173', '10165', '10168', '10020', '10065', '10016', '10044', '10018', '10036', '10021', '10119', '11109', '10019', '10199', '10075', '10023', '10010', '10001', '10069', '10028', '11101', '10003', '10024', '10128', '10011', '10009', '11222', '11106', '10014', '11102', '10012', '10029', '11104', '10025', '10002', '10013', '11103', '10026', '10278', '10103', '11211', '10035', '10007', '10282', '10115', '11105', '11377', '10038', '10027', '10006', '11206', '11378', '10280', '11201', '11370', '10037', '10004', '10030', '11205', '11372', '10031', '11373', '11221', '10039', '11217', '11371']\n",
      "roaming time 0.4794665549041991\n",
      "dropoffs ['10012', '11221', '11201', '10119', '10018', '10028', '10009', '7114', '10023', '10022', '10003', '10010', '11238', '11206', '10017', '10075', '10128', '10020', '10014', '10006', '10280', '10016', '10040', '11430', '10002', '10011', '10199', '10019', '10024', '10065', '11211', '10036', '10004', '11214', '11205', '10278', '11104', '11222', '11369', '11231', '10033', '10025', '11210', '11109', '11102', '11208', '11237', '11216', '10001', '10032', '11371', '10111', '11217', '10007', '11368', '10021', '11101', '10031', '10112', '10038', '11226', '11215', '10154', '10165', '11220', '10044', '11436', '10030', '10013', '10039', '11103', '11213', '10282', '11372', '10168', '10173', '10034', '10167']\n",
      "going from  10012  to  10020  at  27.99789066795827\n",
      "valid pickup ['10020', '10112', '10111', '10173', '10154', '10167', '10036', '10165', '10170', '10022', '10018', '10168', '10174', '10019', '10017', '10119', '10016', '10199', '10001', '10065', '10023', '10069', '10021', '10044', '10010', '10075', '11109', '10011', '10024', '10028', '10003', '10014', '10128', '10009', '11101', '10012', '11222', '10025', '11106', '10029', '11102', '10013', '10002', '10026', '10278', '11104', '10282', '10103', '10007', '10115', '10035', '11103', '11211', '10027', '10038', '10006', '10280', '11105', '10004', '11201', '11377', '10037', '11206', '10030', '11378', '11370', '11205', '10031', '10039', '11372']\n",
      "roaming time 0.436826347150563\n",
      "dropoffs ['10012', '11221', '11201', '10119', '10018', '10028', '10009', '7114', '10023', '10022', '10003', '10010', '11238', '11206', '10017', '10075', '10128', '10020', '10014', '10006', '10280', '10016', '10040', '11430', '10002', '10011', '10199', '10019', '10024', '10065', '11211', '10036', '10004', '11214', '11205', '10278', '11104', '11222', '11369', '11231', '10033', '10025', '11210', '11109', '11102', '11208', '11237', '11216', '10001', '10032', '11371', '10111', '11217', '10007', '11368', '10021', '11101', '10031', '10112', '10038', '11226', '11215', '10154', '10165', '11220', '10044', '11436', '10030', '10013', '10039', '11103', '11213', '10282', '11372', '10168', '10173', '10034', '10167']\n",
      "going from  10012  to  10024  at  28.67065179424455\n"
     ]
    },
    {
     "name": "stdout",
     "output_type": "stream",
     "text": [
      "valid pickup ['10024', '10023', '10025', '10069', '10128', '10028', '10075', '10021', '10019', '10029', '10065', '10026', '10115', '10020', '10022', '10111', '10112', '10154', '10027', '10036', '10167', '10173', '10044', '10170', '10018', '10165', '10017', '10174', '10168', '10035', '11102', '10001', '10199', '10119', '10016', '10030', '10037', '11109', '11106', '10031', '10010', '10011', '11101', '10039', '11105', '11103', '10003', '10014', '11104', '10009', '10032', '11222', '10012', '11370', '10013', '11377', '10002', '10278', '10459', '10282', '11371', '10007', '10103', '11211']\n",
      "roaming time 0.7286728934243034\n",
      "dropoffs ['10012', '11221', '11201', '10119', '10018', '10028', '10009', '7114', '10023', '10022', '10003', '10010', '11238', '11206', '10017', '10075', '10128', '10020', '10014', '10006', '10280', '10016', '10040', '11430', '10002', '10011', '10199', '10019', '10024', '10065', '11211', '10036', '10004', '11214', '11205', '10278', '11104', '11222', '11369', '11231', '10033', '10025', '11210', '11109', '11102', '11208', '11237', '11216', '10001', '10032', '11371', '10111', '11217', '10007', '11368', '10021', '11101', '10031', '10112', '10038', '11226', '11215', '10154', '10165', '11220', '10044', '11436', '10030', '10013', '10039', '11103', '11213', '10282', '11372', '10168', '10173', '10034', '10167']\n",
      "going from  10012  to  10011  at  29.71965401977104\n"
     ]
    }
   ],
   "source": [
    "taxiRevenue.test(historical_data.iloc[14000], _Q, dropPickMap, meanTrip)"
   ]
  },
  {
   "cell_type": "code",
   "execution_count": null,
   "metadata": {
    "collapsed": true
   },
   "outputs": [],
   "source": []
  },
  {
   "cell_type": "markdown",
   "metadata": {},
   "source": [
    "## Merge Train Data"
   ]
  },
  {
   "cell_type": "code",
   "execution_count": 277,
   "metadata": {},
   "outputs": [
    {
     "name": "stderr",
     "output_type": "stream",
     "text": [
      "C:\\ProgramData\\Anaconda3\\lib\\site-packages\\IPython\\core\\interactiveshell.py:2698: DtypeWarning: Columns (4) have mixed types. Specify dtype option on import or set low_memory=False.\n",
      "  interactivity=interactivity, compiler=compiler, result=result)\n"
     ]
    }
   ],
   "source": [
    "train_data1 = pd.read_csv('clean_data.csv')\n",
    "train_data2 = pd.read_csv('clean_data_2.csv')\n",
    "train_data3 = pd.read_csv('clean_data_3.csv')\n",
    "train_data4 = pd.read_csv('clean_data_4.csv')\n",
    "train_data5 = pd.read_csv('clean_data_5.csv')\n",
    "frames = [train_data1, train_data2, train_data3, train_data4, train_data5]\n",
    "result = pd.concat(frames)\n",
    "result.to_csv('clean_train_data.csv', index=False)"
   ]
  },
  {
   "cell_type": "code",
   "execution_count": 278,
   "metadata": {},
   "outputs": [
    {
     "data": {
      "text/plain": [
       "(2905906, 38)"
      ]
     },
     "execution_count": 278,
     "metadata": {},
     "output_type": "execute_result"
    }
   ],
   "source": [
    "result.shape"
   ]
  },
  {
   "cell_type": "code",
   "execution_count": null,
   "metadata": {
    "collapsed": true
   },
   "outputs": [],
   "source": []
  }
 ],
 "metadata": {
  "kernelspec": {
   "display_name": "Python 3",
   "language": "python",
   "name": "python3"
  },
  "language_info": {
   "codemirror_mode": {
    "name": "ipython",
    "version": 3
   },
   "file_extension": ".py",
   "mimetype": "text/x-python",
   "name": "python",
   "nbconvert_exporter": "python",
   "pygments_lexer": "ipython3",
   "version": "3.6.3"
  }
 },
 "nbformat": 4,
 "nbformat_minor": 2
}
