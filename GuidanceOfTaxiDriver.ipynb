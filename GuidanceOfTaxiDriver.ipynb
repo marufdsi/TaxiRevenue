{
 "cells": [
  {
   "cell_type": "code",
   "execution_count": 1,
   "metadata": {},
   "outputs": [
    {
     "name": "stderr",
     "output_type": "stream",
     "text": [
      "C:\\ProgramData\\Anaconda3\\lib\\site-packages\\seaborn\\apionly.py:6: UserWarning: As seaborn no longer sets a default style on import, the seaborn.apionly module is deprecated. It will be removed in a future version.\n",
      "  warnings.warn(msg, UserWarning)\n",
      "C:\\ProgramData\\Anaconda3\\lib\\site-packages\\statsmodels\\compat\\pandas.py:56: FutureWarning: The pandas.core.datetools module is deprecated and will be removed in a future version. Please use the pandas.tseries module instead.\n",
      "  from pandas.core import datetools\n"
     ]
    }
   ],
   "source": [
    "import numpy as np\n",
    "import matplotlib.pyplot as plt \n",
    "from mpl_toolkits.mplot3d import Axes3D\n",
    "from uszipcode import ZipcodeSearchEngine\n",
    "from geopy.geocoders import Nominatim\n",
    "\n",
    "import pandas as pd\n",
    "import seaborn.apionly as sns\n",
    "from datetime import date, datetime\n",
    "from haversine import haversine\n",
    "\n",
    "# statistics package\n",
    "import statsmodels.api as sm\n",
    "from statsmodels.formula.api import ols\n",
    "from scipy import stats\n",
    "from random import randint\n",
    "# packages for mapping\n",
    "from mpl_toolkits.basemap import Basemap\n",
    "\n",
    "# packages for interactive graphs\n",
    "from ipywidgets import widgets, interact\n",
    "from IPython.display import display\n",
    "from copy import deepcopy as copy\n",
    "import time\n",
    "from geopy.geocoders import Nominatim\n",
    "\n",
    "from time import sleep\n",
    "import requests\n",
    "import time,datetime\n",
    "import os\n",
    "import json\n",
    "%matplotlib inline"
   ]
  },
  {
   "cell_type": "code",
   "execution_count": 2,
   "metadata": {
    "collapsed": true
   },
   "outputs": [],
   "source": [
    "findzip = ZipcodeSearchEngine()"
   ]
  },
  {
   "cell_type": "code",
   "execution_count": 4,
   "metadata": {
    "collapsed": true
   },
   "outputs": [],
   "source": [
    "historical_data = pd.read_csv('clean_train_data.csv')"
   ]
  },
  {
   "cell_type": "code",
   "execution_count": 5,
   "metadata": {},
   "outputs": [
    {
     "data": {
      "text/html": [
       "<div>\n",
       "<style>\n",
       "    .dataframe thead tr:only-child th {\n",
       "        text-align: right;\n",
       "    }\n",
       "\n",
       "    .dataframe thead th {\n",
       "        text-align: left;\n",
       "    }\n",
       "\n",
       "    .dataframe tbody tr th {\n",
       "        vertical-align: top;\n",
       "    }\n",
       "</style>\n",
       "<table border=\"1\" class=\"dataframe\">\n",
       "  <thead>\n",
       "    <tr style=\"text-align: right;\">\n",
       "      <th></th>\n",
       "      <th>Unnamed: 0</th>\n",
       "      <th>day_interval</th>\n",
       "      <th>distance</th>\n",
       "      <th>dropoff_date</th>\n",
       "      <th>dropoff_datetime</th>\n",
       "      <th>dropoff_hour</th>\n",
       "      <th>dropoff_latitude</th>\n",
       "      <th>dropoff_longitude</th>\n",
       "      <th>dropoff_zipcode</th>\n",
       "      <th>fare_amount</th>\n",
       "      <th>...</th>\n",
       "      <th>surcharge</th>\n",
       "      <th>tip_amount</th>\n",
       "      <th>tolls_amount</th>\n",
       "      <th>total_amount</th>\n",
       "      <th>trip_distance</th>\n",
       "      <th>trip_time_in_secs</th>\n",
       "      <th>vendor_id</th>\n",
       "      <th>waiting_penalty</th>\n",
       "      <th>waiting_time</th>\n",
       "      <th>weather</th>\n",
       "    </tr>\n",
       "  </thead>\n",
       "  <tbody>\n",
       "    <tr>\n",
       "      <th>0</th>\n",
       "      <td>186987.0</td>\n",
       "      <td>2</td>\n",
       "      <td>10.418191</td>\n",
       "      <td>2013-01-13</td>\n",
       "      <td>2013-01-13 20:58:00</td>\n",
       "      <td>20</td>\n",
       "      <td>40.793388</td>\n",
       "      <td>-73.972809</td>\n",
       "      <td>10025</td>\n",
       "      <td>27.0</td>\n",
       "      <td>...</td>\n",
       "      <td>0.5</td>\n",
       "      <td>5.5</td>\n",
       "      <td>4.8</td>\n",
       "      <td>38.3</td>\n",
       "      <td>9.06</td>\n",
       "      <td>1200</td>\n",
       "      <td>VTS</td>\n",
       "      <td>0.000000</td>\n",
       "      <td>0.000000</td>\n",
       "      <td>Rain</td>\n",
       "    </tr>\n",
       "    <tr>\n",
       "      <th>1</th>\n",
       "      <td>136205.0</td>\n",
       "      <td>2</td>\n",
       "      <td>0.376856</td>\n",
       "      <td>2013-01-13</td>\n",
       "      <td>2013-01-13 21:10:00</td>\n",
       "      <td>21</td>\n",
       "      <td>40.782097</td>\n",
       "      <td>-73.978867</td>\n",
       "      <td>10024</td>\n",
       "      <td>3.5</td>\n",
       "      <td>...</td>\n",
       "      <td>0.5</td>\n",
       "      <td>0.0</td>\n",
       "      <td>0.0</td>\n",
       "      <td>4.5</td>\n",
       "      <td>0.44</td>\n",
       "      <td>120</td>\n",
       "      <td>VTS</td>\n",
       "      <td>0.029670</td>\n",
       "      <td>21.362104</td>\n",
       "      <td>Rain</td>\n",
       "    </tr>\n",
       "    <tr>\n",
       "      <th>2</th>\n",
       "      <td>114412.0</td>\n",
       "      <td>2</td>\n",
       "      <td>0.996570</td>\n",
       "      <td>2013-01-13</td>\n",
       "      <td>2013-01-13 21:35:00</td>\n",
       "      <td>21</td>\n",
       "      <td>40.751007</td>\n",
       "      <td>-73.978104</td>\n",
       "      <td>10168</td>\n",
       "      <td>4.5</td>\n",
       "      <td>...</td>\n",
       "      <td>0.5</td>\n",
       "      <td>0.0</td>\n",
       "      <td>0.0</td>\n",
       "      <td>5.5</td>\n",
       "      <td>0.65</td>\n",
       "      <td>240</td>\n",
       "      <td>VTS</td>\n",
       "      <td>0.691434</td>\n",
       "      <td>497.832494</td>\n",
       "      <td>Rain</td>\n",
       "    </tr>\n",
       "    <tr>\n",
       "      <th>3</th>\n",
       "      <td>148407.0</td>\n",
       "      <td>2</td>\n",
       "      <td>4.608048</td>\n",
       "      <td>2013-01-13</td>\n",
       "      <td>2013-01-13 21:46:00</td>\n",
       "      <td>21</td>\n",
       "      <td>40.717236</td>\n",
       "      <td>-74.003563</td>\n",
       "      <td>10278</td>\n",
       "      <td>8.5</td>\n",
       "      <td>...</td>\n",
       "      <td>0.5</td>\n",
       "      <td>1.0</td>\n",
       "      <td>0.0</td>\n",
       "      <td>10.5</td>\n",
       "      <td>2.28</td>\n",
       "      <td>420</td>\n",
       "      <td>VTS</td>\n",
       "      <td>2.600077</td>\n",
       "      <td>1872.055354</td>\n",
       "      <td>Rain</td>\n",
       "    </tr>\n",
       "    <tr>\n",
       "      <th>4</th>\n",
       "      <td>114616.0</td>\n",
       "      <td>2</td>\n",
       "      <td>1.231572</td>\n",
       "      <td>2013-01-13</td>\n",
       "      <td>2013-01-13 22:15:00</td>\n",
       "      <td>22</td>\n",
       "      <td>40.739117</td>\n",
       "      <td>-73.987694</td>\n",
       "      <td>10010</td>\n",
       "      <td>4.5</td>\n",
       "      <td>...</td>\n",
       "      <td>0.5</td>\n",
       "      <td>1.0</td>\n",
       "      <td>0.0</td>\n",
       "      <td>6.5</td>\n",
       "      <td>0.91</td>\n",
       "      <td>180</td>\n",
       "      <td>VTS</td>\n",
       "      <td>4.437344</td>\n",
       "      <td>3194.887668</td>\n",
       "      <td>Rain</td>\n",
       "    </tr>\n",
       "  </tbody>\n",
       "</table>\n",
       "<p>5 rows × 38 columns</p>\n",
       "</div>"
      ],
      "text/plain": [
       "   Unnamed: 0  day_interval   distance dropoff_date     dropoff_datetime  \\\n",
       "0    186987.0             2  10.418191   2013-01-13  2013-01-13 20:58:00   \n",
       "1    136205.0             2   0.376856   2013-01-13  2013-01-13 21:10:00   \n",
       "2    114412.0             2   0.996570   2013-01-13  2013-01-13 21:35:00   \n",
       "3    148407.0             2   4.608048   2013-01-13  2013-01-13 21:46:00   \n",
       "4    114616.0             2   1.231572   2013-01-13  2013-01-13 22:15:00   \n",
       "\n",
       "   dropoff_hour  dropoff_latitude  dropoff_longitude  dropoff_zipcode  \\\n",
       "0            20         40.793388         -73.972809            10025   \n",
       "1            21         40.782097         -73.978867            10024   \n",
       "2            21         40.751007         -73.978104            10168   \n",
       "3            21         40.717236         -74.003563            10278   \n",
       "4            22         40.739117         -73.987694            10010   \n",
       "\n",
       "   fare_amount   ...    surcharge tip_amount  tolls_amount  total_amount  \\\n",
       "0         27.0   ...          0.5        5.5           4.8          38.3   \n",
       "1          3.5   ...          0.5        0.0           0.0           4.5   \n",
       "2          4.5   ...          0.5        0.0           0.0           5.5   \n",
       "3          8.5   ...          0.5        1.0           0.0          10.5   \n",
       "4          4.5   ...          0.5        1.0           0.0           6.5   \n",
       "\n",
       "  trip_distance trip_time_in_secs vendor_id  waiting_penalty  waiting_time  \\\n",
       "0          9.06              1200       VTS         0.000000      0.000000   \n",
       "1          0.44               120       VTS         0.029670     21.362104   \n",
       "2          0.65               240       VTS         0.691434    497.832494   \n",
       "3          2.28               420       VTS         2.600077   1872.055354   \n",
       "4          0.91               180       VTS         4.437344   3194.887668   \n",
       "\n",
       "   weather  \n",
       "0     Rain  \n",
       "1     Rain  \n",
       "2     Rain  \n",
       "3     Rain  \n",
       "4     Rain  \n",
       "\n",
       "[5 rows x 38 columns]"
      ]
     },
     "execution_count": 5,
     "metadata": {},
     "output_type": "execute_result"
    }
   ],
   "source": [
    "historical_data.head()"
   ]
  },
  {
   "cell_type": "code",
   "execution_count": 6,
   "metadata": {},
   "outputs": [
    {
     "data": {
      "text/plain": [
       "Index(['Unnamed: 0', 'day_interval', 'distance', 'dropoff_date',\n",
       "       'dropoff_datetime', 'dropoff_hour', 'dropoff_latitude',\n",
       "       'dropoff_longitude', 'dropoff_zipcode', 'fare_amount', 'hack_license',\n",
       "       'medallion', 'mta_tax', 'passenger_count', 'payment_type',\n",
       "       'pickup_date', 'pickup_datetime', 'pickup_day', 'pickup_hour',\n",
       "       'pickup_latitude', 'pickup_longitude', 'pickup_minute', 'pickup_time',\n",
       "       'pickup_weekday', 'pickup_zipcode', 'rate_code', 'speed',\n",
       "       'store_and_fwd_flag', 'surcharge', 'tip_amount', 'tolls_amount',\n",
       "       'total_amount', 'trip_distance', 'trip_time_in_secs', 'vendor_id',\n",
       "       'waiting_penalty', 'waiting_time', 'weather'],\n",
       "      dtype='object')"
      ]
     },
     "execution_count": 6,
     "metadata": {},
     "output_type": "execute_result"
    }
   ],
   "source": [
    "historical_data.keys()"
   ]
  },
  {
   "cell_type": "markdown",
   "metadata": {},
   "source": [
    "## Best Revenue from Historical Data"
   ]
  },
  {
   "cell_type": "code",
   "execution_count": 7,
   "metadata": {
    "collapsed": true
   },
   "outputs": [],
   "source": [
    "best_revenue = historical_data.groupby(['hack_license','pickup_date'])['total_amount'].sum()"
   ]
  },
  {
   "cell_type": "code",
   "execution_count": 8,
   "metadata": {},
   "outputs": [
    {
     "data": {
      "text/plain": [
       "1959.2000000000003"
      ]
     },
     "execution_count": 8,
     "metadata": {},
     "output_type": "execute_result"
    }
   ],
   "source": [
    "np.max(best_revenue.reset_index()['total_amount'])"
   ]
  },
  {
   "cell_type": "markdown",
   "metadata": {},
   "source": [
    "## Preprocess"
   ]
  },
  {
   "cell_type": "code",
   "execution_count": 9,
   "metadata": {
    "collapsed": true
   },
   "outputs": [],
   "source": [
    "historical_data[\"dropoff_minute\"] = pd.to_datetime(historical_data[\"dropoff_datetime\"]).apply(lambda x: x.minute)\n",
    "historical_data[\"dropoff_time\"] =historical_data[\"dropoff_hour\"] + (historical_data[\"dropoff_minute\"] / 60)"
   ]
  },
  {
   "cell_type": "markdown",
   "metadata": {},
   "source": [
    "## Reinforcement Model"
   ]
  },
  {
   "cell_type": "code",
   "execution_count": 10,
   "metadata": {
    "collapsed": true
   },
   "outputs": [],
   "source": [
    "class TaxiWorld():\n",
    "    def __init__(self):\n",
    "        self.waiting_penalty = 5.00\n",
    "        pass\n",
    "                \n",
    "    def getReward(self, row):\n",
    "        if row['waiting_time']/3600<=2:\n",
    "            return row['total_amount'] - row['waiting_time']/3600*self.waiting_penalty\n",
    "        else:\n",
    "            return row['total_amount']\n",
    "        \n",
    "    \n",
    "    def set_waiting_penalty(self, penalty):\n",
    "        self.waiting_penalty = penalty\n",
    "        \n",
    "    def getState(self):\n",
    "        print('Current State')\n",
    "        return self.s\n",
    "    \n",
    "    def setState(self, s):\n",
    "        self.s = s\n",
    "        \n",
    "    def getStateSize(self, trip_and_fare):\n",
    "        return len(trip_and_fare['zip_code'].unique())\n",
    "    \n",
    "    def getZipCodes(self, trip_and_fare):\n",
    "        return self.zip_codes\n",
    "    \n",
    "    def getActionSize(self):\n",
    "        return len(self.actions)\n",
    "\n",
    "    def nextAction(self, s):\n",
    "        print('Calculate Next Action based on state')\n",
    "        \n",
    "    def check_Q_table(self, s):\n",
    "        if s not in self.Q:\n",
    "            self.Q[s] = dict((action, 0.0) for action in self.actions)\n",
    "            "
   ]
  },
  {
   "cell_type": "code",
   "execution_count": 11,
   "metadata": {
    "collapsed": true
   },
   "outputs": [],
   "source": [
    "env = TaxiWorld()"
   ]
  },
  {
   "cell_type": "code",
   "execution_count": 132,
   "metadata": {},
   "outputs": [],
   "source": [
    "class TaxiRevenue:\n",
    "    def __init__(self, env, penalty=5.0, roaming_penalty=10, const=1000, Q_table_file_name='saved_Q.json'):\n",
    "        self.env = env\n",
    "        self.penalty=penalty\n",
    "        self.roaming_penalty = roaming_penalty\n",
    "        self.const=const\n",
    "        self.env.set_waiting_penalty(penalty)\n",
    "        self.Q = dict()\n",
    "        self.dropPickMap= dict()\n",
    "        self.Q_table_file_name = Q_table_file_name\n",
    "        self.load_Q()\n",
    "        \n",
    "    def load_Q(self):\n",
    "        if os.path.isfile(self.Q_table_file_name):\n",
    "            with open(self.Q_table_file_name, 'r') as fp:\n",
    "                self.Q = json.load(fp)\n",
    "    \n",
    "    def store_Q(self):\n",
    "        with open(self.Q_table_file_name, 'w') as fp:\n",
    "            json.dump(self.Q, fp)\n",
    "        \n",
    "    def generate_key(self, row):\n",
    "        return str(row['pickup_zipcode']) + '_'  + str(row['pickup_weekday']) + '_' + str(row['day_interval']) + '_' + str(row['weather'])\n",
    "    \n",
    "    def get_tuples(self, key):\n",
    "        tuples = key.split('_')\n",
    "        return {'pickup_zipcode': tuples[0],\n",
    "                   'pickup_weekday': tuples[1],\n",
    "                   'day_interval': tuples[2],\n",
    "                   'weather': tuples[3]}\n",
    "    \n",
    "    def calculate_penalty(self, pickup_tuple, taxidata):\n",
    "        if int(pickup_tuple['pickup_zipcode'])!=taxidata['dropoff_zipcode']:\n",
    "            dis=self.find_distance(taxidata['dropoff_zipcode'], int(pickup_tuple['pickup_zipcode']))\n",
    "            time= dis/taxidata['speed']\n",
    "            return time*self.roaming_penalty\n",
    "        else: \n",
    "            return 0\n",
    "                \n",
    "        \n",
    "    def get_meantriptime(self, data):\n",
    "        map=historical_data.groupby(['pickup_zipcode', 'dropoff_zipcode'])['trip_time_in_secs'].mean()\n",
    "        return map.reset_index()\n",
    "    \n",
    "    def isValidPickup(self, taxidata, dropPickMap):\n",
    "        key=self.generate_key(taxidata)\n",
    "        if key in dropPickMap:\n",
    "            return True\n",
    "        else:\n",
    "            return False\n",
    "        \n",
    "    def generate_dropPickMap(self, data):\n",
    "        for index,row in data.T.iteritems():\n",
    "            key = self.generate_key(row)\n",
    "            if key not in self.dropPickMap:\n",
    "                self.dropPickMap[key] = []\n",
    "            if str([str(row['dropoff_zipcode']), row['total_amount']]) not in self.dropPickMap[key]:\n",
    "                self.dropPickMap[key].append([str(row['dropoff_zipcode']), row['total_amount']])\n",
    "        return self.dropPickMap\n",
    "    \n",
    "    def getDropoff(self, key, dropPickMap):\n",
    "        posDropoff= dropPickMap[key]\n",
    "#         print(\"dropoffs\",posDropoff )\n",
    "        rand=randint(0, len(posDropoff)-1)\n",
    "        return posDropoff[rand][0], posDropoff[rand][1]\n",
    "         \n",
    "    def getDayInterval(self,hour):\n",
    "        if hour>=6 and hour<12:\n",
    "            return 0\n",
    "        elif hour>=12 and hour<18:\n",
    "            return 1\n",
    "        elif hour>=18 and hour<24:\n",
    "            return 2\n",
    "        else:\n",
    "            return 3\n",
    "        \n",
    "    def getAction(self, taxidata, _Q,dropPickMap):\n",
    "        best_reward=0\n",
    "        #best_key = 0\n",
    "        s = self.generate_key(taxidata)\n",
    "        best_key=s\n",
    "        #print(taxidata)\n",
    "        if s in _Q:\n",
    "            best_reward=_Q[s][0]*_Q[s][1]/self.const\n",
    "        \n",
    "        zipcode=findzip.by_zipcode(taxidata['dropoff_zipcode'])\n",
    "        temp=taxidata\n",
    "        possible_pickup=[]\n",
    "        returns=10\n",
    "        radius=5\n",
    "        while not possible_pickup:\n",
    "            pickup_res = findzip.by_coordinate(zipcode['Latitude'], zipcode['Longitude'], radius=5, returns=returns)\n",
    "            for i in range(len(pickup_res)):\n",
    "                \n",
    "                temp['pickup_zipcode']=pickup_res[i]['Zipcode']\n",
    "                dis=self.find_distance(temp['dropoff_zipcode'], temp['pickup_zipcode'])\n",
    "                time= dis/temp['speed']\n",
    "                day_interval=self.getDayInterval(temp['dropoff_time']+time)\n",
    "                temp['day_interval']= day_interval\n",
    "                #print(temp['pickup_zipcode'])\n",
    "                if self.isValidPickup(temp, dropPickMap):\n",
    "                    possible_pickup.append(pickup_res[i]['Zipcode'])\n",
    "\n",
    "#             print(\"valid pickup\", possible_pickup)\n",
    "            returns+=10\n",
    "            radius+=1\n",
    "        \n",
    "        for key in _Q:\n",
    "            tuples=self.get_tuples(key)\n",
    "               \n",
    "            \n",
    "            if tuples['pickup_zipcode'] in possible_pickup and tuples['weather']==str(taxidata['weather']) and tuples['pickup_weekday']==str(taxidata['pickup_weekday']) and tuples['day_interval']==str(taxidata['day_interval']):\n",
    "            \n",
    "                tempReward=_Q[key][0]*_Q[key][1]/self.const-self.calculate_penalty(tuples, taxidata)\n",
    "                \n",
    "                if tempReward>best_reward:\n",
    "                    #print(\"in temp reward: \",tempReward)\n",
    "                    #print(\"in best reward: \",best_reward)\n",
    "                    best_key=key\n",
    "                    best_reward= tempReward\n",
    "                    #print(self.get_tuples(best_key))\n",
    "                    \n",
    "        return best_key\n",
    "    \n",
    "    def build_Q_table(self, data):\n",
    "        for index,row in data.T.iteritems():\n",
    "            key = self.generate_key(row)\n",
    "            reward = self.env.getReward(row)\n",
    "            if key not in self.Q:\n",
    "                self.Q[key] = [reward,1]\n",
    "            else:\n",
    "                self.Q[key] = [self.Q[key][0] +reward, self.Q[key][1] + 1]\n",
    "    \n",
    "    def get_Q_table(self):\n",
    "        return self.Q\n",
    "                \n",
    "    def greedy(self, s):\n",
    "        return np.argmax(self.Q[s[0]]) \n",
    "\n",
    "    def epsilon_greed(self, epsilon, s):\n",
    "        if np.random.rand() < epsilon:\n",
    "            return np.random.randint(self.n_a)\n",
    "        else:\n",
    "            return self.greedy(s)\n",
    "        \n",
    "    def train(self, trip_and_fare, Q_table_file_name =  'saved_Q.json'):\n",
    "        self.Q_table_file_name = Q_table_file_name\n",
    "        self.build_Q_table(trip_and_fare)\n",
    "        self.store_Q()\n",
    "        return self.Q\n",
    "        \n",
    "    def distance(self, lat1, lon1, lat2, lon2):\n",
    "        \"\"\"calculates the Manhattan distance between 2 points\n",
    "            using their coordinates\n",
    "\n",
    "        Parameters\n",
    "        ----------\n",
    "        lat1: float\n",
    "            latitude of first point\n",
    "\n",
    "        lon1: float\n",
    "            longitude of first point\n",
    "\n",
    "        lat2: float\n",
    "            latitude of second point\n",
    "\n",
    "        lon2: float\n",
    "            longitude of second point\n",
    "\n",
    "        Returns\n",
    "        -------\n",
    "        d: float\n",
    "            The Manhattan distance between the two points in kilometers\n",
    "\n",
    "        \"\"\"\n",
    "\n",
    "        d = haversine((lat1, lon1), (lat2, lon1)) + haversine((lat2, lon1), (lat2, lon2))\n",
    "        return d\n",
    "    \n",
    "    def find_distance(self, zip1, zip2):\n",
    "        zipcode1=findzip.by_zipcode(zip1)\n",
    "        zipcode2=findzip.by_zipcode(zip2)\n",
    "        dis=self.distance(zipcode1['Latitude'], zipcode1['Longitude'],zipcode2['Latitude'], zipcode2['Longitude'])\n",
    "        return dis\n",
    "    \n",
    "    def get_random_driver_data(self, taxidata):\n",
    "        # Get data of a random driver for a day\n",
    "        total_driver = taxidata['hack_license'].unique()\n",
    "        driver_index = randint(0, (total_driver.shape[0]-1))\n",
    "        driver_ID = total_driver[driver_index]\n",
    "        selected_driver_data = copy(taxidata[taxidata['hack_license'] == driver_ID])\n",
    "       \n",
    "        available_day = selected_driver_data['pickup_day'].unique()\n",
    "        day_num = available_day[randint(0, (available_day.shape[0]-1))]\n",
    "        selected_driver_data = selected_driver_data[selected_driver_data['pickup_day'] == day_num]\n",
    "        selected_driver_data = selected_driver_data.sort_values(by=['pickup_datetime'], ascending=True)        \n",
    "        return selected_driver_data\n",
    "    \n",
    "    def get_driver_income(self, taxidata):\n",
    "        pass\n",
    "        # Find a driver, and get his income for 12 hour\n",
    "        var = 0                    \n",
    "        while var < 30:   \n",
    "            var = var +1;\n",
    "            driver_data = self.get_random_driver_data(taxidata)\n",
    "        #    # Keep in mind, very few drivers drive both late-night and morning. So not much data\n",
    "        #     if (driver_data.iloc[0]['day_interval']==0 | driver_data.iloc[0]['day_interval']==3):\n",
    "            # If we consider only morning shift\n",
    "            if (driver_data.iloc[0]['day_interval']==0):\n",
    "                break\n",
    "        # Consider only the 1st 12 hours\n",
    "        starting_dropoff_hour = driver_data.iloc[0]['dropoff_time']\n",
    "        driver_data =driver_data[driver_data['dropoff_time'] <= (starting_dropoff_hour +12)]\n",
    "\n",
    "        # print(driver_data)\n",
    "        total_income = driver_data['total_amount'].sum()\n",
    "        return driver_data.iloc[0], total_income\n",
    "    \n",
    "    def test(self, taxidata, _Q, dropPickMap,meanTrip, maxstep=1000):\n",
    "        # TODO: Add your test routine that exmines learned policy\n",
    "        #      Using the learned policy, generate the trajectory of \n",
    "        curr_dropoff_hour=taxidata['dropoff_time']\n",
    "        #curr_pickup=taxidata['dropoff_time']\n",
    "        end_time=curr_dropoff_hour+ 12\n",
    "        \n",
    "        itinerary = []\n",
    "        rewards = []\n",
    "        while curr_dropoff_hour <= end_time:\n",
    "            \n",
    "            best_key=self.getAction( taxidata, _Q,dropPickMap)\n",
    "            pickup_tuple= self.get_tuples(best_key)\n",
    "            \n",
    "            if int(pickup_tuple['pickup_zipcode'])!=taxidata['dropoff_zipcode']:\n",
    "                dis=self.find_distance(taxidata['dropoff_zipcode'], int(pickup_tuple['pickup_zipcode']))\n",
    "                curr_dropoff_hour+= dis/taxidata['speed']\n",
    "                print(\"roaming time\", str(datetime.timedelta(seconds = dis/taxidata['speed']*3600)) )\n",
    "                \n",
    "            dropoff, reward=self.getDropoff(best_key, dropPickMap)\n",
    "                \n",
    "            print(\"going from \",pickup_tuple['pickup_zipcode'], \" to \",  dropoff, \" at \", time.strftime('%H:%M:%S', time.localtime(curr_dropoff_hour*3600)), ' fare cost: ', reward)\n",
    "            trace = {\n",
    "                'roaming_time': str(datetime.timedelta(seconds = dis/taxidata['speed']*3600)),\n",
    "                'start_position': pickup_tuple['pickup_zipcode'],\n",
    "                'destination': dropoff,\n",
    "                'current_time': time.strftime('%H:%M:%S', time.localtime(curr_dropoff_hour*3600))\n",
    "            }\n",
    "            itinerary.append(trace)\n",
    "            rewards.append(reward)\n",
    "            #curr_dropoff=curr_dropoff+meanTrip[meanTrip['pickup_zipcode']]\n",
    "            #print(pickup_tuple['pickup_zipcode'])\n",
    "            temptrip = meanTrip[(meanTrip['pickup_zipcode']==int(pickup_tuple['pickup_zipcode'])) & (meanTrip['dropoff_zipcode']==int(dropoff))]\n",
    "            meanTripTime= temptrip.iloc[0]['trip_time_in_secs']\n",
    "            #print(meanTripTime)\n",
    "            \n",
    "            curr_dropoff_hour=curr_dropoff_hour+meanTripTime/3600\n",
    "            taxidata['dropoff_zipcode']=int(dropoff)\n",
    "            taxidata['day_interval']=self.getDayInterval(curr_dropoff_hour)\n",
    "        print('Done')\n",
    "        return itinerary, rewards"
   ]
  },
  {
   "cell_type": "markdown",
   "metadata": {},
   "source": [
    "## Train the Model"
   ]
  },
  {
   "cell_type": "code",
   "execution_count": 133,
   "metadata": {
    "collapsed": true
   },
   "outputs": [],
   "source": [
    "taxiRevenue = TaxiRevenue(env, 5.0, 10, 1000,  'saved_Q.json')"
   ]
  },
  {
   "cell_type": "code",
   "execution_count": 273,
   "metadata": {
    "collapsed": true
   },
   "outputs": [],
   "source": [
    "# _Q = taxiRevenue.train(historical_data)"
   ]
  },
  {
   "cell_type": "code",
   "execution_count": 70,
   "metadata": {},
   "outputs": [
    {
     "data": {
      "text/plain": [
       "5496"
      ]
     },
     "execution_count": 70,
     "metadata": {},
     "output_type": "execute_result"
    }
   ],
   "source": [
    "_Q = taxiRevenue.get_Q_table()\n",
    "len(_Q)"
   ]
  },
  {
   "cell_type": "markdown",
   "metadata": {},
   "source": [
    "## Generate Test Data"
   ]
  },
  {
   "cell_type": "code",
   "execution_count": 20,
   "metadata": {
    "collapsed": true
   },
   "outputs": [],
   "source": [
    "dropPickMap=taxiRevenue.generate_dropPickMap(historical_data)\n",
    "meanTrip= taxiRevenue.get_meantriptime(historical_data)"
   ]
  },
  {
   "cell_type": "code",
   "execution_count": 44,
   "metadata": {
    "collapsed": true
   },
   "outputs": [],
   "source": [
    "meanTrip = pd.read_csv('meanTrip.csv')\n",
    "with open('dropPickMap.json', 'r') as fp:\n",
    "        dropPickMap = json.load(fp)"
   ]
  },
  {
   "cell_type": "markdown",
   "metadata": {},
   "source": [
    "### Find Revenue in Actual data"
   ]
  },
  {
   "cell_type": "code",
   "execution_count": null,
   "metadata": {
    "collapsed": true
   },
   "outputs": [],
   "source": [
    "data_set = copy(historical_data)"
   ]
  },
  {
   "cell_type": "code",
   "execution_count": 136,
   "metadata": {},
   "outputs": [
    {
     "data": {
      "text/plain": [
       "Unnamed: 0                                         NaN\n",
       "day_interval                                         0\n",
       "distance                                       3.76154\n",
       "dropoff_date                                2013-01-03\n",
       "dropoff_datetime                   2013-01-03 06:57:00\n",
       "dropoff_hour                                         6\n",
       "dropoff_latitude                                40.755\n",
       "dropoff_longitude                             -73.9739\n",
       "dropoff_zipcode                                  10167\n",
       "fare_amount                                        7.5\n",
       "hack_license          8EAD34AF4726E30271D0FC966CE1DCAC\n",
       "medallion             DA9EA8C2AF1D956B483697B6590CF793\n",
       "mta_tax                                            0.5\n",
       "passenger_count                                      3\n",
       "payment_type                                       CRD\n",
       "pickup_date                                 2013-01-03\n",
       "pickup_datetime                    2013-01-03 06:52:00\n",
       "pickup_day                                           3\n",
       "pickup_hour                                          6\n",
       "pickup_latitude                                 40.732\n",
       "pickup_longitude                              -73.9883\n",
       "pickup_minute                                       52\n",
       "pickup_time                                    6.86667\n",
       "pickup_weekday                                       3\n",
       "pickup_zipcode                                   10003\n",
       "rate_code                                            1\n",
       "speed                                          45.1385\n",
       "store_and_fwd_flag                                 NaN\n",
       "surcharge                                            0\n",
       "tip_amount                                         1.5\n",
       "tolls_amount                                         0\n",
       "total_amount                                       9.5\n",
       "trip_distance                                     1.94\n",
       "trip_time_in_secs                                  300\n",
       "vendor_id                                          VTS\n",
       "waiting_penalty                                      0\n",
       "waiting_time                                         0\n",
       "weather                                           Rain\n",
       "dropoff_minute                                      57\n",
       "dropoff_time                                      6.95\n",
       "Name: 1502291, dtype: object"
      ]
     },
     "execution_count": 136,
     "metadata": {},
     "output_type": "execute_result"
    }
   ],
   "source": [
    "initial_row, income = taxiRevenue.get_driver_income(data_set)\n",
    "initial_row"
   ]
  },
  {
   "cell_type": "code",
   "execution_count": 137,
   "metadata": {},
   "outputs": [
    {
     "data": {
      "text/plain": [
       "385.8"
      ]
     },
     "execution_count": 137,
     "metadata": {},
     "output_type": "execute_result"
    }
   ],
   "source": [
    "income"
   ]
  },
  {
   "cell_type": "markdown",
   "metadata": {},
   "source": [
    "## Test the Model"
   ]
  },
  {
   "cell_type": "code",
   "execution_count": null,
   "metadata": {},
   "outputs": [
    {
     "name": "stdout",
     "output_type": "stream",
     "text": [
      "roaming time 0:04:44.183710\n",
      "going from  10003  to  10038  at  02:01:44  fare cost:  12.5\n",
      "roaming time 0:01:42.071191\n",
      "going from  10007  to  10003  at  02:16:07  fare cost:  12.0\n",
      "roaming time 0:03:17.414332\n",
      "going from  10119  to  10003  at  02:29:51  fare cost:  8.9\n",
      "roaming time 0:03:17.414332\n",
      "going from  10119  to  10112  at  02:41:11  fare cost:  7.0\n",
      "roaming time 0:00:31.556141\n",
      "going from  10020  to  10009  at  02:48:51  fare cost:  17.0\n",
      "roaming time 0:01:50.328726\n",
      "going from  10010  to  10003  at  03:07:21  fare cost:  9.37\n",
      "roaming time 0:03:17.414332\n",
      "going from  10119  to  10278  at  03:15:47  fare cost:  8.0\n",
      "roaming time 0:02:10.007520\n",
      "going from  10012  to  10111  at  03:31:45  fare cost:  14.0\n",
      "roaming time 0:00:43.468243\n",
      "going from  10020  to  10111  at  03:46:44  fare cost:  7.5\n",
      "roaming time 0:00:43.468243\n",
      "going from  10020  to  10019  at  03:53:12  fare cost:  7.0\n",
      "roaming time 0:02:16.396596\n",
      "going from  10020  to  11371  at  04:00:54  fare cost:  47.18\n",
      "going from  11371  to  10128  at  04:27:16  fare cost:  32.8\n",
      "roaming time 0:01:02.746928\n",
      "going from  10028  to  10044  at  04:44:17  fare cost:  15.0\n",
      "roaming time 0:02:12.942301\n",
      "going from  10021  to  10006  at  04:55:03  fare cost:  22.0\n",
      "roaming time 0:02:15.156732\n",
      "going from  10013  to  10013  at  05:15:51  fare cost:  5.0\n",
      "roaming time 0:02:11.496453\n",
      "going from  10014  to  10010  at  05:22:47  fare cost:  6.6\n",
      "roaming time 0:02:58.557178\n",
      "going from  10119  to  10020  at  05:34:27  fare cost:  6.0\n",
      "going from  10020  to  10024  at  05:42:42  fare cost:  9.0\n",
      "roaming time 0:03:50.537556\n",
      "going from  10028  to  10128  at  05:56:03  fare cost:  7.5\n",
      "roaming time 0:01:02.746928\n",
      "going from  10028  to  10075  at  06:01:28  fare cost:  4.5\n",
      "roaming time 0:00:58.352292\n",
      "going from  10028  to  10022  at  06:06:50  fare cost:  8.0\n",
      "roaming time 0:01:34.839901\n",
      "going from  10065  to  11201  at  06:17:24  fare cost:  26.0\n",
      "roaming time 0:08:55.033683\n",
      "going from  10173  to  10010  at  06:46:11  fare cost:  7.5\n",
      "roaming time 0:02:58.557178\n",
      "going from  10119  to  10018  at  06:56:46  fare cost:  6.0\n"
     ]
    }
   ],
   "source": [
    "# itinerary, rewards = taxiRevenue.test(historical_data.iloc[333400], _Q, dropPickMap, meanTrip)\n",
    "itinerary, rewards = taxiRevenue.test(initial_row, _Q, dropPickMap, meanTrip)"
   ]
  },
  {
   "cell_type": "code",
   "execution_count": null,
   "metadata": {
    "scrolled": true
   },
   "outputs": [],
   "source": [
    "from plotly.offline import init_notebook_mode, iplot\n",
    "from IPython.display import display, HTML\n",
    "plt.figure(figsize=(20,20))\n",
    "\n",
    "# Set the limits of the map to the minimum and maximum coordinates\n",
    "lat_min = 40.6\n",
    "lat_max = 40.9\n",
    "lon_min = -74.2\n",
    "lon_max = -73.7\n",
    "\n",
    "# Set the center of the map\n",
    "cent_lat = (lat_min + lat_max) / 2\n",
    "cent_lon = (lon_min + lon_max) / 2\n",
    "\n",
    "map = Basemap(llcrnrlon=lon_min, llcrnrlat=lat_min, urcrnrlon=lon_max, urcrnrlat=lat_max, resolution='h', projection='tmerc', lat_0 = cent_lat, lon_0 = cent_lon, area_thresh = 0.1)\n",
    "\n",
    "map.drawmapboundary(fill_color='aqua')\n",
    "map.fillcontinents(color='lightgray', lake_color='aqua')\n",
    "map.drawcountries(linewidth=2)\n",
    "map.drawstates(color='b')\n",
    "\n",
    "for trace in itinerary:\n",
    "    long = []\n",
    "    lat = []\n",
    "    start_position = trace['start_position']\n",
    "    res = findzip.by_zipcode(start_position)\n",
    "    long.append(res['Longitude'])\n",
    "    lat.append(res['Latitude'])\n",
    "    \n",
    "    destination = trace['destination']\n",
    "    res = findzip.by_zipcode(destination)\n",
    "    long.append(res['Longitude'])\n",
    "    lat.append(res['Latitude'])\n",
    "    x, y = map(long, lat)\n",
    "    plt.plot(x, y, '-', label=str(start_position)+'->'+str(destination), markersize=10, alpha=0.9)\n",
    "\n",
    "# plt.show()\n",
    "plt.legend()"
   ]
  },
  {
   "cell_type": "code",
   "execution_count": null,
   "metadata": {},
   "outputs": [],
   "source": [
    "np.sum(rewards)"
   ]
  },
  {
   "cell_type": "code",
   "execution_count": null,
   "metadata": {},
   "outputs": [],
   "source": [
    "\n",
    "\n",
    "\n",
    "from plotly.offline import init_notebook_mode, iplot\n",
    "from IPython.display import display, HTML\n",
    "import numpy as np\n",
    "\n",
    "init_notebook_mode(connected=True)\n",
    "\n",
    "long = []\n",
    "lat = []\n",
    "\n",
    "for i in range(len(itinerary)):\n",
    "    src = findzip.by_zipcode(itinerary[i]['start_position'])\n",
    "    dst = findzip.by_zipcode(itinerary[i]['destination'])\n",
    "    long.append({'src':src['Longitude'], 'dst': dst['Longitude']})\n",
    "    lat.append({'src':src['Latitude'], 'dst': dst['Latitude']})\n",
    "\n",
    "data = []\n",
    "frames = []\n",
    "for i in range(len(lat)):\n",
    "    x = np.linspace(long[i]['src'], long[i]['dst'], 100)\n",
    "    m = (lat[i]['src'] - lat[i]['dst'])/(long[i]['src']-long[i]['dst'])\n",
    "    y = m*(x-long[i]['dst']) + lat[i]['dst']\n",
    "\n",
    "    N=10\n",
    "    s=np.linspace(long[i]['src'], long[i]['dst'],N)\n",
    "    xx=s\n",
    "    yy = m*(xx - long[i]['dst']) + lat[i]['dst']\n",
    "\n",
    "\n",
    "    data.append(dict(x=x, y=y, \n",
    "               mode='lines', \n",
    "               line=dict(width=2)\n",
    "              ))\n",
    "    data.append(dict(x=x, y=y, \n",
    "               mode='lines', \n",
    "               line=dict(width=2)\n",
    "              ))\n",
    "\n",
    "\n",
    "    for k in range(N):\n",
    "        frames.append(dict(data=[dict(x=[xx[k]], \n",
    "                            y=[yy[k]], \n",
    "                            mode='markers', \n",
    "                            marker=dict(color='red', size=10)\n",
    "                            )\n",
    "                      ])) \n",
    "lat_min = 40.7\n",
    "lat_max = 40.8\n",
    "lon_min = -74.1\n",
    "lon_max = -73.8\n",
    "layout=dict(xaxis=dict(range=[lon_min, lon_max], autorange=False, zeroline=False),\n",
    "            yaxis=dict(range=[lat_min, lat_max], autorange=False, zeroline=False),\n",
    "            title='Traces for Taxi in a Particular Day', hovermode='closest',\n",
    "            updatemenus= [{'type': 'buttons',\n",
    "                           'buttons': [{'label': 'Play',\n",
    "                                        'method': 'animate',\n",
    "                                        'args': [None]}]}])\n",
    "\n",
    "figure1=dict(data=data, layout=layout,  frames=frames)          \n",
    "iplot(figure1)"
   ]
  },
  {
   "cell_type": "markdown",
   "metadata": {},
   "source": [
    "## Merge Train Data"
   ]
  },
  {
   "cell_type": "code",
   "execution_count": 277,
   "metadata": {},
   "outputs": [
    {
     "name": "stderr",
     "output_type": "stream",
     "text": [
      "C:\\ProgramData\\Anaconda3\\lib\\site-packages\\IPython\\core\\interactiveshell.py:2698: DtypeWarning: Columns (4) have mixed types. Specify dtype option on import or set low_memory=False.\n",
      "  interactivity=interactivity, compiler=compiler, result=result)\n"
     ]
    }
   ],
   "source": [
    "train_data1 = pd.read_csv('clean_data.csv')\n",
    "train_data2 = pd.read_csv('clean_data_2.csv')\n",
    "train_data3 = pd.read_csv('clean_data_3.csv')\n",
    "train_data4 = pd.read_csv('clean_data_4.csv')\n",
    "train_data5 = pd.read_csv('clean_data_5.csv')\n",
    "frames = [train_data1, train_data2, train_data3, train_data4, train_data5]\n",
    "result = pd.concat(frames)\n",
    "result.to_csv('clean_train_data.csv', index=False)"
   ]
  },
  {
   "cell_type": "code",
   "execution_count": 278,
   "metadata": {},
   "outputs": [
    {
     "data": {
      "text/plain": [
       "(2905906, 38)"
      ]
     },
     "execution_count": 278,
     "metadata": {},
     "output_type": "execute_result"
    }
   ],
   "source": [
    "result.shape"
   ]
  },
  {
   "cell_type": "code",
   "execution_count": 37,
   "metadata": {},
   "outputs": [],
   "source": [
    "# with open('dropPickMap.json', 'w') as fp:\n",
    "#         json.dump(dropPickMap, fp)\n",
    "# meanTrip.to_csv('meanTrip.csv', index=False)"
   ]
  },
  {
   "cell_type": "code",
   "execution_count": 38,
   "metadata": {
    "collapsed": true
   },
   "outputs": [],
   "source": [
    "meanTrip = pd.read_csv('meanTrip.csv')\n",
    "with open('dropPickMap.json', 'r') as fp:\n",
    "        dropPickMap = json.load(fp)"
   ]
  },
  {
   "cell_type": "code",
   "execution_count": 62,
   "metadata": {
    "collapsed": true
   },
   "outputs": [],
   "source": [
    "testcases = []"
   ]
  },
  {
   "cell_type": "code",
   "execution_count": 63,
   "metadata": {},
   "outputs": [],
   "source": [
    "testcases.append({'itinerary': itinerary, 'rewards': rewards})"
   ]
  },
  {
   "cell_type": "code",
   "execution_count": 64,
   "metadata": {
    "collapsed": true
   },
   "outputs": [],
   "source": [
    "with open('testcases.json', 'w') as fp:\n",
    "        json.dump(testcases, fp)"
   ]
  },
  {
   "cell_type": "code",
   "execution_count": 65,
   "metadata": {
    "collapsed": true
   },
   "outputs": [],
   "source": [
    "with open('testcases.json', 'r') as fp:\n",
    "        testcases = json.load(fp)"
   ]
  },
  {
   "cell_type": "code",
   "execution_count": null,
   "metadata": {
    "collapsed": true
   },
   "outputs": [],
   "source": []
  }
 ],
 "metadata": {
  "kernelspec": {
   "display_name": "Python 3",
   "language": "python",
   "name": "python3"
  },
  "language_info": {
   "codemirror_mode": {
    "name": "ipython",
    "version": 3
   },
   "file_extension": ".py",
   "mimetype": "text/x-python",
   "name": "python",
   "nbconvert_exporter": "python",
   "pygments_lexer": "ipython3",
   "version": "3.6.3"
  }
 },
 "nbformat": 4,
 "nbformat_minor": 2
}
